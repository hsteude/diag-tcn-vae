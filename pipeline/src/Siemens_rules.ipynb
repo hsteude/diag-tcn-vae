{
 "cells": [
  {
   "cell_type": "markdown",
   "id": "aedd3465-8461-4d9c-9147-9f327b2f11b1",
   "metadata": {},
   "source": [
    "# Siemens Diagnose"
   ]
  },
  {
   "cell_type": "markdown",
   "id": "745d99c6-d98c-406e-910b-a8fb10ff37df",
   "metadata": {},
   "source": [
    "## CBD Default"
   ]
  },
  {
   "cell_type": "markdown",
   "id": "6b81271e-20b4-40d0-8e1d-ac0fbf927dea",
   "metadata": {},
   "source": [
    "### Symbole\n",
    "\n",
    "TUBE_PRE_MAIN AND TUBE_POST_MAIN AND YC14008 AND YS10004 AND YC10001 IMPLIES LevelMainTank_ValueY\n",
    "TUBE_POST_MAIN AND LevelMainTank IMPLIES YC10001_MV_ValueY\n",
    "TUBE_PRE_PUMP AND PL1200 AND PL1100 AND YC1001 IMPLIES PI12002_PV_Out_ValueY\n",
    "TUBE_POST_PUMP AND PL1200 AND PL1100 AND YC14001 IMPLIES PI12003_PV_Out_ValueY\n",
    "TUBE_POST_PUMP AND TUBE_PRE_SMALL_TANKS AND PL1200 AND PL1100 AND YC21001 AND YC22001 AND YC23001 AND FIC14002 AND YC14006 IMPLIES YC14001_MV_ValueY\n",
    "TUBE_PRE_SMALL_TANKS AND YC21001 AND YC22001 AND YC23001 AND YC14001 AND YC14006 IMPLIES FIC14002_MV_ValueY\n",
    "TUBE_PRE_SMALL_TANKS AND YC21001 AND YC22001 AND YC23001 AND YC14001 AND YC14006 IMPLIES FIC14002_PV_Out_ValueY\n",
    "TUBE_PRE_SMALL_TANKS AND YC21001 AND YC22001 AND YC23001 AND YC14001 AND YC14006 IMPLIES FIC14002_SP_ValueY\n",
    "TUBE_PRE_SMALL_TANKS AND YC21001 AND YC22001 AND YC23001 AND YC14001 AND YC14008 IMPLIES YC14006_MV_ValueY\n",
    "TUBE_PRE_SMALL_TANKS AND YC14006 AND YC21001 AND YC22001 AND YC23001 AND YC14001 IMPLIES PI14012_PV_Out_ValueY\n",
    "TUBE_PRE_SMALL_TANKS AND FIC23002 AND YC14006 AND YC21001 AND YC22001 AND YC14001 IMPLIES YC23001_MV_ValueY\n",
    "TUBE_PRE_SMALL_TANKS AND FIC22002 AND YC14006 AND YC21001 AND YC23001 AND YC14001 IMPLIES YC22001_MV_ValueY\n",
    "TUBE_PRE_SMALL_TANKS AND FIC21002 AND YC14006 AND YC23001 AND YC22001 AND YC14001 IMPLIES YC21001_MV_ValueY\n",
    "YC23001 AND YC22001 AND YC21001 AND YC14001 AND YC14006 IMPLIES FIC23002_PV_Out_ValueY\n",
    "YC23001 AND YC22001 AND YC21001 AND YC14001 AND YC14006 IMPLIES FIC23002_MV_ValueY\n",
    "YC23001 AND YC22001 AND YC21001 AND YC14001 AND YC14006 IMPLIES FIC23002_SP_ValueY\n",
    "YC23001 AND YC22001 AND YC21001 AND YC14001 AND YC14006 IMPLIES FIC22002_MV_ValueY\n",
    "YC23001 AND YC22001 AND YC21001 AND YC14001 AND YC14006 IMPLIES FIC22002_PV_Out_ValueY\n",
    "YC23001 AND YC22001 AND YC21001 AND YC14001 AND YC14006 IMPLIES FIC22002_SP_ValueY\n",
    "YC23001 AND YC22001 AND YC21001 AND YC14001 AND YC14006 IMPLIES FIC21002_MV_ValueY\n",
    "YC23001 AND YC22001 AND YC21001 AND YC14001 AND YC14006 IMPLIES FIC21002_PV_Out_ValueY\n",
    "YC23001 AND YC22001 AND YC21001 AND YC14001 AND YC14006 IMPLIES FIC21002_SP_ValueY\n",
    "VE2300 IMPLIES YS23004_Ctrl_ValueY\n",
    "VE2200 IMPLIES YS22004_Ctrl_ValueY\n",
    "VE2100 IMPLIES YS21004_Ctrl_ValueY\n",
    "TUBE_POST_VE2300 AND YS23004 AND YC23001 AND YC23006 IMPLIES LIC23002_MV_ValueY\n",
    "TUBE_POST_VE2300 AND YS23004 AND YC23001 AND YC23006 IMPLIES LIC23002_PV_Out_ValueY\n",
    "TUBE_POST_VE2300 AND YS23004 AND YC23001 AND YC23006 IMPLIES LIC23002_SP_ValueY\n",
    "TUBE_POST_VE2200 AND YS22004 AND YC22001 AND YC22006 IMPLIES LIC22002_MV_ValueY\n",
    "TUBE_POST_VE2200 AND YS22004 AND YC22001 AND YC22006 IMPLIES LIC22002_PV_Out_ValueY\n",
    "TUBE_POST_VE2200 AND YS22004 AND YC22001 AND YC22006 IMPLIES LIC22002_SP_ValueY\n",
    "TUBE_POST_VE2100 AND YS21004 AND YC21001 AND YC21006 IMPLIES LIC21002_MV_ValueY\n",
    "TUBE_POST_VE2100 AND YS21004 AND YC21001 AND YC21006 IMPLIES LIC21002_PV_Out_ValueY\n",
    "TUBE_POST_VE2100 AND YS21004 AND YC21001 AND YC21006 IMPLIES LIC21002_SP_ValueY\n",
    "YC14008 AND YC14006 IMPLIES PIC14007_MV_ValueY\n",
    "YC14008 AND YC14006 IMPLIES PIC14007_PV_Out_ValueY\n",
    "YC14008 AND YC14006 IMPLIES PIC14007_SP_ValueY\n",
    "TUBE_PRE_MAIN AND PIC14007 AND YC14006 IMPLIES YC14008_Ctrl_ValueY\n",
    "LevelMainTank AND YS10004 IMPLIES PI10003_PV_Out_ValueY"
   ]
  },
  {
   "cell_type": "code",
   "execution_count": null,
   "id": "c683bb69-fa89-4c00-8270-5c1fc214e3fa",
   "metadata": {},
   "outputs": [],
   "source": [
    "GEDANKE: Zusammenfassung von YS2X004 und YC2X006 und VE2X00 zusammenfassen (was X ist findest du idiot schon raus wenn du es liest)"
   ]
  },
  {
   "cell_type": "code",
   "execution_count": null,
   "id": "29580ac2-7170-4729-ae7f-3a27a600b03e",
   "metadata": {},
   "outputs": [],
   "source": [
    "gedanke2: die YS23004_Ctrl_ValueY regeln braucht man nicht --> mit tank zusammenfassen!"
   ]
  },
  {
   "cell_type": "code",
   "execution_count": null,
   "id": "1230e295-614c-4f33-b39f-3b925f6c809e",
   "metadata": {},
   "outputs": [],
   "source": []
  },
  {
   "cell_type": "code",
   "execution_count": null,
   "id": "0d34d90a-b2c8-43d6-a784-1754fd444273",
   "metadata": {},
   "outputs": [],
   "source": []
  },
  {
   "cell_type": "code",
   "execution_count": null,
   "id": "ecc0203f-baa5-400d-b9f5-b6da999dcb03",
   "metadata": {},
   "outputs": [],
   "source": []
  },
  {
   "cell_type": "code",
   "execution_count": null,
   "id": "1604fb83-0db2-47fc-888b-0a3a0276c18d",
   "metadata": {},
   "outputs": [],
   "source": []
  },
  {
   "cell_type": "code",
   "execution_count": null,
   "id": "ff5f1906-d7fe-4905-84dc-dab02cc6a00e",
   "metadata": {},
   "outputs": [],
   "source": []
  },
  {
   "cell_type": "code",
   "execution_count": 5,
   "id": "20ff98b3-f941-446f-8edc-1c0689ba0262",
   "metadata": {},
   "outputs": [
    {
     "data": {
      "text/plain": [
       "41"
      ]
     },
     "execution_count": 5,
     "metadata": {},
     "output_type": "execute_result"
    }
   ],
   "source": [
    "liste = ['DeviationID ValueY', 'CuStepNo ValueY', 'LevelMainTank ValueY',\n",
    "       'YC10001_MV ValueY', 'PI12002_PV_Out ValueY', 'PI12003_PV_Out ValueY',\n",
    "       'YC14001_MV ValueY', 'FIC14002_MV ValueY', 'FIC14002_PV_Out ValueY',\n",
    "       'FIC14002_SP ValueY', 'YC14006_MV ValueY', 'PI14012_PV_Out ValueY',\n",
    "       'YC23001_MV ValueY', 'YC22001_MV ValueY', 'YC21001_MV ValueY',\n",
    "       'FIC23002_PV_Out ValueY', 'FIC23002_MV ValueY', 'FIC23002_SP ValueY',\n",
    "       'FIC22002_MV ValueY', 'FIC22002_PV_Out ValueY', 'FIC22002_SP ValueY',\n",
    "       'FIC21002_MV ValueY', 'FIC21002_PV_Out ValueY', 'FIC21002_SP ValueY',\n",
    "       'YS23004_Ctrl ValueY', 'YS22004_Ctrl ValueY', 'YS21004_Ctrl ValueY',\n",
    "       'LIC23002_MV ValueY', 'LIC23002_PV_Out ValueY', 'LIC23002_SP ValueY',\n",
    "       'LIC22002_MV ValueY', 'LIC22002_PV_Out ValueY', 'LIC22002_SP ValueY',\n",
    "       'LIC21002_MV ValueY', 'LIC21002_PV_Out ValueY', 'LIC21002_SP ValueY',\n",
    "       'PIC14007_MV ValueY', 'PIC14007_PV_Out ValueY', 'PIC14007_SP ValueY',\n",
    "       'YC14008_Ctrl ValueY', 'PI10003_PV_Out ValueY']\n",
    "len(liste)"
   ]
  },
  {
   "cell_type": "code",
   "execution_count": 3,
   "id": "531c16cf-326e-47fc-b0e2-04bb898b6612",
   "metadata": {},
   "outputs": [
    {
     "name": "stdout",
     "output_type": "stream",
     "text": [
      "DeviationID ValueY\n",
      "CuStepNo ValueY\n",
      "LevelMainTank ValueY\n",
      "YC10001_MV ValueY\n",
      "PI12002_PV_Out ValueY\n",
      "PI12003_PV_Out ValueY\n",
      "YC14001_MV ValueY\n",
      "FIC14002_MV ValueY\n",
      "FIC14002_PV_Out ValueY\n",
      "FIC14002_SP ValueY\n",
      "YC14006_MV ValueY\n",
      "PI14012_PV_Out ValueY\n",
      "YC23001_MV ValueY\n",
      "YC22001_MV ValueY\n",
      "YC21001_MV ValueY\n",
      "FIC23002_PV_Out ValueY\n",
      "FIC23002_MV ValueY\n",
      "FIC23002_SP ValueY\n",
      "FIC22002_MV ValueY\n",
      "FIC22002_PV_Out ValueY\n",
      "FIC22002_SP ValueY\n",
      "FIC21002_MV ValueY\n",
      "FIC21002_PV_Out ValueY\n",
      "FIC21002_SP ValueY\n",
      "YS23004_Ctrl ValueY\n",
      "YS22004_Ctrl ValueY\n",
      "YS21004_Ctrl ValueY\n",
      "LIC23002_MV ValueY\n",
      "LIC23002_PV_Out ValueY\n",
      "LIC23002_SP ValueY\n",
      "LIC22002_MV ValueY\n",
      "LIC22002_PV_Out ValueY\n",
      "LIC22002_SP ValueY\n",
      "LIC21002_MV ValueY\n",
      "LIC21002_PV_Out ValueY\n",
      "LIC21002_SP ValueY\n",
      "PIC14007_MV ValueY\n",
      "PIC14007_PV_Out ValueY\n",
      "PIC14007_SP ValueY\n",
      "YC14008_Ctrl ValueY\n",
      "PI10003_PV_Out ValueY\n"
     ]
    }
   ],
   "source": [
    "for c in ['DeviationID ValueY', 'CuStepNo ValueY', 'LevelMainTank ValueY',\n",
    "       'YC10001_MV ValueY', 'PI12002_PV_Out ValueY', 'PI12003_PV_Out ValueY',\n",
    "       'YC14001_MV ValueY', 'FIC14002_MV ValueY', 'FIC14002_PV_Out ValueY',\n",
    "       'FIC14002_SP ValueY', 'YC14006_MV ValueY', 'PI14012_PV_Out ValueY',\n",
    "       'YC23001_MV ValueY', 'YC22001_MV ValueY', 'YC21001_MV ValueY',\n",
    "       'FIC23002_PV_Out ValueY', 'FIC23002_MV ValueY', 'FIC23002_SP ValueY',\n",
    "       'FIC22002_MV ValueY', 'FIC22002_PV_Out ValueY', 'FIC22002_SP ValueY',\n",
    "       'FIC21002_MV ValueY', 'FIC21002_PV_Out ValueY', 'FIC21002_SP ValueY',\n",
    "       'YS23004_Ctrl ValueY', 'YS22004_Ctrl ValueY', 'YS21004_Ctrl ValueY',\n",
    "       'LIC23002_MV ValueY', 'LIC23002_PV_Out ValueY', 'LIC23002_SP ValueY',\n",
    "       'LIC22002_MV ValueY', 'LIC22002_PV_Out ValueY', 'LIC22002_SP ValueY',\n",
    "       'LIC21002_MV ValueY', 'LIC21002_PV_Out ValueY', 'LIC21002_SP ValueY',\n",
    "       'PIC14007_MV ValueY', 'PIC14007_PV_Out ValueY', 'PIC14007_SP ValueY',\n",
    "       'YC14008_Ctrl ValueY', 'PI10003_PV_Out ValueY']:\n",
    "    print(c)"
   ]
  },
  {
   "cell_type": "code",
   "execution_count": null,
   "id": "aaa38b31-7330-46c6-bb2f-27c12198c1a6",
   "metadata": {},
   "outputs": [],
   "source": []
  }
 ],
 "metadata": {
  "kernelspec": {
   "display_name": "diag-tcn-vae",
   "language": "python",
   "name": "diag-tcn-vae"
  },
  "language_info": {
   "codemirror_mode": {
    "name": "ipython",
    "version": 3
   },
   "file_extension": ".py",
   "mimetype": "text/x-python",
   "name": "python",
   "nbconvert_exporter": "python",
   "pygments_lexer": "ipython3",
   "version": "3.9.7"
  }
 },
 "nbformat": 4,
 "nbformat_minor": 5
}
