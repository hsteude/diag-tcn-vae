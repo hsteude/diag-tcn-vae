{
 "cells": [
  {
   "cell_type": "code",
   "execution_count": null,
   "id": "907af87d-b7c9-47d9-bfa7-49ca15204815",
   "metadata": {
    "tags": []
   },
   "outputs": [],
   "source": [
    "!tree ../data"
   ]
  },
  {
   "cell_type": "code",
   "execution_count": null,
   "id": "e20de851-ded5-48ff-b1d8-24657f530f40",
   "metadata": {},
   "outputs": [],
   "source": []
  }
 ],
 "metadata": {
  "kernelspec": {
   "display_name": "diag-tcn",
   "language": "python",
   "name": "diag-tcn"
  },
  "language_info": {
   "codemirror_mode": {
    "name": "ipython",
    "version": 3
   },
   "file_extension": ".py",
   "mimetype": "text/x-python",
   "name": "python",
   "nbconvert_exporter": "python",
   "pygments_lexer": "ipython3",
   "version": "3.10.8"
  }
 },
 "nbformat": 4,
 "nbformat_minor": 5
}
