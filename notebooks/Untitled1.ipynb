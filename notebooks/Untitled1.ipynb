{
 "cells": [
  {
   "cell_type": "code",
   "execution_count": 1,
   "id": "adbcd103-7643-4f96-948b-adc0fe1bbf35",
   "metadata": {
    "tags": []
   },
   "outputs": [],
   "source": [
    "import kfp\n",
    "import kfp.components as comp\n",
    "from kfp.v2 import dsl\n",
    "from kfp.v2.dsl import component, Input, Output, OutputPath, Dataset, Model, ClassificationMetrics"
   ]
  },
  {
   "cell_type": "code",
   "execution_count": 2,
   "id": "1e2a9b81-6a07-4c88-a6ff-903214e7ce0b",
   "metadata": {
    "tags": []
   },
   "outputs": [
    {
     "data": {
      "text/plain": [
       "'1.8.21'"
      ]
     },
     "execution_count": 2,
     "metadata": {},
     "output_type": "execute_result"
    }
   ],
   "source": [
    "kfp.__version__"
   ]
  },
  {
   "cell_type": "code",
   "execution_count": 3,
   "id": "e3e82b4e-1a29-4301-8875-00d3def4b38a",
   "metadata": {
    "tags": []
   },
   "outputs": [],
   "source": [
    "# component 1\n",
    "@component(packages_to_install=['loguru'])\n",
    "def logg_some_stuff(input_text: str,\n",
    "                    output_text: OutputPath(str)):\n",
    "    from loguru import logger\n",
    "    \n",
    "    logger.info(f'The input text is {input_text}')\n",
    "\n",
    "    out_text =  f'The awesome input text was {input_text}'\n",
    "\n",
    "    with open(output_text, 'w') as output_file:\n",
    "        output_file.write(out_text)"
   ]
  },
  {
   "cell_type": "code",
   "execution_count": 4,
   "id": "9fbbb45e-f737-4223-99f9-58fe1243f73d",
   "metadata": {
    "tags": []
   },
   "outputs": [],
   "source": [
    "@dsl.pipeline(name='test-pipeline')\n",
    "def kfp_hands_on_pipeline(initial_text: str,\n",
    "                         gamma: float,\n",
    "                         C: float):\n",
    "    logger_task1 = logg_some_stuff(input_text=initial_text)"
   ]
  },
  {
   "cell_type": "code",
   "execution_count": null,
   "id": "8dd14134-910c-4e34-a15f-cbf2d497cf66",
   "metadata": {},
   "outputs": [],
   "source": []
  }
 ],
 "metadata": {
  "kernelspec": {
   "display_name": "Python 3 (ipykernel)",
   "language": "python",
   "name": "python3"
  },
  "language_info": {
   "codemirror_mode": {
    "name": "ipython",
    "version": 3
   },
   "file_extension": ".py",
   "mimetype": "text/x-python",
   "name": "python",
   "nbconvert_exporter": "python",
   "pygments_lexer": "ipython3",
   "version": "3.9.7"
  }
 },
 "nbformat": 4,
 "nbformat_minor": 5
}
