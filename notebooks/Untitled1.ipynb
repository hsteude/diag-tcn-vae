{
 "cells": [
  {
   "cell_type": "code",
   "execution_count": null,
   "id": "35eb2754-6dc6-4848-b318-30aec69dec00",
   "metadata": {},
   "outputs": [],
   "source": [
    "import os\n",
    "os.chdir('..')"
   ]
  },
  {
   "cell_type": "code",
   "execution_count": null,
   "id": "c24d74e7-2180-43b9-ab7e-a2b12ef70b07",
   "metadata": {
    "tags": []
   },
   "outputs": [],
   "source": [
    "import numpy as np\n",
    "from scipy import signal\n",
    "import matplotlib.pyplot as plt\n",
    "from scipy.integrate import odeint\n",
    "import pandas as pd"
   ]
  },
  {
   "cell_type": "code",
   "execution_count": null,
   "id": "52d72ac0-c6f4-444d-a038-ee9b333183b4",
   "metadata": {
    "tags": []
   },
   "outputs": [],
   "source": [
    "# generate underlying causal factors\n",
    "# which are the durations of the states of comp a-c\n",
    "min_lenght = 1500\n",
    "max_length = 2500\n",
    "length = 50\n",
    "comp_a_durations = np.random.randint(min_lenght, max_length, length)\n",
    "comp_b_durations = np.random.randint(min_lenght, max_length, length)\n",
    "comp_c_durations = np.random.randint(min_lenght, max_length, length)"
   ]
  },
  {
   "cell_type": "code",
   "execution_count": null,
   "id": "41a63dd4-6b6c-497a-ac2c-9bb18558d7e6",
   "metadata": {
    "tags": []
   },
   "outputs": [],
   "source": [
    "# generate corresponding signal for causal factor of comp a\n",
    "comp_a_signal = np.concatenate([[0]*i if j%2==0 else [1]*i for j,i in enumerate(comp_a_durations)])\n",
    "comp_b_signal = np.concatenate([[0]*i if j%2==0 else [1]*i for j,i in enumerate(comp_b_durations)])\n",
    "comp_c_signal = np.concatenate([[0]*i if j%2==0 else [1]*i for j,i in enumerate(comp_c_durations)])"
   ]
  },
  {
   "cell_type": "code",
   "execution_count": null,
   "id": "b1f4a962-bf47-4642-a339-fda471b9ace2",
   "metadata": {},
   "outputs": [],
   "source": [
    "# get list of gain values for dynamic system simulation\n",
    "comp_a_kp_ls = [0]\n",
    "for i in range(1, len(comp_a_durations)):\n",
    "    comp_a_kp_ls.append(0 if comp_a_kp_ls[i-1] else 1)\n",
    "\n",
    "comp_b_kp_ls = [0]\n",
    "for i in range(1, len(comp_b_durations)):\n",
    "    comp_b_kp_ls.append(0 if comp_b_kp_ls[i-1] else 1)"
   ]
  },
  {
   "cell_type": "code",
   "execution_count": null,
   "id": "cc1be33e-5c7b-4fa9-953d-9d0b830b3d7a",
   "metadata": {},
   "outputs": [],
   "source": []
  },
  {
   "cell_type": "code",
   "execution_count": null,
   "id": "da57c80f-8778-47ec-a23e-67f61c039583",
   "metadata": {},
   "outputs": [],
   "source": [
    "plt.plot(comp_a_signal[0:5000])\n",
    "plt.plot(comp_b_signal[0:5000])"
   ]
  },
  {
   "cell_type": "code",
   "execution_count": null,
   "id": "07154b9b-963b-47f0-b6b2-07c833bf84ae",
   "metadata": {},
   "outputs": [],
   "source": [
    "pd.DataFrame(dict(comp_a=comp_a_signal, comp_b=comp_b_signal, comp_c=comp_c_signal))"
   ]
  },
  {
   "cell_type": "code",
   "execution_count": null,
   "id": "90f74154-5d57-48cb-a137-8ddb7b119eea",
   "metadata": {
    "tags": []
   },
   "outputs": [],
   "source": [
    "# tau * dy2/dt2 + 2*zeta*tau*dy/dt + y = Kp*u\n",
    "tau = 20.0   # time constant\n",
    "zeta = 0.3 # damping factor\n",
    "theta = 100.0 # no time delay\n",
    "du = 1.0    # change in u\n",
    "taup = 50\n",
    "\n",
    "# (3) ODE Integrator\n",
    "def second_order_model(x,t, Kp):\n",
    "    y = x[0]\n",
    "    dydt = x[1]\n",
    "    dy2dt2 = (-2.0*zeta*tau*dydt - y + Kp*du)/tau**2\n",
    "    return [dydt,dy2dt2]\n",
    "\n",
    "def first_order_model(y,t,Kp):\n",
    "    u = 1\n",
    "    return (-y + Kp * u)/taup"
   ]
  },
  {
   "cell_type": "code",
   "execution_count": null,
   "id": "a30a39c8-6c1b-4de8-af38-1ac45f2d618a",
   "metadata": {
    "tags": []
   },
   "outputs": [],
   "source": [
    "x0_2nd = [0, 0]\n",
    "x0_1st = [0, 0]\n",
    "y_2nd_ls = []\n",
    "y_1st_ls = []\n",
    "\n",
    "for Kp, tmax in zip(comp_a_kp_ls, comp_a_durations):\n",
    "    t = np.linspace(0, tmax, tmax)\n",
    "    x_2nd = odeint(second_order_model, x0_2nd, t, (Kp,))\n",
    "    y_2nd = x_2nd[:,0]\n",
    "    y_2nd_ls.append(y_2nd)\n",
    "    x0_2nd = list(x_2nd[-1, :])\n",
    "    \n",
    "    x_1st = odeint(first_order_model, x0_1st, t, (Kp-.1,))\n",
    "    y_1st = x_1st[:,0]\n",
    "    y_1st_ls.append(y_1st)\n",
    "    x0_1st = list(x_1st[-1, :])\n",
    "\n",
    "\n"
   ]
  },
  {
   "cell_type": "code",
   "execution_count": null,
   "id": "b6fa2a26-e252-4123-b6b1-e9c5f8ea6e88",
   "metadata": {},
   "outputs": [],
   "source": [
    "sig_1 = comp_a_signal\n",
    "sig_2 = np.concatenate(y_2nd_ls)\n",
    "sig_3 = np.concatenate(y_1st_ls)\n"
   ]
  },
  {
   "cell_type": "code",
   "execution_count": null,
   "id": "410ebd25-ff29-4e3a-b224-8a008ab4d866",
   "metadata": {
    "tags": []
   },
   "outputs": [],
   "source": [
    "plt.figure(1)\n",
    "plt.plot(sig_1[0:6000])\n",
    "plt.plot(sig_2[0:6000])\n",
    "plt.plot(sig_3[0:6000])"
   ]
  },
  {
   "cell_type": "code",
   "execution_count": null,
   "id": "45f61cbe-17f4-4219-b995-9e7be62ee66d",
   "metadata": {},
   "outputs": [],
   "source": [
    "len(comp_a_signal)"
   ]
  },
  {
   "cell_type": "code",
   "execution_count": null,
   "id": "e124df43-db30-4628-83fb-91c21d608fe6",
   "metadata": {},
   "outputs": [],
   "source": [
    "len(y_2nd_ls)"
   ]
  },
  {
   "cell_type": "code",
   "execution_count": null,
   "id": "e68d5142-2f10-4de1-bbf6-c7009ee0d97b",
   "metadata": {},
   "outputs": [],
   "source": [
    "import pandas as pd\n",
    "df = pd.DataFrame(dict(sig_1=comp_a_signal,\n",
    "                       sig_2=np.concatenate(y_2nd_ls),\n",
    "                       sig_3=np.concatenate(y_1st_ls),\n",
    "                       # sig_4=sig_4,\n",
    "                       # sig_5=sig_5,\n",
    "                       # sig_6=sig_6,\n",
    "                       # sig_7=sig_7,\n",
    "                      ))\n",
    "TRAIN_DATA_PATH = 'data/trainin_data.csv'\n",
    "df.to_csv(TRAIN_DATA_PATH, index=False)"
   ]
  },
  {
   "cell_type": "code",
   "execution_count": null,
   "id": "40c31362-22a7-41df-aea2-0636852cae68",
   "metadata": {},
   "outputs": [],
   "source": []
  }
 ],
 "metadata": {
  "kernelspec": {
   "display_name": "diag-vae",
   "language": "python",
   "name": "diag-vae"
  },
  "language_info": {
   "codemirror_mode": {
    "name": "ipython",
    "version": 3
   },
   "file_extension": ".py",
   "mimetype": "text/x-python",
   "name": "python",
   "nbconvert_exporter": "python",
   "pygments_lexer": "ipython3",
   "version": "3.9.6"
  }
 },
 "nbformat": 4,
 "nbformat_minor": 5
}
