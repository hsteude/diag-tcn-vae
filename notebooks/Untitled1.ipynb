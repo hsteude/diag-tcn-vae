{
 "cells": [
  {
   "cell_type": "code",
   "execution_count": null,
   "id": "c24d74e7-2180-43b9-ab7e-a2b12ef70b07",
   "metadata": {
    "tags": []
   },
   "outputs": [],
   "source": [
    "import numpy as np\n",
    "from scipy import signal\n",
    "import matplotlib.pyplot as plt\n",
    "from scipy.integrate import odeint"
   ]
  },
  {
   "cell_type": "code",
   "execution_count": null,
   "id": "52d72ac0-c6f4-444d-a038-ee9b333183b4",
   "metadata": {
    "tags": []
   },
   "outputs": [],
   "source": [
    "# generate underlying causal factors\n",
    "# which are the durations of the states of comp a-c\n",
    "min_lenght = 500\n",
    "max_length = 1500\n",
    "length = 500\n",
    "comp_a_durations = np.random.randint(min_lenght, max_length, length)\n",
    "comp_b_durations = np.random.randint(min_lenght, max_length, length)\n",
    "comp_c_durations = np.random.randint(min_lenght, max_length, length)"
   ]
  },
  {
   "cell_type": "code",
   "execution_count": null,
   "id": "41a63dd4-6b6c-497a-ac2c-9bb18558d7e6",
   "metadata": {
    "tags": []
   },
   "outputs": [],
   "source": [
    "# generate corresponding signal for causal factor of comp a\n",
    "comp_a_signal = np.concatenate([[0]*i if j%2==0 else [1]*i for j,i in enumerate(comp_a_durations)])\n",
    "comp_b_signal = np.concatenate([[0]*i if j%2==0 else [1]*i for j,i in enumerate(comp_b_durations)])\n",
    "comp_c_signal = np.concatenate([[0]*i if j%2==0 else [1]*i for j,i in enumerate(comp_c_durations)])"
   ]
  },
  {
   "cell_type": "code",
   "execution_count": null,
   "id": "b1f4a962-bf47-4642-a339-fda471b9ace2",
   "metadata": {},
   "outputs": [],
   "source": [
    "# get list of gain values for dynamic system simulation\n",
    "comp_a_kp_ls = [0]\n",
    "for i in range(1, len(comp_a_durations)):\n",
    "    comp_a_kp_ls.append(0 if comp_a_kp_ls[i-1] else 1)\n",
    "\n",
    "comp_b_kp_ls = [0]\n",
    "for i in range(1, len(comp_b_durations)):\n",
    "    comp_b_kp_ls.append(0 if comp_b_kp_ls[i-1] else 1)"
   ]
  },
  {
   "cell_type": "code",
   "execution_count": null,
   "id": "90f74154-5d57-48cb-a137-8ddb7b119eea",
   "metadata": {
    "tags": []
   },
   "outputs": [],
   "source": [
    "# tau * dy2/dt2 + 2*zeta*tau*dy/dt + y = Kp*u\n",
    "tau = 20.0   # time constant\n",
    "zeta = 0.3 # damping factor\n",
    "theta = 100.0 # no time delay\n",
    "du = 1.0    # change in u\n",
    "taup = 50\n",
    "\n",
    "# (3) ODE Integrator\n",
    "def second_order_model(x,t, Kp):\n",
    "    y = x[0]\n",
    "    dydt = x[1]\n",
    "    dy2dt2 = (-2.0*zeta*tau*dydt - y + Kp*du)/tau**2\n",
    "    return [dydt,dy2dt2]\n",
    "\n",
    "def first_order_model(y,t,Kp):\n",
    "    u = 1\n",
    "    return (-y + Kp * u)/taup"
   ]
  },
  {
   "cell_type": "code",
   "execution_count": null,
   "id": "a30a39c8-6c1b-4de8-af38-1ac45f2d618a",
   "metadata": {
    "tags": []
   },
   "outputs": [],
   "source": [
    "x0_2nd = [0, 0]\n",
    "x0_1st = [0, 0]\n",
    "y_2nd_ls = []\n",
    "y_1st_ls = []\n",
    "\n",
    "for Kp, tmax in zip(comp_a_kp_ls, comp_a_durations):\n",
    "    t = np.linspace(0, tmax, tmax)\n",
    "    x_2nd = odeint(second_order_model, x0_2nd, t, (Kp,))\n",
    "    y_2nd = x_2nd[:,0]\n",
    "    y_2nd_ls.append(y_2nd)\n",
    "    x0_2d = list(x_2nd[-1, :])\n",
    "    \n",
    "    x_1st = odeint(first_order_model, x0_1st, t, (Kp-.1,))\n",
    "    y_1st = x_1st[:,0]\n",
    "    y_1st_ls.append(y_1st)\n",
    "    x0_1st = list(x_1st[-1, :])\n",
    "\n",
    "\n"
   ]
  },
  {
   "cell_type": "code",
   "execution_count": null,
   "id": "410ebd25-ff29-4e3a-b224-8a008ab4d866",
   "metadata": {
    "tags": []
   },
   "outputs": [],
   "source": [
    "plt.figure(1)\n",
    "plt.plot(np.concatenate(y_2nd_ls)[0:6000])\n",
    "plt.plot(np.concatenate(y_1st_ls)[0:6000])\n",
    "plt.plot(comp_a_signal[0:6000])"
   ]
  },
  {
   "cell_type": "code",
   "execution_count": null,
   "id": "e68d5142-2f10-4de1-bbf6-c7009ee0d97b",
   "metadata": {},
   "outputs": [],
   "source": []
  },
  {
   "cell_type": "code",
   "execution_count": null,
   "id": "3eb87607-1329-482a-bc19-6aa40650e463",
   "metadata": {},
   "outputs": [],
   "source": []
  }
 ],
 "metadata": {
  "kernelspec": {
   "display_name": "diag-tcn",
   "language": "python",
   "name": "diag-tcn"
  },
  "language_info": {
   "codemirror_mode": {
    "name": "ipython",
    "version": 3
   },
   "file_extension": ".py",
   "mimetype": "text/x-python",
   "name": "python",
   "nbconvert_exporter": "python",
   "pygments_lexer": "ipython3",
   "version": "3.10.8"
  }
 },
 "nbformat": 4,
 "nbformat_minor": 5
}
