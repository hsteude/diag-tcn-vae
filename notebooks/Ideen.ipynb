{
 "cells": [
  {
   "cell_type": "markdown",
   "id": "c2adbfbf-70a2-4355-9f7c-f34f82ffe9b3",
   "metadata": {},
   "source": [
    "# Hypothesen\n",
    "\n",
    "1. Mit unserer Methode brauchen weniger Diagnose Regeln und kommen trotzdem zur richtigen Diagnose.\n",
    "2. Unsere NN Architektur ist besser als eine SOTA Baseline darin Anomalien pro Subsystem zu erkennen.\n",
    "  - **Teilhypothese 2.1**: Es fällt unserem Modell mit vielen Decodern leichter Zusammenhänge zwischen den Signalen eines Subsystems zu \"lernen\" als einem NN ohne diese spezielle Architektur\n",
    "  - **Teilhypothese 2.3**: Der gemeinsame latente Raum sorgt dafür, dass systemweite Zusammenhänge erlernt werden können, die notwendig sind, um das Verhalten der einzelnen Subsysteme modellieren zu können.\n",
    "\n",
    "## Experiment zu 1.\n",
    "\n",
    "- Auf TEP anwenden und mit Standard-CBD vergleichen.\n",
    "- **Hierbei brauche ich Hilfe!** Nicht nur bei der CBD Baseline, sondern auch bei den Regeln usw. für \"unser Modell\"\n",
    "  - Wie lauteten die alten Regeln genau?\n",
    "  - Wie gut war die Performance und wie misst man das überhaupt?\n",
    "  - Wie lauten die neuen Regeln?\n",
    "  - Wissen wir überhaupt, wo wir die Symptome der 17 TEP Faults erwarten?\n",
    "- Auf Basis der Informationen aus den Papern dazu könnte ich mir diese Subsystem-Signals Map vorstellen:\n",
    "```python\n",
    "subsystem_signals_map = {\n",
    "    'InputFeed': ['xmeas_1', 'xmeas_2', 'xmeas_3', 'xmeas_4', 'xmeas_5'],\n",
    "    'Reactor': ['xmeas_6', 'xmeas_7', 'xmeas_8', 'xmeas_9', 'xmeas_21'],\n",
    "    'Purge': ['xmeas_10'],\n",
    "    'ProductSeparator': ['xmeas_11', 'xmeas_12', 'xmeas_13', 'xmeas_14', 'xmeas_22'],\n",
    "    'Stripper': ['xmeas_15', 'xmeas_16', 'xmeas_17', 'xmeas_18', 'xmeas_19'],\n",
    "    'Compressor': ['xmeas_20'],\n",
    "    'ReactorFeed': ['xmeas_23', 'xmeas_24', 'xmeas_25', 'xmeas_26', 'xmeas_27', 'xmeas_28'],\n",
    "    'PurgeGas': ['xmeas_29', 'xmeas_30', 'xmeas_31', 'xmeas_32', 'xmeas_33', 'xmeas_34', 'xmeas_35', 'xmeas_36'],\n",
    "    'Product': ['xmeas_37', 'xmeas_38', 'xmeas_39', 'xmeas_40', 'xmeas_41']\n",
    "}\n",
    "```\n",
    "\n",
    "## Experiment zu 2\n",
    "\n",
    "- Theoretisch zeigen, an künstlich generierten Daten (theoretischen) dass unsere Architektur besser performt als eine Baseline.\n",
    "\n",
    "### Experiment zu 2.1\n",
    "\n",
    "- Baselines: 'Vanilla' TCN-VAE für alle Signale und für jedes Signal.\n",
    "- Versuch: Zwei Subsysteme mit jeweils drei Signalen künstlich generieren. Dabei darauf achten, dass Randomness in dem *underlying factor of change* (dem Subsystem) ist, aber die Signale innerhalb des Subsystem voneinander abhängen.\n",
    "- Die Zahl der Parameter pro Modell sollte sich in der gleich Größenordnung befinden und die Modelle werden für die gleiche Zahl an Epochen trainiert.\n",
    "\n",
    "### Experiment zu 2.2\n",
    "\n",
    "- Baseline: Ein 'Vanilla' TCN-VAE für jeden Subsystem.\n",
    "- Versuch: Zwei Subsysteme mit jeweils drei Signalen künstlich generieren. Dabei darauf achten, dass Randomness in dem *underlying factor of change* (dem Subsystem) ist, aber die Signale innerhalb des Subsystem voneinander abhängen.\n",
    "- Die Zahl der Parameter pro Modell sollte sich in der gleich Größenordnung befinden und die Modelle werden für die gleiche Zahl an Epochen trainiert."
   ]
  },
  {
   "cell_type": "code",
   "execution_count": null,
   "id": "183bdd7d-ec3b-41b7-8a92-3b93eec60bb4",
   "metadata": {},
   "outputs": [],
   "source": []
  }
 ],
 "metadata": {
  "kernelspec": {
   "display_name": "diag-tcn-vae",
   "language": "python",
   "name": "diag-tcn-vae"
  },
  "language_info": {
   "codemirror_mode": {
    "name": "ipython",
    "version": 3
   },
   "file_extension": ".py",
   "mimetype": "text/x-python",
   "name": "python",
   "nbconvert_exporter": "python",
   "pygments_lexer": "ipython3",
   "version": "3.9.7"
  }
 },
 "nbformat": 4,
 "nbformat_minor": 5
}
