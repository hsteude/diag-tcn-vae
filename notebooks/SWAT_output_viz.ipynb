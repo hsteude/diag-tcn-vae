{
 "cells": [
  {
   "cell_type": "code",
   "execution_count": null,
   "id": "28a71688-2f68-4d0a-aba9-f816efcda5ad",
   "metadata": {
    "tags": []
   },
   "outputs": [],
   "source": [
    "import os\n",
    "os.chdir('..')"
   ]
  },
  {
   "cell_type": "code",
   "execution_count": null,
   "id": "0b45ba22-bdbb-4d31-baee-f1d00463774f",
   "metadata": {
    "tags": []
   },
   "outputs": [],
   "source": [
    "import diag_vae.constants as const\n",
    "import pandas as pd\n",
    "from diag_vae.vanilla_tcn_ae import VanillaTcnAE\n",
    "from diag_vae.diag_tcn_ae import DiagTcnAE\n",
    "from diag_vae.diag_tcn_ae_predictor import DiagTcnAePredictor\n",
    "from diag_vae.swat_data_module import SwatDataset\n",
    "import matplotlib.pyplot as plt\n",
    "import torch\n",
    "import numpy as np\n",
    "import plotly\n",
    "from plotly.subplots import make_subplots\n",
    "import plotly.graph_objects as go\n",
    "import tqdm"
   ]
  },
  {
   "cell_type": "code",
   "execution_count": null,
   "id": "33d98053-8208-44ad-be01-eb247f4cd913",
   "metadata": {
    "tags": []
   },
   "outputs": [],
   "source": [
    "loggs_dir = './logs/VanillaTcnAE/version_6/checkpoints/'\n",
    "checkpoint = os.path.join(loggs_dir, f'{os.listdir(loggs_dir)[0]}')\n",
    "ae_model = VanillaTcnAE.load_from_checkpoint(checkpoint)"
   ]
  },
  {
   "cell_type": "code",
   "execution_count": null,
   "id": "f00ed641-5a6d-4c2e-b9c4-7e163b9e23fc",
   "metadata": {},
   "outputs": [],
   "source": []
  },
  {
   "cell_type": "code",
   "execution_count": null,
   "id": "86229c6f-1879-4cc4-8e1f-a21a6f7f0f0a",
   "metadata": {
    "tags": []
   },
   "outputs": [],
   "source": [
    "# loggs_dir = './logs/DiagTcnAePredictor/version_0/checkpoints/'\n",
    "# checkpoint = os.path.join(loggs_dir, f'{os.listdir(loggs_dir)[0]}')\n",
    "# diag_predictor_model = DiagTcnAePredictor.load_from_checkpoint(checkpoint)"
   ]
  },
  {
   "cell_type": "code",
   "execution_count": null,
   "id": "cb27d8a7-8e06-4ae9-a273-5285fd67d173",
   "metadata": {
    "tags": []
   },
   "outputs": [],
   "source": [
    "loggs_dir = './logs/DiagTcnAE/version_8/checkpoints/'\n",
    "checkpoint = os.path.join(loggs_dir, f'{os.listdir(loggs_dir)[0]}')\n",
    "diag_ae_model = DiagTcnAE.load_from_checkpoint(checkpoint)"
   ]
  },
  {
   "cell_type": "code",
   "execution_count": null,
   "id": "d69a547f-1bab-4b5f-8ba2-bab5ae68fc49",
   "metadata": {
    "tags": []
   },
   "outputs": [],
   "source": [
    "# SAMPLE_IDX = 10500\n",
    "SAMPLE_IDX = 500\n",
    "\n",
    "ds = SwatDataset(\n",
    "    val_data_path=const.SWAT_VAL_PATH,\n",
    "    train_data_path=const.SWAT_TRAIN_PATH,\n",
    "    seq_len_x=500,\n",
    "    seq_len_y=100,\n",
    "    cols=const.SWAT_SENSOR_COLS,\n",
    "    symbols_dct=const.SWAT_SYMBOLS_MAP,\n",
    "    split='test',\n",
    "    val_ts_start=\"2015-12-29 19:00:00\",\n",
    "    val_ts_end=\"2015-12-29 22:00:00\",\n",
    ")\n",
    "x, x_comp_list, y_comp_list = ds.__getitem__(SAMPLE_IDX)"
   ]
  },
  {
   "cell_type": "code",
   "execution_count": null,
   "id": "5e17c96b-4d31-4635-9b6f-bdde5bb848ff",
   "metadata": {
    "tags": []
   },
   "outputs": [],
   "source": [
    "z_ae = ae_model.encode(x)\n",
    "x_ae_hat = ae_model.decode(z_ae)"
   ]
  },
  {
   "cell_type": "code",
   "execution_count": null,
   "id": "8401719c-a98f-4e46-a84d-2c9fb6c665d8",
   "metadata": {
    "tags": []
   },
   "outputs": [],
   "source": [
    "z_diag_ae = diag_ae_model.encode(x)\n",
    "x_diag_ae_hat_ls = diag_ae_model.decode(z_diag_ae)"
   ]
  },
  {
   "cell_type": "code",
   "execution_count": null,
   "id": "79c926a6-17d6-4d54-9554-21384fcd0b45",
   "metadata": {
    "tags": []
   },
   "outputs": [],
   "source": [
    "z_diag_ae.shape, z_ae.shape"
   ]
  },
  {
   "cell_type": "code",
   "execution_count": null,
   "id": "85e727ba-df11-4aba-a9e8-09a1a4cb42c6",
   "metadata": {
    "tags": []
   },
   "outputs": [],
   "source": [
    "fig, axs = plt.subplots(51, 2, figsize=(15, 50))\n",
    "for i in range(51):\n",
    "    axs[i, 0].plot(x.numpy()[i,:])\n",
    "    axs[i, 0].plot(x_ae_hat.detach().numpy()[0,i,:])\n",
    "    axs[i, 0].set_ylim((-15, 15))\n",
    "    axs[i, 1].plot(x.numpy()[i,:])\n",
    "    axs[i, 1].plot(torch.concat([x_.reshape(-1, 500) for x_ in x_diag_ae_hat_ls], dim=0).detach().numpy()[i,:])\n",
    "    axs[i, 1].set_ylim((-15, 15))\n",
    "fig.show()"
   ]
  },
  {
   "cell_type": "markdown",
   "id": "e65cf95a-0b61-4792-8f64-684e4e8f6e61",
   "metadata": {
    "tags": []
   },
   "source": [
    "### get error over longer period of time"
   ]
  },
  {
   "cell_type": "code",
   "execution_count": null,
   "id": "ab7aa065-ebfb-427c-9428-aa02b0aa8039",
   "metadata": {
    "tags": []
   },
   "outputs": [],
   "source": [
    "val_df = pd.read_parquet(const.SWAT_VAL_PATH)\n",
    "# val_df.head()"
   ]
  },
  {
   "cell_type": "code",
   "execution_count": null,
   "id": "12165bf7-0443-416f-b921-d569909560d9",
   "metadata": {
    "tags": []
   },
   "outputs": [],
   "source": [
    "ts_idx_series = pd.Series(val_df.index)\n",
    "ts_idx_series.head()"
   ]
  },
  {
   "cell_type": "code",
   "execution_count": null,
   "id": "95ae32ad-aa15-4fbd-9b46-588ed0f916be",
   "metadata": {
    "tags": []
   },
   "outputs": [],
   "source": [
    "pd.set_option('display.max_colwidth', None)\n",
    "df_label = pd.read_csv(const.SWAT_LABEL_PATH)\n",
    "df_label.head(25)"
   ]
  },
  {
   "cell_type": "code",
   "execution_count": null,
   "id": "a20f189e-4436-4688-9d0e-61187c58809d",
   "metadata": {},
   "outputs": [],
   "source": []
  },
  {
   "cell_type": "code",
   "execution_count": null,
   "id": "20f35eb6-d8e1-4a72-9e38-56d19ee4a74b",
   "metadata": {},
   "outputs": [],
   "source": []
  },
  {
   "cell_type": "markdown",
   "id": "b5f2df50-7901-42e9-9a05-7a18b7a30e4c",
   "metadata": {},
   "source": [
    "# batch prediction"
   ]
  },
  {
   "cell_type": "code",
   "execution_count": null,
   "id": "54c72ff4-fdb8-43f0-9bfa-41214212e7c5",
   "metadata": {
    "tags": []
   },
   "outputs": [],
   "source": [
    "from diag_vae.swat_data_module import SwatDataModule\n",
    "dm = SwatDataModule(\n",
    "     data_path_val=const.SWAT_VAL_PATH,\n",
    "     data_path_train=const.SWAT_TRAIN_PATH,\n",
    "    seq_len_x=500,\n",
    "    seq_len_y=100,\n",
    "    cols=const.SWAT_SENSOR_COLS,\n",
    "    symbols_dct=const.SWAT_SYMBOLS_MAP,\n",
    "    val_ts_start=\"2015-12-29 19:00:00\",\n",
    "    val_ts_end=\"2015-12-29 22:00:00\",\n",
    "    batch_size=100,\n",
    "    dl_workers=8,\n",
    ")\n",
    "dl_val = dm.val_dataloader()\n",
    "dl_train = dm.train_dataloader()\n",
    "dl_test = dm.test_dataloader()"
   ]
  },
  {
   "cell_type": "code",
   "execution_count": null,
   "id": "b6c92a31-fe33-446a-9e60-5d65959a684c",
   "metadata": {},
   "outputs": [],
   "source": []
  },
  {
   "cell_type": "code",
   "execution_count": null,
   "id": "eed796b7-be70-4589-937a-3ec3661bb550",
   "metadata": {
    "tags": []
   },
   "outputs": [],
   "source": [
    "with torch.no_grad():\n",
    "    res = ae_model.predict_step(dl_test.dataset[0], batch_idx=None)\n",
    "res"
   ]
  },
  {
   "cell_type": "code",
   "execution_count": null,
   "id": "cd4ff8d6-082b-4adc-89b9-806901cdc048",
   "metadata": {
    "tags": []
   },
   "outputs": [],
   "source": [
    "skip_len = 100"
   ]
  },
  {
   "cell_type": "code",
   "execution_count": null,
   "id": "5b659ac9-2ab1-4eff-b660-a1a397bfbdff",
   "metadata": {
    "tags": []
   },
   "outputs": [],
   "source": [
    "list(range(0,100))[0::10]"
   ]
  },
  {
   "cell_type": "code",
   "execution_count": null,
   "id": "0d7b9c49-6d98-4c96-83bc-dc7935b1c0cb",
   "metadata": {
    "tags": []
   },
   "outputs": [],
   "source": [
    "%%time\n",
    "ae_model_mse_ls_ls = []\n",
    "diag_ae_model_mse_ls_ls = []\n",
    "diag_pred_model_mse_ls_ls = []\n",
    "counter = 0\n",
    "for batch in tqdm.tqdm(iter(dl_test)):\n",
    "    # if counter > 1000:\n",
    "    #     break\n",
    "    with torch.no_grad():\n",
    "        ae_model_mse_ls_ls.append(ae_model.predict_step(batch, batch_idx=None))\n",
    "        # diag_pred_model_mse_ls_ls.append(diag_predictor_model.get_sample_component_recon_error(x, y_comp_ls))\n",
    "        diag_ae_model_mse_ls_ls.append(diag_ae_model.predict_step(batch, batch_idx=None))\n",
    "        counter+=1"
   ]
  },
  {
   "cell_type": "code",
   "execution_count": null,
   "id": "cf97fef3-c95d-4a00-b892-dbea67455af1",
   "metadata": {
    "tags": []
   },
   "outputs": [],
   "source": [
    "ae_mse_df = pd.DataFrame({f'ae_mse_comp{i+1}':np.concatenate([l[i] for l in ae_model_mse_ls_ls]) for i in range(6)})\n",
    "ae_mse_df.index = dl_test.dataset.df.index[0:len(ae_mse_df)]"
   ]
  },
  {
   "cell_type": "code",
   "execution_count": null,
   "id": "0f13db17-766a-4b8d-9f84-70b08a5a6745",
   "metadata": {
    "tags": []
   },
   "outputs": [],
   "source": [
    "diag_ae_mse_df = pd.DataFrame({f'diag_ae_mse_comp{i+1}':np.concatenate([l[i] for l in diag_ae_model_mse_ls_ls]) for i in range(6)})\n",
    "diag_ae_mse_df.index = dl_test.dataset.df.index[0:len(diag_ae_mse_df)]"
   ]
  },
  {
   "cell_type": "code",
   "execution_count": null,
   "id": "ebbe6c77-ba27-42b8-a97c-c90a7f3f774d",
   "metadata": {
    "tags": []
   },
   "outputs": [],
   "source": [
    "result_df =  pd.concat([ae_mse_df, diag_ae_mse_df], axis=1, join='outer')\n",
    "result_df.index=result_df.index+pd.Timedelta(minutes=10)"
   ]
  },
  {
   "cell_type": "code",
   "execution_count": null,
   "id": "99303d5b-2b1c-4499-bace-0b7268152a18",
   "metadata": {
    "tags": []
   },
   "outputs": [],
   "source": [
    "result_df.to_parquet('data/results_df_v6_v8.parquet')"
   ]
  },
  {
   "cell_type": "code",
   "execution_count": null,
   "id": "e1a201a7-f58c-48e9-af93-d14f7e537d82",
   "metadata": {
    "tags": []
   },
   "outputs": [],
   "source": [
    "rolling_mean_result_df = result_df.rolling(window=1).median()"
   ]
  },
  {
   "cell_type": "code",
   "execution_count": null,
   "id": "59a66199-e4cb-4750-858f-7022d7cd2311",
   "metadata": {
    "tags": []
   },
   "outputs": [],
   "source": [
    "df_plot_results = rolling_mean_result_df.sample(frac=.1).sort_index()\n",
    "df_plot_label = df_label[\n",
    "    :\n",
    "    # df_label['Actual Change']=='Yes'\n",
    "].reset_index(drop=True)\n",
    "fig = make_subplots(rows=7, cols=1, shared_xaxes=True)\n",
    "THRESHOLD=2.5\n",
    "\n",
    "for comp in range(1, 7):\n",
    "    for column, color in zip([f'ae_mse_comp{comp}',\n",
    "                              f'diag_ae_mse_comp{comp}',\n",
    "                              # f'diag_pred_mse_comp{comp}'\n",
    "                             ], \n",
    "                             ['blue', 'red', 'green']):\n",
    "        fig.add_trace(\n",
    "            go.Scatter(\n",
    "                x=df_plot_results.index,\n",
    "                y=df_plot_results[column],\n",
    "                name=column,\n",
    "                # mode='markers',\n",
    "                marker=dict(color=color, opacity=.5),\n",
    "            ),\n",
    "            row=comp, col=1,\n",
    "        ) \n",
    "    fig.add_hrect(y0=0, y1=THRESHOLD, \n",
    "                  fillcolor=\"green\", opacity=0.25, line_width=0,\n",
    "                  row=comp, col=1)\n",
    "\n",
    "for i in range(len(df_plot_label)):\n",
    "    start = df_plot_label.loc[i, 'Start Time']\n",
    "    end = df_plot_label.loc[i, 'End Time']\n",
    "    attack_no = df_plot_label.loc[i, 'Attack #']\n",
    "    attack_point = df_plot_label.loc[i, 'Attack Point']\n",
    "\n",
    "    fig.add_vrect(x0=start, x1=end, \n",
    "                  annotation_text=f'At. Point {attack_point}',\n",
    "                  fillcolor=\"red\", opacity=0.25, line_width=0,\n",
    "                  row=7, col=1)\n",
    "\n",
    "    fig.add_trace(\n",
    "                go.Scatter(x=[start, end],\n",
    "                           y=[1, 1], name=f'Attack #{attack_no}'),\n",
    "                row=7, col=1,\n",
    "            )\n",
    "    \n",
    "    \n",
    "\n",
    "\n",
    "\n",
    "\n",
    "fig.update_layout(height=800, width=1200, title_text='Model versions: AE 6, Custom 8')\n",
    "fig.show()"
   ]
  },
  {
   "cell_type": "code",
   "execution_count": null,
   "id": "3ee453a2-513b-43fd-b0c8-0ffe1c70bb61",
   "metadata": {
    "tags": []
   },
   "outputs": [],
   "source": [
    "fig.write_html('./notebooks/result_v6_v8.html')"
   ]
  },
  {
   "cell_type": "code",
   "execution_count": null,
   "id": "08980b40-4dfd-4d4b-bbf3-8d3de6a4f00d",
   "metadata": {},
   "outputs": [],
   "source": []
  },
  {
   "cell_type": "code",
   "execution_count": null,
   "id": "87b50cc2-256b-4a25-8009-494570fb1ee6",
   "metadata": {},
   "outputs": [],
   "source": []
  },
  {
   "cell_type": "code",
   "execution_count": null,
   "id": "c607f39d-0bc3-4a5d-ab57-b2f6307ddf98",
   "metadata": {},
   "outputs": [],
   "source": []
  },
  {
   "cell_type": "code",
   "execution_count": null,
   "id": "e5a6a372-6a12-45bc-a895-5a43d2f07008",
   "metadata": {},
   "outputs": [],
   "source": []
  },
  {
   "cell_type": "code",
   "execution_count": null,
   "id": "b134b038-5bb1-44c2-94cc-6843bfd56da9",
   "metadata": {},
   "outputs": [],
   "source": []
  },
  {
   "cell_type": "code",
   "execution_count": null,
   "id": "3f29e99b-5cfd-4e31-a9d5-0af419abb262",
   "metadata": {},
   "outputs": [],
   "source": []
  },
  {
   "cell_type": "code",
   "execution_count": null,
   "id": "c936be2c-a346-4d7a-b024-b673114cf2a7",
   "metadata": {},
   "outputs": [],
   "source": []
  },
  {
   "cell_type": "code",
   "execution_count": null,
   "id": "be6173ce-19b3-497e-9356-5366427487cc",
   "metadata": {},
   "outputs": [],
   "source": []
  },
  {
   "cell_type": "code",
   "execution_count": null,
   "id": "74ee6794-8a8c-4fa0-b92b-4b16bc75f1c2",
   "metadata": {},
   "outputs": [],
   "source": []
  },
  {
   "cell_type": "code",
   "execution_count": null,
   "id": "f8048e1c-a3fd-4360-8951-c58dd12346bc",
   "metadata": {},
   "outputs": [],
   "source": []
  },
  {
   "cell_type": "code",
   "execution_count": null,
   "id": "95014b9a-e388-4cda-a6ce-1f1e053f8a07",
   "metadata": {},
   "outputs": [],
   "source": []
  },
  {
   "cell_type": "code",
   "execution_count": null,
   "id": "1362048c-3787-45c4-a4a0-b1a09c705ded",
   "metadata": {},
   "outputs": [],
   "source": []
  },
  {
   "cell_type": "code",
   "execution_count": null,
   "id": "dd3d0c61-1a27-4b2e-86fc-083da420f338",
   "metadata": {
    "tags": []
   },
   "outputs": [],
   "source": [
    "from diag_vae.swat_data_module import SwatDataModule"
   ]
  },
  {
   "cell_type": "code",
   "execution_count": null,
   "id": "9de84060-e313-45e1-8ced-2939ee1cb9fb",
   "metadata": {},
   "outputs": [],
   "source": [
    "dm = SwatDataModule(\n",
    "    data_path_train=const.SWAT_TRAIN_PATH,\n",
    "    data_path_val=const.SWAT_VAL_PATH,\n",
    "    seq_len_x=500,\n",
    "    seq_len_y=100,\n",
    "    cols=const.SWAT_SENSOR_COLS,\n",
    "    symbols_dct=const.SWAT_SYMBOLS_MAP,\n",
    "    batch_size=1000,\n",
    "    dl_workers=8,\n",
    ")\n",
    "dl_val = dm.val_dataloader()"
   ]
  },
  {
   "cell_type": "code",
   "execution_count": null,
   "id": "4b902088-83d0-416a-80f9-0d5c109c4a2f",
   "metadata": {
    "tags": []
   },
   "outputs": [],
   "source": [
    "x, x_comp_ls, y_comp_ls = next(iter(dl_val))"
   ]
  },
  {
   "cell_type": "code",
   "execution_count": null,
   "id": "f05199d3-9c44-4aca-be3f-dd2552db580a",
   "metadata": {
    "tags": []
   },
   "outputs": [],
   "source": [
    "y_comp_ls[0].shape"
   ]
  },
  {
   "cell_type": "code",
   "execution_count": null,
   "id": "86f60341-e4e6-4c33-ad67-f5bf60b51b14",
   "metadata": {
    "tags": []
   },
   "outputs": [],
   "source": [
    "x_comp_hat_ls = diag_ae_model.get_sample_component_recon_error(x, x_comp_ls)"
   ]
  },
  {
   "cell_type": "code",
   "execution_count": null,
   "id": "047db632-4877-4af1-83e7-a7d4c501cabe",
   "metadata": {
    "tags": []
   },
   "outputs": [],
   "source": [
    "x_comp_hat_ls[1].shape"
   ]
  },
  {
   "cell_type": "code",
   "execution_count": null,
   "id": "10fbc058-4785-4603-889d-d91290874b14",
   "metadata": {},
   "outputs": [],
   "source": [
    "ae_model_mse_ls_ls = []\n",
    "diag_ae_model_mse_ls_ls = []\n",
    "diag_pred_model_mse_ls_ls = []\n",
    "counter = 0\n",
    "for batch in tqdm.tqdm(iter(dl_val)):\n",
    "    if counter > 10:\n",
    "        break\n",
    "    x, x_comp_ls, y_comp_ls = batch\n",
    "    ae_model_mse_ls_ls.append(ae_model.get_sample_component_recon_error(x))\n",
    "    # diag_pred_model_mse_ls_ls.append(diag_predictor_model.get_sample_component_recon_error(x, y_comp_ls))\n",
    "    diag_ae_model_mse_ls_ls.append(diag_ae_model.get_sample_component_recon_error(x, x_comp_ls))\n",
    "    counter+=1\n",
    "\n"
   ]
  },
  {
   "cell_type": "code",
   "execution_count": null,
   "id": "4462c840-4c0d-46a6-9f26-a32a9c0c392b",
   "metadata": {
    "tags": []
   },
   "outputs": [],
   "source": [
    "ae_mse_df = pd.DataFrame({f'ae_mse_comp{i+1}':np.concatenate([l[i] for l in ae_model_mse_ls_ls]) for i in range(6)})\n",
    "ae_mse_df.index = dl_val.dataset.df.index[0:len(ae_mse_df)]"
   ]
  },
  {
   "cell_type": "code",
   "execution_count": null,
   "id": "c32ab7a2-2200-4c71-8319-2223aea5882d",
   "metadata": {
    "tags": []
   },
   "outputs": [],
   "source": [
    "diag_pred_mse_df = pd.DataFrame({f'diag_pred_mse_comp{i+1}':np.concatenate([l[i] for l in diag_pred_model_mse_ls_ls]) for i in range(6)})\n",
    "diag_pred_mse_df.index = dl_val.dataset.df.index[0:len(diag_pred_mse_df)]"
   ]
  },
  {
   "cell_type": "code",
   "execution_count": null,
   "id": "4a26e539-e7fc-4fdc-8205-b517b7403476",
   "metadata": {
    "tags": []
   },
   "outputs": [],
   "source": [
    "diag_ae_mse_df = pd.DataFrame({f'diag_ae_mse_comp{i+1}':np.concatenate([l[i] for l in diag_ae_model_mse_ls_ls]) for i in range(6)})\n",
    "diag_ae_mse_df.index = dl_val.dataset.df.index[0:len(diag_ae_mse_df)]"
   ]
  },
  {
   "cell_type": "code",
   "execution_count": null,
   "id": "901c3d58-7ce4-4923-aded-275d90552774",
   "metadata": {
    "tags": []
   },
   "outputs": [],
   "source": [
    "result_df =  pd.concat([ae_mse_df, diag_ae_mse_df, diag_pred_mse_df], axis=1, join='outer')\n",
    "result_df.index=result_df.index+pd.Timedelta(minutes=10)"
   ]
  },
  {
   "cell_type": "code",
   "execution_count": null,
   "id": "43eeca24-8699-448b-8974-c7069e4f45a3",
   "metadata": {
    "tags": []
   },
   "outputs": [],
   "source": [
    "rolling_mean_result_df = result_df.rolling(window=120).median()"
   ]
  },
  {
   "cell_type": "code",
   "execution_count": null,
   "id": "8866702d-4594-446a-95fe-c9133b56531a",
   "metadata": {
    "tags": []
   },
   "outputs": [],
   "source": [
    "rolling_mean_result_df.tail()"
   ]
  },
  {
   "cell_type": "code",
   "execution_count": null,
   "id": "e0a33470-18ab-45cc-8f2e-4ed69692f97b",
   "metadata": {
    "tags": []
   },
   "outputs": [],
   "source": [
    "df_plot_results = rolling_mean_result_df.sample(frac=.01).sort_index()\n",
    "df_plot_results.head()"
   ]
  },
  {
   "cell_type": "code",
   "execution_count": null,
   "id": "1a42e2ac-e95b-4c9d-a50e-db78a7c800d0",
   "metadata": {
    "tags": []
   },
   "outputs": [],
   "source": [
    "result_df.columns"
   ]
  },
  {
   "cell_type": "code",
   "execution_count": null,
   "id": "65f2ceeb-f9f8-4a2e-9483-ec03b6d9a566",
   "metadata": {
    "tags": []
   },
   "outputs": [],
   "source": [
    "df_plot_results = rolling_mean_result_df.sample(frac=.1).sort_index()\n",
    "df_plot_label = df_label[\n",
    "    :\n",
    "    # df_label['Actual Change']=='Yes'\n",
    "].reset_index(drop=True)\n",
    "fig = make_subplots(rows=7, cols=1, shared_xaxes=True)\n",
    "THRESHOLD=2.5\n",
    "\n",
    "for comp in range(1, 7):\n",
    "    for column, color in zip([f'ae_mse_comp{comp}',\n",
    "                              f'diag_ae_mse_comp{comp}',\n",
    "                              f'diag_pred_mse_comp{comp}'], \n",
    "                             ['blue', 'red', 'green']):\n",
    "        fig.add_trace(\n",
    "            go.Scatter(\n",
    "                x=df_plot_results.index,\n",
    "                y=df_plot_results[column],\n",
    "                name=column,\n",
    "                # mode='markers',\n",
    "                marker=dict(color=color, opacity=.5),\n",
    "            ),\n",
    "            row=comp, col=1,\n",
    "        ) \n",
    "    fig.add_hrect(y0=0, y1=THRESHOLD, \n",
    "                  fillcolor=\"green\", opacity=0.25, line_width=0,\n",
    "                  row=comp, col=1)\n",
    "\n",
    "for i in range(len(df_plot_label)):\n",
    "    start = df_plot_label.loc[i, 'Start Time']\n",
    "    end = df_plot_label.loc[i, 'End Time']\n",
    "    attack_no = df_plot_label.loc[i, 'Attack #']\n",
    "    attack_point = df_plot_label.loc[i, 'Attack Point']\n",
    "\n",
    "    fig.add_vrect(x0=start, x1=end, \n",
    "                  annotation_text=f'At. Point {attack_point}',\n",
    "                  fillcolor=\"red\", opacity=0.25, line_width=0,\n",
    "                  row=7, col=1)\n",
    "\n",
    "    fig.add_trace(\n",
    "                go.Scatter(x=[start, end],\n",
    "                           y=[1, 1], name=f'Attack #{attack_no}'),\n",
    "                row=7, col=1,\n",
    "            )\n",
    "    \n",
    "    \n",
    "\n",
    "\n",
    "\n",
    "\n",
    "fig.update_layout(height=800, width=1200, title_text='')\n",
    "fig.show()"
   ]
  },
  {
   "cell_type": "code",
   "execution_count": null,
   "id": "7a25b82d-8f6f-4466-9615-c3b1554cf790",
   "metadata": {},
   "outputs": [],
   "source": [
    "df_plot_label.head(30)"
   ]
  },
  {
   "cell_type": "code",
   "execution_count": null,
   "id": "f6939a73-72ad-420b-bf4c-6db9d3201035",
   "metadata": {},
   "outputs": [],
   "source": []
  },
  {
   "cell_type": "code",
   "execution_count": null,
   "id": "0726db4d-8423-4e3d-bda5-290228f7553b",
   "metadata": {},
   "outputs": [],
   "source": []
  },
  {
   "cell_type": "code",
   "execution_count": null,
   "id": "3e90123d-06fd-46a7-9948-0bd6f5d3b22c",
   "metadata": {},
   "outputs": [],
   "source": []
  },
  {
   "cell_type": "code",
   "execution_count": null,
   "id": "e790c72f-01cf-4e5d-b38e-b10a57920760",
   "metadata": {
    "tags": []
   },
   "outputs": [],
   "source": []
  },
  {
   "cell_type": "code",
   "execution_count": null,
   "id": "8d7b449f-035e-475a-9cb9-9a27ecb84fce",
   "metadata": {
    "tags": []
   },
   "outputs": [],
   "source": [
    "%%time\n",
    "# get sample input for ts\n",
    "ds_val = SwatDataset( \n",
    "    data_path=const.SWAT_VAL_PATH,\n",
    "    seq_len_x=500,\n",
    "    seq_len_y=100,\n",
    "    cols=const.SWAT_SENSOR_COLS,\n",
    "    symbols_dct=const.SWAT_SYMBOLS_MAP,\n",
    "    scale=True\n",
    ")\n",
    "\n",
    "\n",
    "mse_ls_ae_all = []\n",
    "mse_ls_ae_signals = []\n",
    "mse_y_comp_hat_ls = []\n",
    "\n",
    "diag_ae_pred_comp_1_mse = []\n",
    "diag_ae_pred_comp_2_mse = []\n",
    "diag_ae_pred_comp_3_mse = []\n",
    "diag_ae_pred_comp_4_mse = []\n",
    "diag_ae_pred_comp_5_mse = []\n",
    "diag_ae_pred_comp_6_mse = []\n",
    "\n",
    "\n",
    "\n",
    "for idx in tqdm.notebook.tqdm(list(ts_idx_series.index)[0::10][:-100]):\n",
    "    x, _, y_comp_ls = ds_val.__getitem__(idx)\n",
    "    z_ae = ae_model.encode(x)\n",
    "    x_ae_hat = ae_model.decode(z_ae)\n",
    "    # z_diag = diag_model.encode(x)\n",
    "    # x_comp_hat_ls = diag_model.decode(z_diag)\n",
    "    # x_comp_hat = torch.cat(x_comp_hat_ls, 1)\n",
    "    z_ae_predictor = diag_predictor_model.encode(x)\n",
    "    x_ae_predictor_hat, y_comp_hat_ls = diag_predictor_model.decode(z_ae_predictor)\n",
    "    \n",
    "    mse_ls_ae_all.append(((x.numpy() - x_ae_hat.detach().numpy())**2).mean())\n",
    "    mse_ls_ae_signals.append(((x.numpy() - x_ae_hat.detach().numpy())**2).mean(axis=2))\n",
    "    # _, _, y_loss_ls, _ = diag_predictor_model.shared_eval(x.reshape(1, *x.shape), [y.reshape(1, *y.shape) for y in y_comp_list])\n",
    "    # for y_loss, diag_ae_pred_comp_mse in zip(y_loss_ls, diag_ae_pred_comp_mse_ls):\n",
    "    #     diag_ae_pred_comp_mse.append(float(y_loss.detach().numpy()))\n",
    "    diag_ae_pred_comp_1_mse.append(((y_comp_ls[0].numpy() - y_comp_hat_ls[0].detach().numpy())**2).mean())\n",
    "    diag_ae_pred_comp_2_mse.append(((y_comp_ls[1].numpy() - y_comp_hat_ls[1].detach().numpy())**2).mean())\n",
    "    diag_ae_pred_comp_3_mse.append(((y_comp_ls[2].numpy() - y_comp_hat_ls[2].detach().numpy())**2).mean())\n",
    "    diag_ae_pred_comp_4_mse.append(((y_comp_ls[3].numpy() - y_comp_hat_ls[3].detach().numpy())**2).mean())\n",
    "    diag_ae_pred_comp_5_mse.append(((y_comp_ls[4].numpy() - y_comp_hat_ls[4].detach().numpy())**2).mean())\n",
    "    diag_ae_pred_comp_6_mse.append(((y_comp_ls[5].numpy() - y_comp_hat_ls[5].detach().numpy())**2).mean())\n",
    "        \n",
    "        \n",
    "\n",
    "# Compute component-mse base on AE results \n",
    "ae_comp_1_mse = np.array([mse[:, 0:5].mean(axis=1) for mse in mse_ls_ae_signals])\n",
    "ae_comp_2_mse = np.array([mse[:, 5:5+11].mean(axis=1) for mse in mse_ls_ae_signals])\n",
    "ae_comp_3_mse = np.array([mse[:, 5+11:5+11+9].mean(axis=1) for mse in mse_ls_ae_signals])\n",
    "ae_comp_4_mse = np.array([mse[:, 5+11+9:5+11+9+9].mean(axis=1) for mse in mse_ls_ae_signals])\n",
    "ae_comp_5_mse = np.array([mse[:, 5+11+9+9:5+11+9+9+13].mean(axis=1) for mse in mse_ls_ae_signals])\n",
    "ae_comp_6_mse = np.array([mse[:, 5+11+9+9+13:5+11+9+9+13+4].mean(axis=1) for mse in mse_ls_ae_signals])\n",
    "\n",
    "# get "
   ]
  },
  {
   "cell_type": "code",
   "execution_count": null,
   "id": "c3920a00-df80-4b9d-8ace-99b4624782bf",
   "metadata": {
    "tags": []
   },
   "outputs": [],
   "source": [
    "df_results = pd.DataFrame(dict(\n",
    "    ae_comp_1_mse=ae_comp_1_mse.reshape(-1),\n",
    "    ae_comp_2_mse=ae_comp_2_mse.reshape(-1),\n",
    "    ae_comp_3_mse=ae_comp_3_mse.reshape(-1),\n",
    "    ae_comp_4_mse=ae_comp_4_mse.reshape(-1),\n",
    "    ae_comp_5_mse=ae_comp_5_mse.reshape(-1),\n",
    "    ae_comp_6_mse=ae_comp_6_mse.reshape(-1),\n",
    "    diag_ae_pred_comp_1_mse=diag_ae_pred_comp_1_mse,\n",
    "    diag_ae_pred_comp_2_mse=diag_ae_pred_comp_2_mse,\n",
    "    diag_ae_pred_comp_3_mse=diag_ae_pred_comp_3_mse,\n",
    "    diag_ae_pred_comp_4_mse=diag_ae_pred_comp_4_mse,\n",
    "    diag_ae_pred_comp_5_mse=diag_ae_pred_comp_5_mse,\n",
    "    diag_ae_pred_comp_6_mse=diag_ae_pred_comp_6_mse,\n",
    "),    index=ts_idx_series[0::10][:-100])\n",
    "## adding 10 min due to model inference stuff\n",
    "df_results.index=df_results.index+pd.Timedelta(minutes=10)"
   ]
  },
  {
   "cell_type": "code",
   "execution_count": null,
   "id": "e4cdabdf-88bc-48bc-bf87-a6458e83042c",
   "metadata": {
    "tags": []
   },
   "outputs": [],
   "source": [
    "df_results"
   ]
  },
  {
   "cell_type": "code",
   "execution_count": null,
   "id": "2a1000be-cafb-4fc9-95d0-0e9494ce0448",
   "metadata": {
    "tags": []
   },
   "outputs": [],
   "source": [
    "df_results_rolling = df_results.rolling(window=100).mean()"
   ]
  },
  {
   "cell_type": "code",
   "execution_count": null,
   "id": "5d8007ec-7919-4304-ae8b-79fd13ad8f4c",
   "metadata": {
    "jupyter": {
     "outputs_hidden": true
    },
    "tags": []
   },
   "outputs": [],
   "source": [
    "df_plot_label = df_label[\n",
    "    # :\n",
    "    df_label['Actual Change']=='Yes'\n",
    "].reset_index(drop=True)\n",
    "fig = make_subplots(rows=7, cols=1, shared_xaxes=True)\n",
    "ae_comp_mse_ls = [ae_comp_1_mse, ae_comp_2_mse, ae_comp_3_mse, ae_comp_4_mse, ae_comp_5_mse, ae_comp_6_mse]\n",
    "diag_ae_pred_comp_mse_ls = [diag_ae_pred_comp_1_mse, diag_ae_pred_comp_2_mse, diag_ae_pred_comp_3_mse,\n",
    "                            diag_ae_pred_comp_4_mse, diag_ae_pred_comp_5_mse, diag_ae_pred_comp_6_mse]\n",
    "\n",
    "\n",
    "\n",
    "for row, ae_mse in enumerate(ae_comp_mse_ls):\n",
    "    fig.add_trace(\n",
    "            go.Scatter(x=ts_idx_series[0::10][0:-100],\n",
    "                       y=ae_mse.reshape(-1), name=f'AE MSE comp {row+1}',\n",
    "                           mode='markers',\n",
    "                                              marker=dict(color='red'),\n",
    "\n",
    "                      ),\n",
    "            row=row+1, col=1,\n",
    "    )  \n",
    "for row, diag_ae_mse in enumerate(diag_ae_pred_comp_mse_ls):\n",
    "    fig.add_trace(\n",
    "            go.Scatter(x=ts_idx_series[0::10][0:-100],\n",
    "                       y=diag_ae_mse, name=f'AE MSE comp {row+1}',\n",
    "                       marker=dict(color='blue'),\n",
    "                      ),\n",
    "            row=row+1, col=1,\n",
    "    )  \n",
    "\n",
    "\n",
    "for i in range(len(df_plot_label)):\n",
    "    start = df_plot_label.loc[i, 'Start Time']\n",
    "    end = df_plot_label.loc[i, 'End Time']\n",
    "    attack_no = df_plot_label.loc[i, 'Attack #']\n",
    "    attack_point = df_plot_label.loc[i, 'Attack Point']\n",
    "\n",
    "    fig.add_vrect(x0=start, x1=end, \n",
    "                  annotation_text=f'At. Point {attack_point}',\n",
    "                  # annotation_position=\"top left\",\n",
    "                  # annotation=dict(font_size=8),\n",
    "                  fillcolor=\"red\", opacity=0.25, line_width=0,\n",
    "                  row=7, col=1)\n",
    "    fig.add_trace(\n",
    "                go.Scatter(x=[start, end],\n",
    "                           y=[1, 1], name=f'Attack #{attack_no}'),\n",
    "                row=7, col=1,\n",
    "            )\n",
    "    \n",
    "    \n",
    "\n",
    "\n",
    "\n",
    "\n",
    "fig.update_layout(height=800, width=1800, title_text='')\n",
    "fig.show()"
   ]
  },
  {
   "cell_type": "code",
   "execution_count": null,
   "id": "84a3e99e-ae68-4fd8-a22e-5ef330e4e474",
   "metadata": {
    "tags": []
   },
   "outputs": [],
   "source": [
    "df_plot_label = df_label.reset_index(drop=True)\n",
    "fig = make_subplots(rows=7, cols=2, shared_xaxes=True)\n",
    "ae_comp_mse_ls = [ae_comp_1_mse, ae_comp_2_mse, ae_comp_3_mse, ae_comp_4_mse, ae_comp_5_mse, ae_comp_6_mse]\n",
    "diag_ae_pred_comp_mse_ls = [diag_ae_pred_comp_1_mse, diag_ae_pred_comp_2_mse, diag_ae_pred_comp_3_mse,\n",
    "                            diag_ae_pred_comp_4_mse, diag_ae_pred_comp_5_mse, diag_ae_pred_comp_6_mse]\n",
    "\n",
    "\n",
    "\n",
    "# fig.add_trace(\n",
    "#             go.Scatter(x=mse_ae_all_series.index,\n",
    "#                        y=mse_ae_all_series, name=f'AE MSE all sigs'),\n",
    "#             row=2, col=1,\n",
    "# )\n",
    "for row, ae_mse in enumerate(ae_comp_mse_ls):\n",
    "    fig.add_trace(\n",
    "            go.Scatter(x=ts_idx_series[0::10][0:-100],\n",
    "                       y=ae_mse.reshape(-1), name=f'AE MSE comp {row+1}'),\n",
    "            row=row+1, col=1,\n",
    "    )  \n",
    "\n",
    "for i in range(len(df_plot_label)):\n",
    "    start = df_plot_label.loc[i, 'Start Time']\n",
    "    end = df_plot_label.loc[i, 'End Time']\n",
    "    attack_no = df_plot_label.loc[i, 'Attack #']\n",
    "    attack_point = df_plot_label.loc[i, 'Attack Point']\n",
    "\n",
    "    fig.add_vrect(x0=start, x1=end, \n",
    "                  annotation_text=f'At. Point {attack_point}',\n",
    "                  # annotation_position=\"top left\",\n",
    "                  # annotation=dict(font_size=8),\n",
    "                  fillcolor=\"red\", opacity=0.25, line_width=0,\n",
    "                  row=7, col=1)\n",
    "    fig.add_trace(\n",
    "                go.Scatter(x=[start, end],\n",
    "                           y=[1, 1], name=f'Attack #{attack_no}'),\n",
    "                row=7, col=1,\n",
    "            )\n",
    "    \n",
    "    \n",
    "for row, diag_ae_mse in enumerate(diag_ae_pred_comp_mse_ls):\n",
    "    fig.add_trace(\n",
    "            go.Scatter(x=ts_idx_series[0::10][0:-100],\n",
    "                       y=diag_ae_mse, name=f'AE MSE comp {row+1}'),\n",
    "            row=row+1, col=2,\n",
    "    )  \n",
    "\n",
    "for i in range(len(df_plot_label)):\n",
    "    start = df_plot_label.loc[i, 'Start Time']\n",
    "    end = df_plot_label.loc[i, 'End Time']\n",
    "    attack_no = df_plot_label.loc[i, 'Attack #']\n",
    "    attack_point = df_plot_label.loc[i, 'Attack Point']\n",
    "\n",
    "    fig.add_vrect(x0=start, x1=end, \n",
    "                  annotation_text=f'At. Point {attack_point}',\n",
    "                  # annotation_position=\"top left\",\n",
    "                  # annotation=dict(font_size=8),\n",
    "                  fillcolor=\"red\", opacity=0.25, line_width=0,\n",
    "                  row=7, col=2\n",
    "                 )\n",
    "    fig.add_trace(\n",
    "                go.Scatter(x=[start, end],\n",
    "                           y=[1, 1], name=f'Attack #{attack_no}'),\n",
    "                row=7, col=2,\n",
    "            )\n",
    "\n",
    "\n",
    "fig.update_layout(height=800, width=1800, title_text='')\n",
    "fig.show()"
   ]
  },
  {
   "cell_type": "code",
   "execution_count": null,
   "id": "248768b6-4f21-4aca-8c5a-a7a9d68db98a",
   "metadata": {
    "tags": []
   },
   "outputs": [],
   "source": [
    "# get sample input for ts\n",
    "ds = SwatDataset( \n",
    "    data_path=const.SWAT_VAL_PATH,\n",
    "    seq_len=1000,\n",
    "    cols=const.SWAT_SENSOR_COLS,\n",
    "    symbols_dct=const.SWAT_SYMBOLS_MAP,\n",
    ")\n"
   ]
  },
  {
   "cell_type": "code",
   "execution_count": null,
   "id": "c5955bc7-601b-4bf3-9a2d-5edc159dadb7",
   "metadata": {
    "tags": []
   },
   "outputs": [],
   "source": [
    "x, x_comp_list = ds.__getitem__(sample_idx)\n",
    "z = ae_model.encode(x)\n",
    "x_hat = ae_model.decode(z)\n",
    "mse = ((x.numpy() - x_hat.detach().numpy())**2).mean()"
   ]
  },
  {
   "cell_type": "code",
   "execution_count": null,
   "id": "4c54d29e-0f42-4fab-b0f9-254147091795",
   "metadata": {
    "tags": []
   },
   "outputs": [],
   "source": [
    "mse"
   ]
  },
  {
   "cell_type": "code",
   "execution_count": null,
   "id": "1b216486-9f75-496d-aae2-2019cdac3049",
   "metadata": {
    "tags": []
   },
   "outputs": [],
   "source": [
    "import numpy as np"
   ]
  },
  {
   "cell_type": "code",
   "execution_count": null,
   "id": "c41ea535-7429-4171-86bc-b1b0aeb46db4",
   "metadata": {
    "tags": []
   },
   "outputs": [],
   "source": [
    "len(list(ts_idx_series.index)[0::100])"
   ]
  },
  {
   "cell_type": "code",
   "execution_count": null,
   "id": "0e10d84e-5990-499b-8c95-b5136c9368a4",
   "metadata": {
    "tags": []
   },
   "outputs": [],
   "source": [
    "import tqdm"
   ]
  },
  {
   "cell_type": "code",
   "execution_count": null,
   "id": "2fde642d-f13d-4441-b14c-fed3d7704b99",
   "metadata": {
    "tags": []
   },
   "outputs": [],
   "source": [
    "x.reshape(-1, *x.shape).shape"
   ]
  },
  {
   "cell_type": "code",
   "execution_count": null,
   "id": "e92eb4c4-46d5-465b-93b2-928d92edc09c",
   "metadata": {
    "tags": []
   },
   "outputs": [],
   "source": [
    "import torch"
   ]
  },
  {
   "cell_type": "code",
   "execution_count": null,
   "id": "05b13466-3004-4a2a-866f-3d0e2be159f9",
   "metadata": {
    "tags": []
   },
   "outputs": [],
   "source": [
    "ae_model.encode(torch.stack([ds.__getitem__(idx)[0] for idx in range(0, 3000)])).shape"
   ]
  },
  {
   "cell_type": "code",
   "execution_count": null,
   "id": "7a1337d0-a904-4a22-a38f-08edb229d5b2",
   "metadata": {
    "tags": []
   },
   "outputs": [],
   "source": [
    "%%time\n",
    "mse_ls = []\n",
    "for idx in tqdm.notebook.tqdm(list(ts_idx_series.index)[0::100][:-10]):\n",
    "    x, x_comp_list = ds.__getitem__(idx)\n",
    "    z = ae_model.encode(x)\n",
    "    x_hat = ae_model.decode(z)\n",
    "    \n",
    "    mse_ls.append(((x.numpy() - x_hat.detach().numpy())**2).mean())"
   ]
  },
  {
   "cell_type": "code",
   "execution_count": null,
   "id": "44dd51d0-352c-4b0a-922a-c7d041d219d3",
   "metadata": {
    "tags": []
   },
   "outputs": [],
   "source": [
    "mse_series = pd.Series(np.array(mse_ls))\n",
    "mse_series.index = list(ts_idx_series)[0::100][:-10]"
   ]
  },
  {
   "cell_type": "code",
   "execution_count": null,
   "id": "eac9b677-3ae7-4fee-be6b-ae2148c4a635",
   "metadata": {
    "tags": []
   },
   "outputs": [],
   "source": [
    "mse_series"
   ]
  },
  {
   "cell_type": "code",
   "execution_count": null,
   "id": "0b0442ee-b9bf-4805-97ee-e617b90a02e7",
   "metadata": {
    "tags": []
   },
   "outputs": [],
   "source": [
    "val_df['Normal/Attack'].unique()"
   ]
  },
  {
   "cell_type": "code",
   "execution_count": null,
   "id": "7cbf20db-71bd-47b7-aa5e-836493ecf529",
   "metadata": {
    "tags": []
   },
   "outputs": [],
   "source": [
    "val_df['label'] = [0 if val == 'Normal' else 1 for val in val_df['Normal/Attack']]"
   ]
  },
  {
   "cell_type": "code",
   "execution_count": null,
   "id": "79336767-e62e-46f8-baa5-df0612af7e76",
   "metadata": {
    "tags": []
   },
   "outputs": [],
   "source": [
    "\n",
    "\n",
    "fig, axs = plt.subplots(3, 1, sharex='all')\n",
    "axs[0].plot(mse_series)\n",
    "axs[1].plot(mse_series>3)\n",
    "# axs[1].plot(mse_series>2)\n",
    "# axs[1].plot(mse_series>1)\n",
    "axs[2].plot(val_df.label)\n",
    "\n",
    "fig.show()"
   ]
  },
  {
   "cell_type": "code",
   "execution_count": null,
   "id": "8e8efe40-14cb-4aa9-bff6-6428cbc1cdf6",
   "metadata": {
    "tags": []
   },
   "outputs": [],
   "source": [
    "x.numpy().shape"
   ]
  },
  {
   "cell_type": "code",
   "execution_count": null,
   "id": "66bdc408-ad86-46b4-adcc-a1be39f31e3e",
   "metadata": {
    "tags": []
   },
   "outputs": [],
   "source": [
    "val_df[ts_idx_series[sample_idx]:ts_idx_series[sample_idx+1000-1]][const.SWAT_SENSOR_COLS].values.T.shape"
   ]
  },
  {
   "cell_type": "code",
   "execution_count": null,
   "id": "5db8aa51-f050-423b-8425-84fb4fba2333",
   "metadata": {
    "tags": []
   },
   "outputs": [],
   "source": [
    "plt.plot(\n",
    "ds.scaler.transform(\n",
    "    val_df[ts_idx_series[sample_idx]:ts_idx_series[sample_idx+1000-1]][const.SWAT_SENSOR_COLS].values\n",
    "    ).T[1,:]\n",
    ")\n",
    "plt.plot(x.numpy()[1,:])"
   ]
  },
  {
   "cell_type": "code",
   "execution_count": null,
   "id": "c85f3d94-cd89-4c99-aa59-391c24bd61b8",
   "metadata": {},
   "outputs": [],
   "source": [
    "mod"
   ]
  },
  {
   "cell_type": "code",
   "execution_count": null,
   "id": "b98bdc43-670e-4845-af0e-f36c171f86a5",
   "metadata": {
    "tags": []
   },
   "outputs": [],
   "source": [
    "ts_ls = list(val_df.index)"
   ]
  },
  {
   "cell_type": "code",
   "execution_count": null,
   "id": "6e39b529-cd58-4325-b958-71061437fbb7",
   "metadata": {
    "tags": []
   },
   "outputs": [],
   "source": [
    "len(ts_ls[0::100])"
   ]
  },
  {
   "cell_type": "code",
   "execution_count": null,
   "id": "c9fc32db-8232-4f79-be12-b1c5d6806810",
   "metadata": {
    "tags": []
   },
   "outputs": [],
   "source": [
    "val_df.head()"
   ]
  },
  {
   "cell_type": "code",
   "execution_count": null,
   "id": "4b1567b6-e30e-4fac-8131-846e7c2023d4",
   "metadata": {},
   "outputs": [],
   "source": []
  }
 ],
 "metadata": {
  "kernelspec": {
   "display_name": "diag-vae",
   "language": "python",
   "name": "diag-vae"
  },
  "language_info": {
   "codemirror_mode": {
    "name": "ipython",
    "version": 3
   },
   "file_extension": ".py",
   "mimetype": "text/x-python",
   "name": "python",
   "nbconvert_exporter": "python",
   "pygments_lexer": "ipython3",
   "version": "3.9.6"
  }
 },
 "nbformat": 4,
 "nbformat_minor": 5
}
