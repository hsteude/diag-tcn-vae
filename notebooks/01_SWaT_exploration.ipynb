{
 "cells": [
  {
   "cell_type": "markdown",
   "metadata": {},
   "source": [
    "# Exploration of the SWaT dataset\n",
    "\n",
    "###  Where does this data come from:\n",
    "1. I went [here](https://itrust.sutd.edu.sg/itrust-labs_datasets/) and requested the WADI and SWaT datasets. \n",
    "2. I only downloaded the 2015 folder from the Google drive folder they granted me access to. This gave me lots of zip files though.\n",
    "3. I copied the zip files, ran something like:\n",
    "\n",
    "```sh\n",
    "mkdir all\n",
    "for x in *.zip ; do unzip -d all -o -u $x ; done\n",
    "```\n",
    "4. Since the \"Network\" folder was huge I decided to include the tables in the \"Physical\" folder only for now.\n"
   ]
  },
  {
   "cell_type": "code",
   "execution_count": null,
   "metadata": {
    "tags": []
   },
   "outputs": [],
   "source": [
    "import os\n",
    "os.chdir('..')"
   ]
  },
  {
   "cell_type": "code",
   "execution_count": null,
   "metadata": {
    "tags": []
   },
   "outputs": [],
   "source": [
    "import pandas as pd\n",
    "import diag_vae.constants as const\n",
    "# from pandas_profiling import ProfileReport\n",
    "from datetime import datetime\n",
    "import matplotlib.pyplot as plt\n",
    "from ipywidgets import interact\n",
    "from plotly.subplots import make_subplots\n",
    "import plotly.graph_objects as go"
   ]
  },
  {
   "cell_type": "markdown",
   "metadata": {},
   "source": [
    "## Read the data"
   ]
  },
  {
   "cell_type": "code",
   "execution_count": null,
   "metadata": {
    "tags": []
   },
   "outputs": [],
   "source": [
    "# reading the time series data files (physics only!)\n",
    "raw_file_paths = [const.SWAT_RAW_NORMAL_V0_PATH, const.SWAT_RAW_NORMAL_V1_PATH, const.SWAT_RAW_ATTACK_V0_PATH]\n",
    "proc_file_paths = [const.SWAT_PARQUET_NORMAL_V0_PATH, const.SWAT_PARQUET_NORMAL_V1_PATH, const.SWAT_PARQUET_ATTACK_V0_PATH]\n",
    "\n"
   ]
  },
  {
   "cell_type": "code",
   "execution_count": null,
   "metadata": {},
   "outputs": [],
   "source": [
    "for raw_file_path, proc_file_path in zip(raw_file_paths, proc_file_paths):\n",
    "   if not os.path.exists(proc_file_path):\n",
    "      df =15\n",
    "      df.to_parquet(proc_file_path)"
   ]
  },
  {
   "cell_type": "code",
   "execution_count": null,
   "metadata": {
    "tags": []
   },
   "outputs": [],
   "source": [
    "df_normal_v0, df_normal_v1, df_attack_v0 = [pd.read_parquet(path) for path in proc_file_paths]\n",
    "\n",
    "# read labels file\n",
    "df_label = pd.read_excel(const.SWAT_RAW_LABEL_PATH)"
   ]
  },
  {
   "cell_type": "markdown",
   "metadata": {},
   "source": [
    "## Check heads and basic stats"
   ]
  },
  {
   "cell_type": "code",
   "execution_count": null,
   "metadata": {
    "jupyter": {
     "outputs_hidden": true
    },
    "tags": []
   },
   "outputs": [],
   "source": [
    "df_attack_v0.head()"
   ]
  },
  {
   "cell_type": "code",
   "execution_count": null,
   "metadata": {},
   "outputs": [],
   "source": [
    "df_normal_v1.head()"
   ]
  },
  {
   "cell_type": "code",
   "execution_count": null,
   "metadata": {},
   "outputs": [],
   "source": [
    "df_attack_v0.head()"
   ]
  },
  {
   "cell_type": "markdown",
   "metadata": {},
   "source": [
    "## Symbols MAP"
   ]
  },
  {
   "cell_type": "markdown",
   "metadata": {},
   "source": [
    "![SWAT Comps](../figures/SWAT_Components.png)"
   ]
  },
  {
   "cell_type": "code",
   "execution_count": null,
   "metadata": {
    "tags": []
   },
   "outputs": [],
   "source": [
    "df_normal_v1.columns"
   ]
  },
  {
   "cell_type": "code",
   "execution_count": null,
   "metadata": {},
   "outputs": [],
   "source": [
    "all_sensor_cols = "
   ]
  },
  {
   "cell_type": "code",
   "execution_count": null,
   "metadata": {
    "tags": []
   },
   "outputs": [],
   "source": [
    "{f'Comp_{i}':[c for c in df_normal_v1.columns if f'{i}0' in c] for i in range(1,7)}"
   ]
  },
  {
   "cell_type": "code",
   "execution_count": null,
   "metadata": {
    "tags": []
   },
   "outputs": [],
   "source": [
    "df_normal_v0['Normal/Attack'].unique()"
   ]
  },
  {
   "cell_type": "code",
   "execution_count": null,
   "metadata": {
    "tags": []
   },
   "outputs": [],
   "source": [
    "df_label"
   ]
  },
  {
   "cell_type": "code",
   "execution_count": null,
   "metadata": {},
   "outputs": [],
   "source": []
  },
  {
   "cell_type": "code",
   "execution_count": null,
   "metadata": {},
   "outputs": [],
   "source": []
  },
  {
   "cell_type": "code",
   "execution_count": null,
   "metadata": {},
   "outputs": [],
   "source": []
  },
  {
   "cell_type": "code",
   "execution_count": null,
   "metadata": {},
   "outputs": [],
   "source": []
  },
  {
   "cell_type": "markdown",
   "metadata": {},
   "source": [
    "## What is the difference between those two files?"
   ]
  },
  {
   "cell_type": "code",
   "execution_count": null,
   "metadata": {},
   "outputs": [],
   "source": [
    "# Timeframe? Takes a minute or two\n",
    "for ind, df in enumerate([df_normal_v0, df_normal_v1]):\n",
    "    print(f'Start timestamp v{ind}: {pd.to_datetime(df[\" Timestamp\"]).min()}')\n",
    "    print(f'End timestamp v{ind}: {pd.to_datetime(df[\" Timestamp\"]).max()}')"
   ]
  },
  {
   "cell_type": "markdown",
   "metadata": {},
   "source": [
    "--> v1 seams to start half an hour later. I read somewhere that that is on purpose\n",
    "but can't find where anymore. "
   ]
  },
  {
   "cell_type": "code",
   "execution_count": null,
   "metadata": {},
   "outputs": [],
   "source": [
    "# Same schema in v0 and v1?\n",
    "all(df_normal_v0.columns == df_normal_v1.columns)"
   ]
  },
  {
   "cell_type": "markdown",
   "metadata": {},
   "source": [
    "--> Let's stick to v1, they'll have a reason for the\n",
    "version bump anyways."
   ]
  },
  {
   "cell_type": "code",
   "execution_count": null,
   "metadata": {},
   "outputs": [],
   "source": [
    "# Same schema in v1 and attack?\n",
    "all(df_normal_v0.columns == df_attack_v0.columns)"
   ]
  },
  {
   "cell_type": "code",
   "execution_count": null,
   "metadata": {},
   "outputs": [],
   "source": [
    "set(df_attack_v0.columns).difference(set(df_normal_v1.columns))"
   ]
  },
  {
   "cell_type": "markdown",
   "metadata": {},
   "source": [
    "Haha, they messed up the column names... I'll fix that later!"
   ]
  },
  {
   "cell_type": "markdown",
   "metadata": {},
   "source": [
    "## Frequency?"
   ]
  },
  {
   "cell_type": "code",
   "execution_count": null,
   "metadata": {},
   "outputs": [],
   "source": [
    "pd.to_datetime(df_normal_v0[' Timestamp']).diff()[1:].unique()"
   ]
  },
  {
   "cell_type": "markdown",
   "metadata": {},
   "source": [
    "Ok, seems to be one seconds between all the timestamps"
   ]
  },
  {
   "cell_type": "markdown",
   "metadata": {},
   "source": [
    "## Basic stats"
   ]
  },
  {
   "cell_type": "code",
   "execution_count": null,
   "metadata": {},
   "outputs": [],
   "source": [
    "df_normal_v0.info()"
   ]
  },
  {
   "cell_type": "markdown",
   "metadata": {},
   "source": [
    "No missing values, nice!"
   ]
  },
  {
   "cell_type": "code",
   "execution_count": null,
   "metadata": {},
   "outputs": [],
   "source": [
    "# profile = ProfileReport(df_normal_v0,\n",
    "#                         minimal=True, title='Pandas Profiling Report',\n",
    "#                         explorative=True)\n",
    "# profile.to_widgets()"
   ]
  },
  {
   "cell_type": "markdown",
   "metadata": {},
   "source": [
    "## Check the label table"
   ]
  },
  {
   "cell_type": "code",
   "execution_count": null,
   "metadata": {},
   "outputs": [],
   "source": [
    "# check label dataset\n",
    "df_label"
   ]
  },
  {
   "cell_type": "markdown",
   "metadata": {},
   "source": [
    "There seams to be a bug in the labels data set. There are entries for jan 2015. For that reason we filter the data frames according to a min and max date in the config file (constants.py)"
   ]
  },
  {
   "cell_type": "code",
   "execution_count": null,
   "metadata": {},
   "outputs": [],
   "source": [
    "# filter labels df to the attack that have a end date attached\n",
    "# transofrm end time to full timestmap\n",
    "df_label_time = df_label[df_label['End Time'].notna()].copy()\n",
    "df_label_time.loc[:, 'End Time'] = [datetime.combine(datetime.date(a), b) for a,b in zip(\n",
    "    df_label_time['Start Time'], df_label_time['End Time'])]\n",
    "df_label_time = df_label_time.reset_index(drop=True)"
   ]
  },
  {
   "cell_type": "code",
   "execution_count": null,
   "metadata": {},
   "outputs": [],
   "source": [
    "# plot timestamp for attach df\n",
    "plt.plot(df_attack_v0.index.values)"
   ]
  },
  {
   "cell_type": "code",
   "execution_count": null,
   "metadata": {},
   "outputs": [],
   "source": [
    "# plot timestamps of labels\n",
    "plt.plot(df_label_time['Start Time'].values)"
   ]
  },
  {
   "cell_type": "markdown",
   "metadata": {},
   "source": [
    "## Lets plot som time series"
   ]
  },
  {
   "cell_type": "code",
   "execution_count": null,
   "metadata": {},
   "outputs": [],
   "source": [
    "# clean time stamp colname\n",
    "for df in [df_normal_v1, df_attack_v0]:\n",
    "    df['Timestamp'] = pd.to_datetime(df[' Timestamp'])"
   ]
  },
  {
   "cell_type": "code",
   "execution_count": null,
   "metadata": {},
   "outputs": [],
   "source": [
    "# convert to pandas time series\n",
    "df_normal_v1 = df_normal_v1.set_index('Timestamp', drop=True)\n",
    "df_attack_v0 = df_attack_v0.set_index('Timestamp', drop=True)\n",
    "df_normal_v1 = df_normal_v1.drop(' Timestamp', axis=1)\n",
    "df_attack_v0 = df_attack_v0.drop(' Timestamp', axis=1)"
   ]
  },
  {
   "cell_type": "code",
   "execution_count": null,
   "metadata": {},
   "outputs": [],
   "source": [
    "# fix column names (some begin with white spaces)\n",
    "df_normal_v1.columns = [s.replace(' ', '') for s in df_normal_v1.columns]\n",
    "df_attack_v0.columns = [s.replace(' ', '') for s in df_attack_v0.columns]"
   ]
  },
  {
   "cell_type": "code",
   "execution_count": null,
   "metadata": {},
   "outputs": [],
   "source": [
    "# ok, lets remove everything smaller than min_date and larger than max date from the attacks and labels\n",
    "df_label_time = df_label_time[(df_label_time['Start Time'] > const.SWAT_MIN_DATE) &\n",
    "                         (df_label_time['Start Time'] < const.SWAT_MAX_DATE)]\n",
    "df_attack_v0 = df_attack_v0[(df_attack_v0.index > const.SWAT_MIN_DATE) &\n",
    "                         (df_attack_v0.index < const.SWAT_MAX_DATE)]"
   ]
  },
  {
   "cell_type": "code",
   "execution_count": null,
   "metadata": {},
   "outputs": [],
   "source": [
    "df_normal_v1.head()"
   ]
  },
  {
   "cell_type": "code",
   "execution_count": null,
   "metadata": {},
   "outputs": [],
   "source": [
    "df_label_time['Start Time'].min()"
   ]
  },
  {
   "cell_type": "code",
   "execution_count": null,
   "metadata": {},
   "outputs": [],
   "source": [
    "# define plot function\n",
    "def get_4_signal_plot(sensor0='AIT503', sensor1='AIT203',\n",
    "                      sensor2='FIT501', sensor3='LIT401', day='all', sample_freq='60s', \n",
    "                     show_attacks=False):\n",
    "    df_plot = df.copy()\n",
    "    df_plot_label = df_label_time.copy()\n",
    "    print(df_plot_label['Start Time'].min())\n",
    "    if not day == 'all':\n",
    "        df_plot = df_plot[(df_plot.index > pd.Timestamp(day)) &\n",
    "                         (df_plot.index < pd.Timestamp(day)+pd.Timedelta('1d'))]\n",
    "        df_plot_label = df_plot_label[(df_plot_label['Start Time'] > pd.Timestamp(day)) &\n",
    "                         (df_plot_label['Start Time'] < pd.Timestamp(day)+pd.Timedelta('1d'))]\n",
    "    df_plot = df_plot.resample(sample_freq).mean()\n",
    "\n",
    "    \n",
    "    sensor_selection_list=[sensor0, sensor1, sensor2, sensor3]\n",
    "    num_plots = 5 if show_attacks else 4\n",
    "    fig = make_subplots(rows=num_plots, cols=1, shared_xaxes=True)\n",
    "    for i, s in enumerate(sensor_selection_list):\n",
    "        fig.add_trace(\n",
    "            go.Scatter(x=df_plot.index,\n",
    "                       y=df_plot[s], name=s),\n",
    "            row=i+1, col=1,\n",
    "        )\n",
    "    if show_attacks:\n",
    "        for i in range(len(df_plot_label)):\n",
    "            df_plot_label = df_plot_label.reset_index(drop=True)\n",
    "            start = df_plot_label.loc[i, 'Start Time']\n",
    "            end = df_plot_label.loc[i, 'End Time']\n",
    "            attack = df_plot_label.loc[i, 'Attack #']\n",
    "            fig.add_trace(\n",
    "                go.Scatter(x=[start, end],\n",
    "                           y=[1, 1], name=f'Attack #{attack}'),\n",
    "                row=5, col=1,\n",
    "            )\n",
    "\n",
    "    title = f'{sensor0}, {sensor1}, {sensor2} and {sensor3}'\\\n",
    "            f' over time (averaged over {sample_freq})'\n",
    "\n",
    "    fig.update_layout(height=800, width=800, title_text=title)\n",
    "    fig.show()"
   ]
  },
  {
   "cell_type": "code",
   "execution_count": null,
   "metadata": {},
   "outputs": [],
   "source": [
    "# define drop down lists (see plots below)\n",
    "day_list_normal = [f'2015-12-{d}' for d in range(22,28)] + ['all']\n",
    "day_list_attack = [f'2015-12-{d}' for d in range(28,31)] + ['2016-01-01'] + \\\n",
    "                  ['2016-02-01'] + ['all']\n",
    "sample_frequency_list = ['1s', '5s', '10s', '60s']\n",
    "df = df_attack_v0.copy()\n",
    "sensors = list(df.columns)\n",
    "sensors.remove('Normal/Attack')\n",
    "sensors.sort()\n",
    "interact(get_4_signal_plot, sensor0=sensors, sensor1=sensors,\n",
    "         sensor2=sensors, sensor3=sensors, day=day_list_attack,\n",
    "         sample_freq=sample_frequency_list, show_attacks=True)"
   ]
  },
  {
   "cell_type": "code",
   "execution_count": null,
   "metadata": {},
   "outputs": [],
   "source": []
  },
  {
   "cell_type": "code",
   "execution_count": null,
   "metadata": {},
   "outputs": [],
   "source": []
  },
  {
   "cell_type": "code",
   "execution_count": null,
   "metadata": {},
   "outputs": [],
   "source": []
  },
  {
   "cell_type": "code",
   "execution_count": null,
   "metadata": {},
   "outputs": [],
   "source": []
  },
  {
   "cell_type": "code",
   "execution_count": null,
   "metadata": {},
   "outputs": [],
   "source": []
  },
  {
   "cell_type": "code",
   "execution_count": null,
   "metadata": {},
   "outputs": [],
   "source": []
  }
 ],
 "metadata": {
  "kernelspec": {
   "display_name": "Python 3 (ipykernel)",
   "language": "python",
   "name": "python3"
  },
  "language_info": {
   "codemirror_mode": {
    "name": "ipython",
    "version": 3
   },
   "file_extension": ".py",
   "mimetype": "text/x-python",
   "name": "python",
   "nbconvert_exporter": "python",
   "pygments_lexer": "ipython3",
   "version": "3.10.8"
  },
  "vscode": {
   "interpreter": {
    "hash": "09f861ea5e8aef604d9043d663b61441b0efec893bff56c223b3667ed19a445c"
   }
  }
 },
 "nbformat": 4,
 "nbformat_minor": 4
}
