{
 "cells": [
  {
   "cell_type": "code",
   "execution_count": null,
   "id": "5d6862e2-98d4-45c5-a42f-c551bb565a79",
   "metadata": {
    "tags": []
   },
   "outputs": [],
   "source": [
    "import os\n",
    "os.chdir('..')"
   ]
  },
  {
   "cell_type": "code",
   "execution_count": null,
   "id": "3c04e140-ac84-4a04-bbcc-1f3ecbea8d66",
   "metadata": {
    "tags": []
   },
   "outputs": [],
   "source": [
    "import pyreadr"
   ]
  },
  {
   "cell_type": "code",
   "execution_count": null,
   "id": "a8b4db00-9933-4836-9eed-02d3a35af0ae",
   "metadata": {
    "tags": []
   },
   "outputs": [],
   "source": [
    "train_normal_path = './data/processed/TEP_FaultFree_Training.RData'\n",
    "train_fault_path = './data/processed/TEP_Faulty_Training.RData'\n",
    "\n",
    "train_df = pyreadr.read_r(train_normal_path)['fault_free_training']\n",
    "test_df = pyreadr.read_r(train_fault_path)['faulty_training']\n"
   ]
  },
  {
   "cell_type": "code",
   "execution_count": null,
   "id": "fa9c0bf9-56df-4643-8e7c-925919f9c24f",
   "metadata": {
    "tags": []
   },
   "outputs": [],
   "source": [
    "train_df.head()"
   ]
  },
  {
   "cell_type": "code",
   "execution_count": null,
   "id": "4c348ab2-6659-4f5e-86b2-7ef392cf2723",
   "metadata": {
    "tags": []
   },
   "outputs": [],
   "source": [
    "train_df.columns\n"
   ]
  },
  {
   "cell_type": "code",
   "execution_count": null,
   "id": "2326d981-1801-4352-8bdf-b784994b4ed9",
   "metadata": {
    "tags": []
   },
   "outputs": [],
   "source": [
    "len(train_df[train_df.simulationRun == 2.0])"
   ]
  },
  {
   "cell_type": "code",
   "execution_count": null,
   "id": "5b93d934-acf9-44ab-bc19-069ec07969de",
   "metadata": {
    "tags": []
   },
   "outputs": [],
   "source": [
    "test_df[test_df.simulationRun == 2.0]"
   ]
  },
  {
   "cell_type": "code",
   "execution_count": null,
   "id": "7d7e974a-d516-464c-a078-f6d8a04403eb",
   "metadata": {},
   "outputs": [],
   "source": []
  },
  {
   "cell_type": "code",
   "execution_count": null,
   "id": "0fa0a70c-df3a-410c-acd1-a0b1aad78324",
   "metadata": {},
   "outputs": [],
   "source": []
  },
  {
   "cell_type": "code",
   "execution_count": null,
   "id": "b81fd504-df83-4b22-af01-8add5c8a982c",
   "metadata": {},
   "outputs": [],
   "source": []
  },
  {
   "cell_type": "code",
   "execution_count": null,
   "id": "453a5d32-a579-41c8-8de5-658e6450097f",
   "metadata": {},
   "outputs": [],
   "source": []
  },
  {
   "cell_type": "code",
   "execution_count": null,
   "id": "ecc40d21-3c14-4f00-8b8f-9e7e5760a2cd",
   "metadata": {
    "tags": []
   },
   "outputs": [],
   "source": [
    "import matplotlib.pyplot as plt"
   ]
  },
  {
   "cell_type": "code",
   "execution_count": null,
   "id": "8d56f2d9-dff3-4908-9e20-8968968624aa",
   "metadata": {
    "tags": []
   },
   "outputs": [],
   "source": [
    "train_df['sample'].value_counts()"
   ]
  },
  {
   "cell_type": "code",
   "execution_count": null,
   "id": "07f9b07e-4ce9-469d-9a37-9cd8ece19aef",
   "metadata": {
    "tags": []
   },
   "outputs": [],
   "source": [
    "plt.plot(train_df.xmeas_7[0:2050])\n",
    "plt.plot(train_df.xmeas_1[0:2050])"
   ]
  },
  {
   "cell_type": "code",
   "execution_count": null,
   "id": "7cd9f675-5ef2-42e3-b6f5-eb49ab552bad",
   "metadata": {},
   "outputs": [],
   "source": []
  }
 ],
 "metadata": {
  "kernelspec": {
   "display_name": "diag-tcn",
   "language": "python",
   "name": "diag-tcn"
  },
  "language_info": {
   "codemirror_mode": {
    "name": "ipython",
    "version": 3
   },
   "file_extension": ".py",
   "mimetype": "text/x-python",
   "name": "python",
   "nbconvert_exporter": "python",
   "pygments_lexer": "ipython3",
   "version": "3.10.8"
  }
 },
 "nbformat": 4,
 "nbformat_minor": 5
}
