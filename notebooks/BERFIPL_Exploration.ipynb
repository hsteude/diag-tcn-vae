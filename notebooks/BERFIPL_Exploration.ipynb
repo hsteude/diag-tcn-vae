{
 "cells": [
  {
   "cell_type": "code",
   "execution_count": 1,
   "id": "5e3d924f-983b-4a2c-95ec-b2c07b931011",
   "metadata": {
    "tags": []
   },
   "outputs": [],
   "source": [
    "import os\n",
    "os.chdir('..')"
   ]
  },
  {
   "cell_type": "code",
   "execution_count": 2,
   "id": "44f46e39-fca8-49f8-bed3-70af456fc539",
   "metadata": {
    "tags": []
   },
   "outputs": [],
   "source": [
    "import pandas as pd"
   ]
  },
  {
   "cell_type": "code",
   "execution_count": 3,
   "id": "f2a79622-ff1d-445f-a4a4-15cf23fa05c5",
   "metadata": {
    "tags": []
   },
   "outputs": [],
   "source": [
    "DATA_RAW_NORMAL_PATH = './data/raw/data/ds1/ds1n.csv'"
   ]
  },
  {
   "cell_type": "code",
   "execution_count": 4,
   "id": "e0460c28-779c-4b00-9fe5-c4bdd22344da",
   "metadata": {
    "tags": []
   },
   "outputs": [],
   "source": [
    "df_n = pd.read_csv(DATA_RAW_NORMAL_PATH)"
   ]
  },
  {
   "cell_type": "code",
   "execution_count": 5,
   "id": "e6a527ab-df9b-43dd-864b-015776b67646",
   "metadata": {
    "tags": []
   },
   "outputs": [
    {
     "data": {
      "text/html": [
       "<div>\n",
       "<style scoped>\n",
       "    .dataframe tbody tr th:only-of-type {\n",
       "        vertical-align: middle;\n",
       "    }\n",
       "\n",
       "    .dataframe tbody tr th {\n",
       "        vertical-align: top;\n",
       "    }\n",
       "\n",
       "    .dataframe thead th {\n",
       "        text-align: right;\n",
       "    }\n",
       "</style>\n",
       "<table border=\"1\" class=\"dataframe\">\n",
       "  <thead>\n",
       "    <tr style=\"text-align: right;\">\n",
       "      <th></th>\n",
       "      <th>time</th>\n",
       "      <th>mixer_partial0.pump_P201.medium.h</th>\n",
       "      <th>mixer_partial0.pump_P201.medium.p</th>\n",
       "      <th>mixer_partial0.tank_B201.level</th>\n",
       "      <th>mixer_partial0.tank_B201.medium.h</th>\n",
       "      <th>mixer_partial0.tank_B202.level</th>\n",
       "      <th>mixer_partial0.tank_B202.medium.h</th>\n",
       "      <th>mixer_partial0.tank_B203.level</th>\n",
       "      <th>mixer_partial0.tank_B203.medium.h</th>\n",
       "      <th>mixer_partial0.tank_B204.level</th>\n",
       "      <th>...</th>\n",
       "      <th>mixer_partial0.Reservoir_filling.outerStatePort.localActive</th>\n",
       "      <th>mixer_partial0.Reservoir_filling.outerStatePort.subgraphStatePort.resume</th>\n",
       "      <th>mixer_partial0.Reservoir_filling.outerStatePort.subgraphStatePort.suspend</th>\n",
       "      <th>mixer_partial0.initialStep.outerStatePort.localActive</th>\n",
       "      <th>mixer_partial0.initialStep.outerStatePort.subgraphStatePort.resume</th>\n",
       "      <th>mixer_partial0.initialStep.outerStatePort.subgraphStatePort.suspend</th>\n",
       "      <th>mixer_partial0.stateGraphRoot.subgraphStatePort.resume</th>\n",
       "      <th>mixer_partial0.stateGraphRoot.subgraphStatePort.suspend</th>\n",
       "      <th>mixer_partial0.valve_V201.open</th>\n",
       "      <th>mixer_partial0.valve_V202.open</th>\n",
       "    </tr>\n",
       "  </thead>\n",
       "  <tbody>\n",
       "    <tr>\n",
       "      <th>0</th>\n",
       "      <td>0.000000e+00</td>\n",
       "      <td>84013.058153</td>\n",
       "      <td>101325.000000</td>\n",
       "      <td>0.3000</td>\n",
       "      <td>84013.058153</td>\n",
       "      <td>0.3000</td>\n",
       "      <td>84013.058153</td>\n",
       "      <td>0.3000</td>\n",
       "      <td>84013.058153</td>\n",
       "      <td>0.100000</td>\n",
       "      <td>...</td>\n",
       "      <td>1</td>\n",
       "      <td>0</td>\n",
       "      <td>0</td>\n",
       "      <td>0</td>\n",
       "      <td>0</td>\n",
       "      <td>0</td>\n",
       "      <td>0</td>\n",
       "      <td>0</td>\n",
       "      <td>1</td>\n",
       "      <td>1</td>\n",
       "    </tr>\n",
       "    <tr>\n",
       "      <th>1</th>\n",
       "      <td>2.566552e-08</td>\n",
       "      <td>84013.068651</td>\n",
       "      <td>101335.479055</td>\n",
       "      <td>0.3000</td>\n",
       "      <td>84013.058153</td>\n",
       "      <td>0.3000</td>\n",
       "      <td>84013.058153</td>\n",
       "      <td>0.3000</td>\n",
       "      <td>84013.058153</td>\n",
       "      <td>0.100000</td>\n",
       "      <td>...</td>\n",
       "      <td>1</td>\n",
       "      <td>0</td>\n",
       "      <td>0</td>\n",
       "      <td>0</td>\n",
       "      <td>0</td>\n",
       "      <td>0</td>\n",
       "      <td>0</td>\n",
       "      <td>0</td>\n",
       "      <td>1</td>\n",
       "      <td>1</td>\n",
       "    </tr>\n",
       "    <tr>\n",
       "      <th>2</th>\n",
       "      <td>2.566552e-08</td>\n",
       "      <td>84013.068651</td>\n",
       "      <td>101335.479055</td>\n",
       "      <td>0.3000</td>\n",
       "      <td>84013.058153</td>\n",
       "      <td>0.3000</td>\n",
       "      <td>84013.058153</td>\n",
       "      <td>0.3000</td>\n",
       "      <td>84013.058153</td>\n",
       "      <td>0.100000</td>\n",
       "      <td>...</td>\n",
       "      <td>1</td>\n",
       "      <td>0</td>\n",
       "      <td>0</td>\n",
       "      <td>0</td>\n",
       "      <td>0</td>\n",
       "      <td>0</td>\n",
       "      <td>0</td>\n",
       "      <td>0</td>\n",
       "      <td>1</td>\n",
       "      <td>1</td>\n",
       "    </tr>\n",
       "    <tr>\n",
       "      <th>3</th>\n",
       "      <td>6.905749e-01</td>\n",
       "      <td>84025.494353</td>\n",
       "      <td>112034.101450</td>\n",
       "      <td>0.2975</td>\n",
       "      <td>84013.708954</td>\n",
       "      <td>0.2975</td>\n",
       "      <td>84013.708954</td>\n",
       "      <td>0.2975</td>\n",
       "      <td>84013.708954</td>\n",
       "      <td>0.100736</td>\n",
       "      <td>...</td>\n",
       "      <td>1</td>\n",
       "      <td>0</td>\n",
       "      <td>0</td>\n",
       "      <td>0</td>\n",
       "      <td>0</td>\n",
       "      <td>0</td>\n",
       "      <td>0</td>\n",
       "      <td>0</td>\n",
       "      <td>1</td>\n",
       "      <td>1</td>\n",
       "    </tr>\n",
       "    <tr>\n",
       "      <th>4</th>\n",
       "      <td>6.905749e-01</td>\n",
       "      <td>84025.494353</td>\n",
       "      <td>112034.101450</td>\n",
       "      <td>0.2975</td>\n",
       "      <td>84013.708954</td>\n",
       "      <td>0.2975</td>\n",
       "      <td>84013.708954</td>\n",
       "      <td>0.2975</td>\n",
       "      <td>84013.708954</td>\n",
       "      <td>0.100736</td>\n",
       "      <td>...</td>\n",
       "      <td>1</td>\n",
       "      <td>0</td>\n",
       "      <td>0</td>\n",
       "      <td>0</td>\n",
       "      <td>0</td>\n",
       "      <td>0</td>\n",
       "      <td>0</td>\n",
       "      <td>0</td>\n",
       "      <td>1</td>\n",
       "      <td>1</td>\n",
       "    </tr>\n",
       "  </tbody>\n",
       "</table>\n",
       "<p>5 rows × 1266 columns</p>\n",
       "</div>"
      ],
      "text/plain": [
       "           time  mixer_partial0.pump_P201.medium.h  \\\n",
       "0  0.000000e+00                       84013.058153   \n",
       "1  2.566552e-08                       84013.068651   \n",
       "2  2.566552e-08                       84013.068651   \n",
       "3  6.905749e-01                       84025.494353   \n",
       "4  6.905749e-01                       84025.494353   \n",
       "\n",
       "   mixer_partial0.pump_P201.medium.p  mixer_partial0.tank_B201.level  \\\n",
       "0                      101325.000000                          0.3000   \n",
       "1                      101335.479055                          0.3000   \n",
       "2                      101335.479055                          0.3000   \n",
       "3                      112034.101450                          0.2975   \n",
       "4                      112034.101450                          0.2975   \n",
       "\n",
       "   mixer_partial0.tank_B201.medium.h  mixer_partial0.tank_B202.level  \\\n",
       "0                       84013.058153                          0.3000   \n",
       "1                       84013.058153                          0.3000   \n",
       "2                       84013.058153                          0.3000   \n",
       "3                       84013.708954                          0.2975   \n",
       "4                       84013.708954                          0.2975   \n",
       "\n",
       "   mixer_partial0.tank_B202.medium.h  mixer_partial0.tank_B203.level  \\\n",
       "0                       84013.058153                          0.3000   \n",
       "1                       84013.058153                          0.3000   \n",
       "2                       84013.058153                          0.3000   \n",
       "3                       84013.708954                          0.2975   \n",
       "4                       84013.708954                          0.2975   \n",
       "\n",
       "   mixer_partial0.tank_B203.medium.h  mixer_partial0.tank_B204.level  ...  \\\n",
       "0                       84013.058153                        0.100000  ...   \n",
       "1                       84013.058153                        0.100000  ...   \n",
       "2                       84013.058153                        0.100000  ...   \n",
       "3                       84013.708954                        0.100736  ...   \n",
       "4                       84013.708954                        0.100736  ...   \n",
       "\n",
       "   mixer_partial0.Reservoir_filling.outerStatePort.localActive  \\\n",
       "0                                                  1             \n",
       "1                                                  1             \n",
       "2                                                  1             \n",
       "3                                                  1             \n",
       "4                                                  1             \n",
       "\n",
       "   mixer_partial0.Reservoir_filling.outerStatePort.subgraphStatePort.resume  \\\n",
       "0                                                  0                          \n",
       "1                                                  0                          \n",
       "2                                                  0                          \n",
       "3                                                  0                          \n",
       "4                                                  0                          \n",
       "\n",
       "   mixer_partial0.Reservoir_filling.outerStatePort.subgraphStatePort.suspend  \\\n",
       "0                                                  0                           \n",
       "1                                                  0                           \n",
       "2                                                  0                           \n",
       "3                                                  0                           \n",
       "4                                                  0                           \n",
       "\n",
       "   mixer_partial0.initialStep.outerStatePort.localActive  \\\n",
       "0                                                  0       \n",
       "1                                                  0       \n",
       "2                                                  0       \n",
       "3                                                  0       \n",
       "4                                                  0       \n",
       "\n",
       "   mixer_partial0.initialStep.outerStatePort.subgraphStatePort.resume  \\\n",
       "0                                                  0                    \n",
       "1                                                  0                    \n",
       "2                                                  0                    \n",
       "3                                                  0                    \n",
       "4                                                  0                    \n",
       "\n",
       "   mixer_partial0.initialStep.outerStatePort.subgraphStatePort.suspend  \\\n",
       "0                                                  0                     \n",
       "1                                                  0                     \n",
       "2                                                  0                     \n",
       "3                                                  0                     \n",
       "4                                                  0                     \n",
       "\n",
       "   mixer_partial0.stateGraphRoot.subgraphStatePort.resume  \\\n",
       "0                                                  0        \n",
       "1                                                  0        \n",
       "2                                                  0        \n",
       "3                                                  0        \n",
       "4                                                  0        \n",
       "\n",
       "   mixer_partial0.stateGraphRoot.subgraphStatePort.suspend  \\\n",
       "0                                                  0         \n",
       "1                                                  0         \n",
       "2                                                  0         \n",
       "3                                                  0         \n",
       "4                                                  0         \n",
       "\n",
       "   mixer_partial0.valve_V201.open  mixer_partial0.valve_V202.open  \n",
       "0                               1                               1  \n",
       "1                               1                               1  \n",
       "2                               1                               1  \n",
       "3                               1                               1  \n",
       "4                               1                               1  \n",
       "\n",
       "[5 rows x 1266 columns]"
      ]
     },
     "execution_count": 5,
     "metadata": {},
     "output_type": "execute_result"
    }
   ],
   "source": [
    "df_n.head()"
   ]
  },
  {
   "cell_type": "code",
   "execution_count": 6,
   "id": "4088928a-5b04-406e-8886-1bec42089b9e",
   "metadata": {
    "tags": []
   },
   "outputs": [
    {
     "name": "stdout",
     "output_type": "stream",
     "text": [
      "<class 'pandas.core.frame.DataFrame'>\n",
      "RangeIndex: 4232 entries, 0 to 4231\n",
      "Columns: 1266 entries, time to mixer_partial0.valve_V202.open\n",
      "dtypes: float64(1008), int64(258)\n",
      "memory usage: 40.9 MB\n"
     ]
    }
   ],
   "source": [
    "df_n.info()"
   ]
  },
  {
   "cell_type": "code",
   "execution_count": 56,
   "id": "e83f0054-1ad7-4cb4-8a38-ba15c1bafdb8",
   "metadata": {
    "tags": []
   },
   "outputs": [
    {
     "data": {
      "text/plain": [
       "False"
      ]
     },
     "execution_count": 56,
     "metadata": {},
     "output_type": "execute_result"
    }
   ],
   "source": [
    "not 'der(mixer_partial0.tank_reservoir.level)'.startswith('der(')"
   ]
  },
  {
   "cell_type": "code",
   "execution_count": 105,
   "id": "b4b0e64b-5250-4f92-8836-b5791fc306b5",
   "metadata": {
    "tags": []
   },
   "outputs": [
    {
     "data": {
      "text/plain": [
       "[]"
      ]
     },
     "execution_count": 105,
     "metadata": {},
     "output_type": "execute_result"
    }
   ],
   "source": [
    "[c for c in comp_ls if 'source0' in c]"
   ]
  },
  {
   "cell_type": "code",
   "execution_count": 107,
   "id": "96e9265e-5291-4194-ae28-2d60e65f5716",
   "metadata": {
    "tags": []
   },
   "outputs": [],
   "source": [
    "def fix_first_dot_comps(comp_name):\n",
    "    for f in [c for c in comp_ls if comp_name in c]:\n",
    "        comp_ls.remove(f)\n",
    "        comp_ls.append(comp_name)"
   ]
  },
  {
   "cell_type": "code",
   "execution_count": 151,
   "id": "d9a05ac3-96b7-4377-a412-1743adf70500",
   "metadata": {
    "tags": []
   },
   "outputs": [
    {
     "data": {
      "text/plain": [
       "['mixer_partial0.valve_V204',\n",
       " 'mixer_partial0.pipe3',\n",
       " 'mixer_partial0.pipe_out',\n",
       " 'mixer_partial0.pipe5',\n",
       " 'mixer_partial0.pipe',\n",
       " 'mixer_partial0.tank_B203',\n",
       " 'mixer_partial0.pump_P201',\n",
       " 'mixer_partial0.pipe2',\n",
       " 'mixer_partial0.valve_V203',\n",
       " 'mixer_partial0.valve_in1',\n",
       " 'mixer_partial0.valveDiscrete',\n",
       " 'mixer_partial0.valve_leaking',\n",
       " 'mixer_partial0.port_out',\n",
       " 'mixer_partial0.tank_B202',\n",
       " 'mixer_partial0.pipe1',\n",
       " 'mixer_partial0.tank_B201',\n",
       " 'mixer_partial0.port_in2',\n",
       " 'source1',\n",
       " 'mixer_partial0.pipe4',\n",
       " 'mixer_partial0.valve_clogging',\n",
       " 'source0',\n",
       " 'mixer_partial0.valve_V201',\n",
       " 'mixer_partial0.tank_reservoir',\n",
       " 'mixer_partial0.port_in1',\n",
       " 'source2',\n",
       " 'mixer_partial0.valve_in2',\n",
       " 'mixer_partial0.valve_V202',\n",
       " 'mixer_partial0.sink',\n",
       " 'mixer_partial0.port_in3',\n",
       " 'mixer_partial0.tank_B204',\n",
       " 'sink0',\n",
       " 'mixer_partial0.valve_in3']"
      ]
     },
     "execution_count": 151,
     "metadata": {},
     "output_type": "execute_result"
    }
   ],
   "source": [
    "relevant_col_str_list = [\"time\", \"v_flow\", \"level\", \"m_flow\", \"fluidVolume\",\n",
    "                       \"N_in\", \"opening\", \"medium.t\", \"port_a.p\", \"port_b.p\"]\n",
    "# list of columns that hold one of the string in the list above\n",
    "col_selection = [str(c) for c in df_n.columns if any([e in c for e in relevant_col_str_list])]\n",
    "#remove those that start with \"der(\"\n",
    "col_selection = [c for c in col_selection if not c.startswith('der(')]\n",
    "# remove time from list\n",
    "col_selection.remove('time')\n",
    "# get list of components\n",
    "comp_ls = list(set(['.'.join(c.split('.')[0:2]) for c in col_selection]))\n",
    "# comp_ls.remove('mixer_partial0.pipe')\n",
    "def fix_first_dot_comps(comp_name):\n",
    "    for f in [c for c in comp_ls if comp_name in c]:\n",
    "        comp_ls.remove(f)\n",
    "        comp_ls.append(comp_name)\n",
    "fix_first_dot_comps('source0')\n",
    "fix_first_dot_comps('source1')\n",
    "fix_first_dot_comps('source2')\n",
    "fix_first_dot_comps('sink0')\n",
    "comp_ls = list(set(comp_ls))\n",
    "\n",
    "# construct component signals map\n",
    "comp_sigs_map = {comp:[c for c in col_selection if f'{comp}.' in c] for comp in comp_ls}\n",
    "comp_ls"
   ]
  },
  {
   "cell_type": "code",
   "execution_count": 152,
   "id": "f685a07f-7d2b-4834-8252-1e520d83d7a4",
   "metadata": {
    "tags": []
   },
   "outputs": [
    {
     "data": {
      "text/plain": [
       "154"
      ]
     },
     "execution_count": 152,
     "metadata": {},
     "output_type": "execute_result"
    }
   ],
   "source": [
    "len(col_selection)"
   ]
  },
  {
   "cell_type": "code",
   "execution_count": 153,
   "id": "274f8f9c-b2c5-4e7b-9fb4-c6624aebd823",
   "metadata": {
    "tags": []
   },
   "outputs": [
    {
     "data": {
      "text/plain": [
       "32"
      ]
     },
     "execution_count": 153,
     "metadata": {},
     "output_type": "execute_result"
    }
   ],
   "source": [
    "len(comp_ls)"
   ]
  },
  {
   "cell_type": "code",
   "execution_count": 154,
   "id": "0eb8be20-bdd4-43d9-a178-79ea85a519c4",
   "metadata": {
    "tags": []
   },
   "outputs": [
    {
     "data": {
      "text/plain": [
       "<Axes: >"
      ]
     },
     "execution_count": 154,
     "metadata": {},
     "output_type": "execute_result"
    },
    {
     "data": {
      "image/png": "[encoded data removed]",
      "text/plain": [
       "<Figure size 640x480 with 1 Axes>"
      ]
     },
     "metadata": {},
     "output_type": "display_data"
    }
   ],
   "source": [
    "df_n[comp_sigs_map[list(comp_sigs_map.keys())[15]]].plot()"
   ]
  },
  {
   "cell_type": "code",
   "execution_count": 155,
   "id": "c04e7498-a2ef-4187-b73f-188271fac196",
   "metadata": {
    "tags": []
   },
   "outputs": [
    {
     "data": {
      "text/plain": [
       "['mixer_partial0.tank_B201.level',\n",
       " 'mixer_partial0.tank_B202.level',\n",
       " 'mixer_partial0.tank_B203.level',\n",
       " 'mixer_partial0.tank_B204.level',\n",
       " 'mixer_partial0.tank_reservoir.level',\n",
       " 'mixer_partial0.pipe4.flowModel.m_flows[1]',\n",
       " 'mixer_partial0.pump_P201.N_in',\n",
       " 'mixer_partial0.pump_P201.fluidVolume',\n",
       " 'mixer_partial0.pump_P201.m_flow',\n",
       " 'mixer_partial0.pump_P201.m_flow_single',\n",
       " 'mixer_partial0.valve_V201.m_flow',\n",
       " 'mixer_partial0.valve_V202.m_flow',\n",
       " 'mixer_partial0.valve_V203.m_flow',\n",
       " 'mixer_partial0.valve_V204.m_flow',\n",
       " 'mixer_partial0.valve_clogging.port_b.p',\n",
       " 'mixer_partial0.valve_leaking.m_flow',\n",
       " 'sink0.pipe.flowModel.m_flows[1]',\n",
       " 'source0.pipe_out.flowModel.m_flows[1]',\n",
       " 'source1.pipe_out.flowModel.m_flows[1]',\n",
       " 'source2.pipe_out.flowModel.m_flows[1]',\n",
       " 'mixer_partial0.pipe.flowModel.m_flows[1]',\n",
       " 'mixer_partial0.pipe.port_a.m_flow',\n",
       " 'mixer_partial0.pipe.port_a.p',\n",
       " 'mixer_partial0.pipe.port_b.m_flow',\n",
       " 'mixer_partial0.pipe.port_b.p',\n",
       " 'mixer_partial0.pipe1.flowModel.m_flows[1]',\n",
       " 'mixer_partial0.pipe1.port_a.m_flow',\n",
       " 'mixer_partial0.pipe1.port_a.p',\n",
       " 'mixer_partial0.pipe1.port_b.m_flow',\n",
       " 'mixer_partial0.pipe1.port_b.p',\n",
       " 'mixer_partial0.pipe2.flowModel.m_flows[1]',\n",
       " 'mixer_partial0.pipe2.port_a.m_flow',\n",
       " 'mixer_partial0.pipe2.port_a.p',\n",
       " 'mixer_partial0.pipe2.port_b.m_flow',\n",
       " 'mixer_partial0.pipe2.port_b.p',\n",
       " 'mixer_partial0.pipe3.flowModel.m_flows[1]',\n",
       " 'mixer_partial0.pipe3.port_a.m_flow',\n",
       " 'mixer_partial0.pipe3.port_a.p',\n",
       " 'mixer_partial0.pipe3.port_b.m_flow',\n",
       " 'mixer_partial0.pipe3.port_b.p',\n",
       " 'mixer_partial0.pipe4.port_a.m_flow',\n",
       " 'mixer_partial0.pipe4.port_a.p',\n",
       " 'mixer_partial0.pipe4.port_b.m_flow',\n",
       " 'mixer_partial0.pipe4.port_b.p',\n",
       " 'mixer_partial0.pipe5.flowModel.m_flows[1]',\n",
       " 'mixer_partial0.pipe5.port_a.m_flow',\n",
       " 'mixer_partial0.pipe5.port_a.p',\n",
       " 'mixer_partial0.pipe5.port_b.m_flow',\n",
       " 'mixer_partial0.pipe_out.flowModel.m_flows[1]',\n",
       " 'mixer_partial0.pipe_out.port_a.m_flow',\n",
       " 'mixer_partial0.pipe_out.port_a.p',\n",
       " 'mixer_partial0.pipe_out.port_b.m_flow',\n",
       " 'mixer_partial0.pipe_out.port_b.p',\n",
       " 'mixer_partial0.port_in1.m_flow',\n",
       " 'mixer_partial0.port_in2.m_flow',\n",
       " 'mixer_partial0.port_in3.m_flow',\n",
       " 'mixer_partial0.port_out.m_flow',\n",
       " 'mixer_partial0.pump_P201.N_in_internal',\n",
       " 'mixer_partial0.pump_P201.port_a.m_flow',\n",
       " 'mixer_partial0.pump_P201.port_a.p',\n",
       " 'mixer_partial0.pump_P201.port_b.m_flow',\n",
       " 'mixer_partial0.pump_P201.port_b.p',\n",
       " 'mixer_partial0.sink.ports[1].m_flow',\n",
       " 'mixer_partial0.tank_B201.fluidVolume',\n",
       " 'mixer_partial0.tank_B201.ports[1].m_flow',\n",
       " 'mixer_partial0.tank_B201.ports[2].m_flow',\n",
       " 'mixer_partial0.tank_B202.fluidVolume',\n",
       " 'mixer_partial0.tank_B202.ports[1].m_flow',\n",
       " 'mixer_partial0.tank_B202.ports[2].m_flow',\n",
       " 'mixer_partial0.tank_B203.fluidVolume',\n",
       " 'mixer_partial0.tank_B203.ports[1].m_flow',\n",
       " 'mixer_partial0.tank_B203.ports[2].m_flow',\n",
       " 'mixer_partial0.tank_B204.fluidVolume',\n",
       " 'mixer_partial0.tank_B204.ports[1].m_flow',\n",
       " 'mixer_partial0.tank_B204.ports[2].m_flow',\n",
       " 'mixer_partial0.tank_reservoir.fluidVolume',\n",
       " 'mixer_partial0.tank_reservoir.ports[1].m_flow',\n",
       " 'mixer_partial0.tank_reservoir.ports[2].m_flow',\n",
       " 'mixer_partial0.tank_reservoir.ports[3].m_flow',\n",
       " 'mixer_partial0.tank_reservoir.ports[4].m_flow',\n",
       " 'mixer_partial0.valveDiscrete.m_flow',\n",
       " 'mixer_partial0.valveDiscrete.port_a.m_flow',\n",
       " 'mixer_partial0.valveDiscrete.port_a.p',\n",
       " 'mixer_partial0.valveDiscrete.port_b.m_flow',\n",
       " 'mixer_partial0.valveDiscrete.port_b.p',\n",
       " 'mixer_partial0.valve_V201.port_a.m_flow',\n",
       " 'mixer_partial0.valve_V201.port_a.p',\n",
       " 'mixer_partial0.valve_V201.port_b.m_flow',\n",
       " 'mixer_partial0.valve_V201.port_b.p',\n",
       " 'mixer_partial0.valve_V202.port_a.m_flow',\n",
       " 'mixer_partial0.valve_V202.port_a.p',\n",
       " 'mixer_partial0.valve_V202.port_b.m_flow',\n",
       " 'mixer_partial0.valve_V202.port_b.p',\n",
       " 'mixer_partial0.valve_V203.port_a.m_flow',\n",
       " 'mixer_partial0.valve_V203.port_a.p',\n",
       " 'mixer_partial0.valve_V203.port_b.m_flow',\n",
       " 'mixer_partial0.valve_V203.port_b.p',\n",
       " 'mixer_partial0.valve_V204.port_a.m_flow',\n",
       " 'mixer_partial0.valve_V204.port_a.p',\n",
       " 'mixer_partial0.valve_V204.port_b.m_flow',\n",
       " 'mixer_partial0.valve_V204.port_b.p',\n",
       " 'mixer_partial0.valve_clogging.m_flow',\n",
       " 'mixer_partial0.valve_clogging.opening',\n",
       " 'mixer_partial0.valve_clogging.port_a.m_flow',\n",
       " 'mixer_partial0.valve_clogging.port_a.p',\n",
       " 'mixer_partial0.valve_clogging.port_b.m_flow',\n",
       " 'mixer_partial0.valve_in1.m_flow',\n",
       " 'mixer_partial0.valve_in1.port_a.m_flow',\n",
       " 'mixer_partial0.valve_in1.port_a.p',\n",
       " 'mixer_partial0.valve_in1.port_b.m_flow',\n",
       " 'mixer_partial0.valve_in1.port_b.p',\n",
       " 'mixer_partial0.valve_in2.m_flow',\n",
       " 'mixer_partial0.valve_in2.port_a.m_flow',\n",
       " 'mixer_partial0.valve_in2.port_a.p',\n",
       " 'mixer_partial0.valve_in2.port_b.m_flow',\n",
       " 'mixer_partial0.valve_in2.port_b.p',\n",
       " 'mixer_partial0.valve_in3.m_flow',\n",
       " 'mixer_partial0.valve_in3.port_a.m_flow',\n",
       " 'mixer_partial0.valve_in3.port_a.p',\n",
       " 'mixer_partial0.valve_in3.port_b.m_flow',\n",
       " 'mixer_partial0.valve_in3.port_b.p',\n",
       " 'mixer_partial0.valve_leaking.opening',\n",
       " 'mixer_partial0.valve_leaking.port_a.m_flow',\n",
       " 'mixer_partial0.valve_leaking.port_a.p',\n",
       " 'mixer_partial0.valve_leaking.port_b.m_flow',\n",
       " 'mixer_partial0.valve_leaking.port_b.p',\n",
       " 'sink0.pipe.port_a.m_flow',\n",
       " 'sink0.pipe.port_a.p',\n",
       " 'sink0.pipe.port_b.m_flow',\n",
       " 'sink0.port_in.m_flow',\n",
       " 'sink0.sink.ports[1].m_flow',\n",
       " 'sink0.volumeFlowRate.port_a.m_flow',\n",
       " 'sink0.volumeFlowRate.port_b.m_flow',\n",
       " 'source0.pipe_out.port_a.m_flow',\n",
       " 'source0.pipe_out.port_b.m_flow',\n",
       " 'source0.pipe_out.port_b.p',\n",
       " 'source0.port_out.m_flow',\n",
       " 'source0.source.ports[1].m_flow',\n",
       " 'source0.volumeFlowRate.port_a.m_flow',\n",
       " 'source0.volumeFlowRate.port_b.m_flow',\n",
       " 'source1.pipe_out.port_a.m_flow',\n",
       " 'source1.pipe_out.port_b.m_flow',\n",
       " 'source1.pipe_out.port_b.p',\n",
       " 'source1.port_out.m_flow',\n",
       " 'source1.source.ports[1].m_flow',\n",
       " 'source1.volumeFlowRate.port_a.m_flow',\n",
       " 'source1.volumeFlowRate.port_b.m_flow',\n",
       " 'source2.pipe_out.port_a.m_flow',\n",
       " 'source2.pipe_out.port_b.m_flow',\n",
       " 'source2.pipe_out.port_b.p',\n",
       " 'source2.port_out.m_flow',\n",
       " 'source2.source.ports[1].m_flow',\n",
       " 'source2.volumeFlowRate.port_a.m_flow',\n",
       " 'source2.volumeFlowRate.port_b.m_flow']"
      ]
     },
     "execution_count": 155,
     "metadata": {},
     "output_type": "execute_result"
    }
   ],
   "source": [
    "col_selection"
   ]
  },
  {
   "cell_type": "markdown",
   "id": "b2350849-5008-40ac-9e66-e85c1817bd94",
   "metadata": {
    "tags": []
   },
   "source": [
    "# DA SIND WELCHE DOPPELT!!!!!"
   ]
  },
  {
   "cell_type": "code",
   "execution_count": 156,
   "id": "4907945f-b338-41b4-bc05-43d64dc1706d",
   "metadata": {
    "tags": []
   },
   "outputs": [
    {
     "data": {
      "text/plain": [
       "['source0.pipe_out.flowModel.m_flows[1]',\n",
       " 'source0.pipe_out.port_a.m_flow',\n",
       " 'source0.pipe_out.port_b.m_flow',\n",
       " 'source0.pipe_out.port_b.p',\n",
       " 'source0.port_out.m_flow',\n",
       " 'source0.source.ports[1].m_flow',\n",
       " 'source0.volumeFlowRate.port_a.m_flow',\n",
       " 'source0.volumeFlowRate.port_b.m_flow']"
      ]
     },
     "execution_count": 156,
     "metadata": {},
     "output_type": "execute_result"
    }
   ],
   "source": [
    "comp_sigs_map['source0']"
   ]
  },
  {
   "cell_type": "code",
   "execution_count": 157,
   "id": "cf53fd3a-3536-4af6-b2f8-09449922032c",
   "metadata": {
    "tags": []
   },
   "outputs": [
    {
     "data": {
      "text/plain": [
       "32"
      ]
     },
     "execution_count": 157,
     "metadata": {},
     "output_type": "execute_result"
    }
   ],
   "source": [
    "len(comp_ls)"
   ]
  },
  {
   "cell_type": "code",
   "execution_count": 158,
   "id": "11f459a4-4fd8-49cf-8948-843f08747774",
   "metadata": {
    "tags": []
   },
   "outputs": [],
   "source": [
    "liste = []\n",
    "for l in list(comp_sigs_map.values()):\n",
    "    liste.extend(l)"
   ]
  },
  {
   "cell_type": "code",
   "execution_count": 159,
   "id": "5f65edc5-2aa8-4332-a5a2-20b7c8e63888",
   "metadata": {
    "tags": []
   },
   "outputs": [
    {
     "data": {
      "text/plain": [
       "154"
      ]
     },
     "execution_count": 159,
     "metadata": {},
     "output_type": "execute_result"
    }
   ],
   "source": [
    "len(liste)"
   ]
  },
  {
   "cell_type": "code",
   "execution_count": 160,
   "id": "88d7da37-6104-417e-b94a-1eadbf4440bb",
   "metadata": {
    "tags": []
   },
   "outputs": [
    {
     "data": {
      "text/plain": [
       "154"
      ]
     },
     "execution_count": 160,
     "metadata": {},
     "output_type": "execute_result"
    }
   ],
   "source": [
    "len(set(liste))"
   ]
  },
  {
   "cell_type": "code",
   "execution_count": 137,
   "id": "2bb69e57-5595-49a0-93ff-fb4fc82fb0d8",
   "metadata": {
    "tags": []
   },
   "outputs": [
    {
     "data": {
      "text/plain": [
       "['mixer_partial0.pipe1.flowModel.m_flows[1]',\n",
       " 'mixer_partial0.pipe1.port_a.m_flow',\n",
       " 'mixer_partial0.pipe1.port_a.p',\n",
       " 'mixer_partial0.pipe1.port_b.m_flow',\n",
       " 'mixer_partial0.pipe1.port_b.p']"
      ]
     },
     "execution_count": 137,
     "metadata": {},
     "output_type": "execute_result"
    }
   ],
   "source": [
    "comp_sigs_map['mixer_partial0.pipe1']"
   ]
  },
  {
   "cell_type": "code",
   "execution_count": 133,
   "id": "d9c4cc5d-fd2b-4d86-be1a-861d95653333",
   "metadata": {
    "tags": []
   },
   "outputs": [
    {
     "data": {
      "text/plain": [
       "mixer_partial0.pipe2.flowModel.m_flows[1]        2\n",
       "mixer_partial0.pipe2.port_b.m_flow               2\n",
       "mixer_partial0.pipe2.port_a.m_flow               2\n",
       "mixer_partial0.pipe2.port_b.p                    2\n",
       "mixer_partial0.pipe1.port_b.p                    2\n",
       "mixer_partial0.pipe1.port_b.m_flow               2\n",
       "mixer_partial0.pipe1.port_a.p                    2\n",
       "mixer_partial0.pipe1.port_a.m_flow               2\n",
       "mixer_partial0.pipe1.flowModel.m_flows[1]        2\n",
       "mixer_partial0.pipe4.port_a.m_flow               2\n",
       "mixer_partial0.pipe4.port_a.p                    2\n",
       "mixer_partial0.pipe4.port_b.m_flow               2\n",
       "mixer_partial0.pipe4.port_b.p                    2\n",
       "mixer_partial0.pipe4.flowModel.m_flows[1]        2\n",
       "mixer_partial0.pipe5.port_b.m_flow               2\n",
       "mixer_partial0.pipe5.port_a.p                    2\n",
       "mixer_partial0.pipe5.port_a.m_flow               2\n",
       "mixer_partial0.pipe5.flowModel.m_flows[1]        2\n",
       "mixer_partial0.pipe_out.port_b.p                 2\n",
       "mixer_partial0.pipe_out.port_b.m_flow            2\n",
       "mixer_partial0.pipe_out.port_a.p                 2\n",
       "mixer_partial0.pipe_out.port_a.m_flow            2\n",
       "mixer_partial0.pipe_out.flowModel.m_flows[1]     2\n",
       "mixer_partial0.pipe3.port_b.p                    2\n",
       "mixer_partial0.pipe3.port_b.m_flow               2\n",
       "mixer_partial0.pipe3.port_a.p                    2\n",
       "mixer_partial0.pipe3.port_a.m_flow               2\n",
       "mixer_partial0.pipe3.flowModel.m_flows[1]        2\n",
       "mixer_partial0.pipe2.port_a.p                    2\n",
       "mixer_partial0.tank_reservoir.ports[1].m_flow    1\n",
       "mixer_partial0.tank_reservoir.fluidVolume        1\n",
       "mixer_partial0.tank_reservoir.level              1\n",
       "mixer_partial0.valve_V201.port_b.p               1\n",
       "mixer_partial0.port_in1.m_flow                   1\n",
       "mixer_partial0.tank_reservoir.ports[2].m_flow    1\n",
       "mixer_partial0.tank_reservoir.ports[3].m_flow    1\n",
       "mixer_partial0.tank_reservoir.ports[4].m_flow    1\n",
       "mixer_partial0.valve_V201.port_a.p               1\n",
       "source2.pipe_out.flowModel.m_flows[1]            1\n",
       "source2.pipe_out.port_a.m_flow                   1\n",
       "source2.pipe_out.port_b.m_flow                   1\n",
       "source2.pipe_out.port_b.p                        1\n",
       "source2.port_out.m_flow                          1\n",
       "mixer_partial0.valve_V201.port_b.m_flow          1\n",
       "mixer_partial0.valve_V204.m_flow                 1\n",
       "mixer_partial0.valve_V201.port_a.m_flow          1\n",
       "mixer_partial0.valve_V201.m_flow                 1\n",
       "source0.volumeFlowRate.port_b.m_flow             1\n",
       "source0.volumeFlowRate.port_a.m_flow             1\n",
       "source0.source.ports[1].m_flow                   1\n",
       "dtype: int64"
      ]
     },
     "execution_count": 133,
     "metadata": {},
     "output_type": "execute_result"
    }
   ],
   "source": [
    "pd.Series(liste).value_counts()[0:50]"
   ]
  },
  {
   "cell_type": "code",
   "execution_count": 130,
   "id": "b54baa86-d58f-4ab9-87a4-57fbecb5de91",
   "metadata": {
    "tags": []
   },
   "outputs": [
    {
     "data": {
      "text/plain": [
       "mixer_partial0.valve_V204        1\n",
       "mixer_partial0.pipe3             1\n",
       "sink0                            1\n",
       "mixer_partial0.tank_B204         1\n",
       "mixer_partial0.port_in3          1\n",
       "mixer_partial0.sink              1\n",
       "mixer_partial0.valve_V202        1\n",
       "mixer_partial0.valve_in2         1\n",
       "source2                          1\n",
       "mixer_partial0.port_in1          1\n",
       "mixer_partial0.tank_reservoir    1\n",
       "mixer_partial0.valve_V201        1\n",
       "source0                          1\n",
       "mixer_partial0.valve_clogging    1\n",
       "mixer_partial0.pipe4             1\n",
       "source1                          1\n",
       "mixer_partial0.port_in2          1\n",
       "mixer_partial0.tank_B201         1\n",
       "mixer_partial0.pipe1             1\n",
       "mixer_partial0.tank_B202         1\n",
       "mixer_partial0.port_out          1\n",
       "mixer_partial0.valve_leaking     1\n",
       "mixer_partial0.valveDiscrete     1\n",
       "mixer_partial0.valve_in1         1\n",
       "mixer_partial0.valve_V203        1\n",
       "mixer_partial0.pipe2             1\n",
       "mixer_partial0.pump_P201         1\n",
       "mixer_partial0.tank_B203         1\n",
       "mixer_partial0.pipe              1\n",
       "mixer_partial0.pipe5             1\n",
       "mixer_partial0.pipe_out          1\n",
       "mixer_partial0.valve_in3         1\n",
       "dtype: int64"
      ]
     },
     "execution_count": 130,
     "metadata": {},
     "output_type": "execute_result"
    }
   ],
   "source": [
    "pd.Series(comp_ls).value_counts()"
   ]
  },
  {
   "cell_type": "code",
   "execution_count": 162,
   "id": "850d49d1-16be-4a0d-b186-f386b939b19f",
   "metadata": {
    "tags": []
   },
   "outputs": [
    {
     "data": {
      "text/plain": [
       "{'mixer_partial0.valve_V204': ['mixer_partial0.valve_V204.m_flow',\n",
       "  'mixer_partial0.valve_V204.port_a.m_flow',\n",
       "  'mixer_partial0.valve_V204.port_a.p',\n",
       "  'mixer_partial0.valve_V204.port_b.m_flow',\n",
       "  'mixer_partial0.valve_V204.port_b.p'],\n",
       " 'mixer_partial0.pipe3': ['mixer_partial0.pipe3.flowModel.m_flows[1]',\n",
       "  'mixer_partial0.pipe3.port_a.m_flow',\n",
       "  'mixer_partial0.pipe3.port_a.p',\n",
       "  'mixer_partial0.pipe3.port_b.m_flow',\n",
       "  'mixer_partial0.pipe3.port_b.p'],\n",
       " 'mixer_partial0.pipe_out': ['mixer_partial0.pipe_out.flowModel.m_flows[1]',\n",
       "  'mixer_partial0.pipe_out.port_a.m_flow',\n",
       "  'mixer_partial0.pipe_out.port_a.p',\n",
       "  'mixer_partial0.pipe_out.port_b.m_flow',\n",
       "  'mixer_partial0.pipe_out.port_b.p'],\n",
       " 'mixer_partial0.pipe5': ['mixer_partial0.pipe5.flowModel.m_flows[1]',\n",
       "  'mixer_partial0.pipe5.port_a.m_flow',\n",
       "  'mixer_partial0.pipe5.port_a.p',\n",
       "  'mixer_partial0.pipe5.port_b.m_flow'],\n",
       " 'mixer_partial0.pipe': ['mixer_partial0.pipe.flowModel.m_flows[1]',\n",
       "  'mixer_partial0.pipe.port_a.m_flow',\n",
       "  'mixer_partial0.pipe.port_a.p',\n",
       "  'mixer_partial0.pipe.port_b.m_flow',\n",
       "  'mixer_partial0.pipe.port_b.p'],\n",
       " 'mixer_partial0.tank_B203': ['mixer_partial0.tank_B203.level',\n",
       "  'mixer_partial0.tank_B203.fluidVolume',\n",
       "  'mixer_partial0.tank_B203.ports[1].m_flow',\n",
       "  'mixer_partial0.tank_B203.ports[2].m_flow'],\n",
       " 'mixer_partial0.pump_P201': ['mixer_partial0.pump_P201.N_in',\n",
       "  'mixer_partial0.pump_P201.fluidVolume',\n",
       "  'mixer_partial0.pump_P201.m_flow',\n",
       "  'mixer_partial0.pump_P201.m_flow_single',\n",
       "  'mixer_partial0.pump_P201.N_in_internal',\n",
       "  'mixer_partial0.pump_P201.port_a.m_flow',\n",
       "  'mixer_partial0.pump_P201.port_a.p',\n",
       "  'mixer_partial0.pump_P201.port_b.m_flow',\n",
       "  'mixer_partial0.pump_P201.port_b.p'],\n",
       " 'mixer_partial0.pipe2': ['mixer_partial0.pipe2.flowModel.m_flows[1]',\n",
       "  'mixer_partial0.pipe2.port_a.m_flow',\n",
       "  'mixer_partial0.pipe2.port_a.p',\n",
       "  'mixer_partial0.pipe2.port_b.m_flow',\n",
       "  'mixer_partial0.pipe2.port_b.p'],\n",
       " 'mixer_partial0.valve_V203': ['mixer_partial0.valve_V203.m_flow',\n",
       "  'mixer_partial0.valve_V203.port_a.m_flow',\n",
       "  'mixer_partial0.valve_V203.port_a.p',\n",
       "  'mixer_partial0.valve_V203.port_b.m_flow',\n",
       "  'mixer_partial0.valve_V203.port_b.p'],\n",
       " 'mixer_partial0.valve_in1': ['mixer_partial0.valve_in1.m_flow',\n",
       "  'mixer_partial0.valve_in1.port_a.m_flow',\n",
       "  'mixer_partial0.valve_in1.port_a.p',\n",
       "  'mixer_partial0.valve_in1.port_b.m_flow',\n",
       "  'mixer_partial0.valve_in1.port_b.p'],\n",
       " 'mixer_partial0.valveDiscrete': ['mixer_partial0.valveDiscrete.m_flow',\n",
       "  'mixer_partial0.valveDiscrete.port_a.m_flow',\n",
       "  'mixer_partial0.valveDiscrete.port_a.p',\n",
       "  'mixer_partial0.valveDiscrete.port_b.m_flow',\n",
       "  'mixer_partial0.valveDiscrete.port_b.p'],\n",
       " 'mixer_partial0.valve_leaking': ['mixer_partial0.valve_leaking.m_flow',\n",
       "  'mixer_partial0.valve_leaking.opening',\n",
       "  'mixer_partial0.valve_leaking.port_a.m_flow',\n",
       "  'mixer_partial0.valve_leaking.port_a.p',\n",
       "  'mixer_partial0.valve_leaking.port_b.m_flow',\n",
       "  'mixer_partial0.valve_leaking.port_b.p'],\n",
       " 'mixer_partial0.port_out': ['mixer_partial0.port_out.m_flow'],\n",
       " 'mixer_partial0.tank_B202': ['mixer_partial0.tank_B202.level',\n",
       "  'mixer_partial0.tank_B202.fluidVolume',\n",
       "  'mixer_partial0.tank_B202.ports[1].m_flow',\n",
       "  'mixer_partial0.tank_B202.ports[2].m_flow'],\n",
       " 'mixer_partial0.pipe1': ['mixer_partial0.pipe1.flowModel.m_flows[1]',\n",
       "  'mixer_partial0.pipe1.port_a.m_flow',\n",
       "  'mixer_partial0.pipe1.port_a.p',\n",
       "  'mixer_partial0.pipe1.port_b.m_flow',\n",
       "  'mixer_partial0.pipe1.port_b.p'],\n",
       " 'mixer_partial0.tank_B201': ['mixer_partial0.tank_B201.level',\n",
       "  'mixer_partial0.tank_B201.fluidVolume',\n",
       "  'mixer_partial0.tank_B201.ports[1].m_flow',\n",
       "  'mixer_partial0.tank_B201.ports[2].m_flow'],\n",
       " 'mixer_partial0.port_in2': ['mixer_partial0.port_in2.m_flow'],\n",
       " 'source1': ['source1.pipe_out.flowModel.m_flows[1]',\n",
       "  'source1.pipe_out.port_a.m_flow',\n",
       "  'source1.pipe_out.port_b.m_flow',\n",
       "  'source1.pipe_out.port_b.p',\n",
       "  'source1.port_out.m_flow',\n",
       "  'source1.source.ports[1].m_flow',\n",
       "  'source1.volumeFlowRate.port_a.m_flow',\n",
       "  'source1.volumeFlowRate.port_b.m_flow'],\n",
       " 'mixer_partial0.pipe4': ['mixer_partial0.pipe4.flowModel.m_flows[1]',\n",
       "  'mixer_partial0.pipe4.port_a.m_flow',\n",
       "  'mixer_partial0.pipe4.port_a.p',\n",
       "  'mixer_partial0.pipe4.port_b.m_flow',\n",
       "  'mixer_partial0.pipe4.port_b.p'],\n",
       " 'mixer_partial0.valve_clogging': ['mixer_partial0.valve_clogging.port_b.p',\n",
       "  'mixer_partial0.valve_clogging.m_flow',\n",
       "  'mixer_partial0.valve_clogging.opening',\n",
       "  'mixer_partial0.valve_clogging.port_a.m_flow',\n",
       "  'mixer_partial0.valve_clogging.port_a.p',\n",
       "  'mixer_partial0.valve_clogging.port_b.m_flow'],\n",
       " 'source0': ['source0.pipe_out.flowModel.m_flows[1]',\n",
       "  'source0.pipe_out.port_a.m_flow',\n",
       "  'source0.pipe_out.port_b.m_flow',\n",
       "  'source0.pipe_out.port_b.p',\n",
       "  'source0.port_out.m_flow',\n",
       "  'source0.source.ports[1].m_flow',\n",
       "  'source0.volumeFlowRate.port_a.m_flow',\n",
       "  'source0.volumeFlowRate.port_b.m_flow'],\n",
       " 'mixer_partial0.valve_V201': ['mixer_partial0.valve_V201.m_flow',\n",
       "  'mixer_partial0.valve_V201.port_a.m_flow',\n",
       "  'mixer_partial0.valve_V201.port_a.p',\n",
       "  'mixer_partial0.valve_V201.port_b.m_flow',\n",
       "  'mixer_partial0.valve_V201.port_b.p'],\n",
       " 'mixer_partial0.tank_reservoir': ['mixer_partial0.tank_reservoir.level',\n",
       "  'mixer_partial0.tank_reservoir.fluidVolume',\n",
       "  'mixer_partial0.tank_reservoir.ports[1].m_flow',\n",
       "  'mixer_partial0.tank_reservoir.ports[2].m_flow',\n",
       "  'mixer_partial0.tank_reservoir.ports[3].m_flow',\n",
       "  'mixer_partial0.tank_reservoir.ports[4].m_flow'],\n",
       " 'mixer_partial0.port_in1': ['mixer_partial0.port_in1.m_flow'],\n",
       " 'source2': ['source2.pipe_out.flowModel.m_flows[1]',\n",
       "  'source2.pipe_out.port_a.m_flow',\n",
       "  'source2.pipe_out.port_b.m_flow',\n",
       "  'source2.pipe_out.port_b.p',\n",
       "  'source2.port_out.m_flow',\n",
       "  'source2.source.ports[1].m_flow',\n",
       "  'source2.volumeFlowRate.port_a.m_flow',\n",
       "  'source2.volumeFlowRate.port_b.m_flow'],\n",
       " 'mixer_partial0.valve_in2': ['mixer_partial0.valve_in2.m_flow',\n",
       "  'mixer_partial0.valve_in2.port_a.m_flow',\n",
       "  'mixer_partial0.valve_in2.port_a.p',\n",
       "  'mixer_partial0.valve_in2.port_b.m_flow',\n",
       "  'mixer_partial0.valve_in2.port_b.p'],\n",
       " 'mixer_partial0.valve_V202': ['mixer_partial0.valve_V202.m_flow',\n",
       "  'mixer_partial0.valve_V202.port_a.m_flow',\n",
       "  'mixer_partial0.valve_V202.port_a.p',\n",
       "  'mixer_partial0.valve_V202.port_b.m_flow',\n",
       "  'mixer_partial0.valve_V202.port_b.p'],\n",
       " 'mixer_partial0.sink': ['mixer_partial0.sink.ports[1].m_flow'],\n",
       " 'mixer_partial0.port_in3': ['mixer_partial0.port_in3.m_flow'],\n",
       " 'mixer_partial0.tank_B204': ['mixer_partial0.tank_B204.level',\n",
       "  'mixer_partial0.tank_B204.fluidVolume',\n",
       "  'mixer_partial0.tank_B204.ports[1].m_flow',\n",
       "  'mixer_partial0.tank_B204.ports[2].m_flow'],\n",
       " 'sink0': ['sink0.pipe.flowModel.m_flows[1]',\n",
       "  'sink0.pipe.port_a.m_flow',\n",
       "  'sink0.pipe.port_a.p',\n",
       "  'sink0.pipe.port_b.m_flow',\n",
       "  'sink0.port_in.m_flow',\n",
       "  'sink0.sink.ports[1].m_flow',\n",
       "  'sink0.volumeFlowRate.port_a.m_flow',\n",
       "  'sink0.volumeFlowRate.port_b.m_flow'],\n",
       " 'mixer_partial0.valve_in3': ['mixer_partial0.valve_in3.m_flow',\n",
       "  'mixer_partial0.valve_in3.port_a.m_flow',\n",
       "  'mixer_partial0.valve_in3.port_a.p',\n",
       "  'mixer_partial0.valve_in3.port_b.m_flow',\n",
       "  'mixer_partial0.valve_in3.port_b.p']}"
      ]
     },
     "execution_count": 162,
     "metadata": {},
     "output_type": "execute_result"
    }
   ],
   "source": [
    "comp_sigs_map\n"
   ]
  },
  {
   "cell_type": "code",
   "execution_count": null,
   "id": "67d8d912-c769-4e94-be2f-94f17794fadc",
   "metadata": {},
   "outputs": [],
   "source": []
  }
 ],
 "metadata": {
  "kernelspec": {
   "display_name": "diag-vae",
   "language": "python",
   "name": "diag-vae"
  },
  "language_info": {
   "codemirror_mode": {
    "name": "ipython",
    "version": 3
   },
   "file_extension": ".py",
   "mimetype": "text/x-python",
   "name": "python",
   "nbconvert_exporter": "python",
   "pygments_lexer": "ipython3",
   "version": "3.9.7"
  }
 },
 "nbformat": 4,
 "nbformat_minor": 5
}
