{
 "cells": [
  {
   "cell_type": "code",
   "execution_count": 1,
   "id": "9c831d1f-42ee-48ad-bacd-d656ec338a02",
   "metadata": {},
   "outputs": [],
   "source": [
    "import os\n",
    "os.chdir('../pipeline/src/')"
   ]
  },
  {
   "cell_type": "code",
   "execution_count": 2,
   "id": "31b44a59-18c9-4d86-9797-367400773959",
   "metadata": {},
   "outputs": [],
   "source": [
    "from diag_tcn_vae import DiagTcnVAE"
   ]
  },
  {
   "cell_type": "code",
   "execution_count": 4,
   "id": "644eec18-f1a1-4b25-a4e2-12136f1d8b2f",
   "metadata": {},
   "outputs": [
    {
     "name": "stderr",
     "output_type": "stream",
     "text": [
      "/home/jovyan/stress-curves/.venv/lib/python3.9/site-packages/pytorch_lightning/utilities/migration/utils.py:51: PossibleUserWarning: The loaded checkpoint was produced with Lightning v2.0.5, which is newer than your current Lightning version: v2.0.4\n",
      "  rank_zero_warn(\n"
     ]
    }
   ],
   "source": [
    "model = DiagTcnVAE.load_from_checkpoint(\"../../data/tmp/trained_model\")"
   ]
  },
  {
   "cell_type": "code",
   "execution_count": 6,
   "id": "7f9b3a10-4e98-4c76-a277-acdcfc99bd71",
   "metadata": {},
   "outputs": [],
   "source": [
    "from tep_data_module import TEPDataModule"
   ]
  },
  {
   "cell_type": "code",
   "execution_count": 13,
   "id": "5675d240-e13e-4d39-ad32-17cbfcfa2d66",
   "metadata": {},
   "outputs": [],
   "source": [
    "import pandas as pd\n",
    "import joblib\n",
    "import constants as const"
   ]
  },
  {
   "cell_type": "code",
   "execution_count": 16,
   "id": "841cbf4a-8b99-4712-9209-3b067d4fac07",
   "metadata": {},
   "outputs": [],
   "source": [
    "scaler = joblib.load(\"../../data/tmp/scaler\")\n",
    "df_train = pd.read_parquet(\"../../data/tmp/df_train.parquet\")\n",
    "df_val = pd.read_parquet(\"../../data/tmp/df_val.parquet\")\n",
    "df_test = pd.read_parquet(\"../../data/tmp/df_test.parquet\")\n"
   ]
  },
  {
   "cell_type": "code",
   "execution_count": 17,
   "id": "20c5a855-77cc-447f-b226-72935cf62ff8",
   "metadata": {},
   "outputs": [
    {
     "name": "stdout",
     "output_type": "stream",
     "text": [
      "df_test.parquet      df_train.parquet\t    df_val.parquet  trained_model\n",
      "df_training.parquet  df_validation.parquet  scaler\n"
     ]
    }
   ],
   "source": [
    "! ls ../../data/tmp"
   ]
  },
  {
   "cell_type": "code",
   "execution_count": 26,
   "id": "c631c3e9-ca7c-41b8-9f8a-ab362a7a2e8b",
   "metadata": {},
   "outputs": [
    {
     "ename": "TypeError",
     "evalue": "any() takes exactly one argument (2 given)",
     "output_type": "error",
     "traceback": [
      "\u001b[1;31m---------------------------------------------------------------------------\u001b[0m",
      "\u001b[1;31mTypeError\u001b[0m                                 Traceback (most recent call last)",
      "Cell \u001b[1;32mIn[26], line 1\u001b[0m\n\u001b[1;32m----> 1\u001b[0m \u001b[38;5;28;01mif\u001b[39;00m \u001b[38;5;28;43many\u001b[39;49m\u001b[43m(\u001b[49m\u001b[43mdf_train\u001b[49m\u001b[38;5;241;43m.\u001b[39;49m\u001b[43mempty\u001b[49m\u001b[43m,\u001b[49m\u001b[43m \u001b[49m\u001b[38;5;28;43;01mNone\u001b[39;49;00m\u001b[43m)\u001b[49m:\n\u001b[0;32m      2\u001b[0m     \u001b[38;5;28mprint\u001b[39m(\u001b[38;5;124m'\u001b[39m\u001b[38;5;124mhi\u001b[39m\u001b[38;5;124m'\u001b[39m)\n",
      "\u001b[1;31mTypeError\u001b[0m: any() takes exactly one argument (2 given)"
     ]
    }
   ],
   "source": [
    "if any(df_train.empty, None):\n",
    "    print('hi')\n"
   ]
  },
  {
   "cell_type": "code",
   "execution_count": 19,
   "id": "7e032ee7-8032-419c-adf0-31105e96e4cd",
   "metadata": {},
   "outputs": [
    {
     "ename": "ValueError",
     "evalue": "The truth value of a DataFrame is ambiguous. Use a.empty, a.bool(), a.item(), a.any() or a.all().",
     "output_type": "error",
     "traceback": [
      "\u001b[1;31m---------------------------------------------------------------------------\u001b[0m",
      "\u001b[1;31mValueError\u001b[0m                                Traceback (most recent call last)",
      "\u001b[1;32m/tmp/ipykernel_183614/422624622.py\u001b[0m in \u001b[0;36m?\u001b[1;34m()\u001b[0m\n\u001b[1;32m----> 1\u001b[1;33m \u001b[0mdm\u001b[0m \u001b[1;33m=\u001b[0m \u001b[0mTEPDataModule\u001b[0m\u001b[1;33m(\u001b[0m\u001b[0mdf_train\u001b[0m\u001b[1;33m=\u001b[0m\u001b[0mdf_train\u001b[0m\u001b[1;33m,\u001b[0m \u001b[0mdf_val\u001b[0m\u001b[1;33m=\u001b[0m\u001b[0mdf_val\u001b[0m\u001b[1;33m,\u001b[0m \u001b[0mdf_test\u001b[0m\u001b[1;33m=\u001b[0m\u001b[0mdf_test\u001b[0m\u001b[1;33m,\u001b[0m \u001b[0mbatch_size\u001b[0m\u001b[1;33m=\u001b[0m\u001b[1;36m100\u001b[0m\u001b[1;33m,\u001b[0m \u001b[0minput_cols\u001b[0m\u001b[1;33m=\u001b[0m\u001b[0mconst\u001b[0m\u001b[1;33m.\u001b[0m\u001b[0mDATA_COLS\u001b[0m\u001b[1;33m,\u001b[0m \u001b[0msubsystems_map\u001b[0m\u001b[1;33m=\u001b[0m\u001b[0mconst\u001b[0m\u001b[1;33m.\u001b[0m\u001b[0mSUBSYSTEM_MAP\u001b[0m\u001b[1;33m,\u001b[0m \u001b[0mscaler\u001b[0m\u001b[1;33m=\u001b[0m\u001b[0mscaler\u001b[0m\u001b[1;33m)\u001b[0m\u001b[1;33m\u001b[0m\u001b[1;33m\u001b[0m\u001b[0m\n\u001b[0m",
      "\u001b[1;32m~/diag-tcn-vae/pipeline/src/tep_data_module.py\u001b[0m in \u001b[0;36m?\u001b[1;34m(self, df_train, df_val, batch_size, input_cols, subsystems_map, scaler, num_workers, df_test)\u001b[0m\n\u001b[0;32m     67\u001b[0m             \u001b[0mdataframe\u001b[0m\u001b[1;33m=\u001b[0m\u001b[0mdf_val_sc\u001b[0m\u001b[1;33m,\u001b[0m\u001b[1;33m\u001b[0m\u001b[1;33m\u001b[0m\u001b[0m\n\u001b[0;32m     68\u001b[0m             \u001b[0minput_cols\u001b[0m\u001b[1;33m=\u001b[0m\u001b[0minput_cols\u001b[0m\u001b[1;33m,\u001b[0m\u001b[1;33m\u001b[0m\u001b[1;33m\u001b[0m\u001b[0m\n\u001b[0;32m     69\u001b[0m             \u001b[0msubsystems_map\u001b[0m\u001b[1;33m=\u001b[0m\u001b[0msubsystems_map\u001b[0m\u001b[1;33m,\u001b[0m\u001b[1;33m\u001b[0m\u001b[1;33m\u001b[0m\u001b[0m\n\u001b[0;32m     70\u001b[0m         )\n\u001b[1;32m---> 71\u001b[1;33m         \u001b[1;32mif\u001b[0m \u001b[0mdf_test\u001b[0m\u001b[1;33m:\u001b[0m\u001b[1;33m\u001b[0m\u001b[1;33m\u001b[0m\u001b[0m\n\u001b[0m\u001b[0;32m     72\u001b[0m             \u001b[0mdf_test_sc\u001b[0m \u001b[1;33m=\u001b[0m \u001b[0mself\u001b[0m\u001b[1;33m.\u001b[0m\u001b[0mscale_df\u001b[0m\u001b[1;33m(\u001b[0m\u001b[0mdf_test\u001b[0m\u001b[1;33m)\u001b[0m\u001b[1;33m\u001b[0m\u001b[1;33m\u001b[0m\u001b[0m\n\u001b[0;32m     73\u001b[0m             self.ds_test = TEPDataset(\n\u001b[0;32m     74\u001b[0m                 \u001b[0mdataframe\u001b[0m\u001b[1;33m=\u001b[0m\u001b[0mdf_test_sc\u001b[0m\u001b[1;33m,\u001b[0m\u001b[1;33m\u001b[0m\u001b[1;33m\u001b[0m\u001b[0m\n",
      "\u001b[1;32m~/stress-curves/.venv/lib/python3.9/site-packages/pandas/core/generic.py\u001b[0m in \u001b[0;36m?\u001b[1;34m(self)\u001b[0m\n\u001b[0;32m   1525\u001b[0m     \u001b[1;33m@\u001b[0m\u001b[0mfinal\u001b[0m\u001b[1;33m\u001b[0m\u001b[1;33m\u001b[0m\u001b[0m\n\u001b[0;32m   1526\u001b[0m     \u001b[1;32mdef\u001b[0m \u001b[0m__nonzero__\u001b[0m\u001b[1;33m(\u001b[0m\u001b[0mself\u001b[0m\u001b[1;33m)\u001b[0m \u001b[1;33m->\u001b[0m \u001b[0mNoReturn\u001b[0m\u001b[1;33m:\u001b[0m\u001b[1;33m\u001b[0m\u001b[1;33m\u001b[0m\u001b[0m\n\u001b[1;32m-> 1527\u001b[1;33m         raise ValueError(\n\u001b[0m\u001b[0;32m   1528\u001b[0m             \u001b[1;34mf\"The truth value of a {type(self).__name__} is ambiguous. \"\u001b[0m\u001b[1;33m\u001b[0m\u001b[1;33m\u001b[0m\u001b[0m\n\u001b[0;32m   1529\u001b[0m             \u001b[1;34m\"Use a.empty, a.bool(), a.item(), a.any() or a.all().\"\u001b[0m\u001b[1;33m\u001b[0m\u001b[1;33m\u001b[0m\u001b[0m\n\u001b[0;32m   1530\u001b[0m         )\n",
      "\u001b[1;31mValueError\u001b[0m: The truth value of a DataFrame is ambiguous. Use a.empty, a.bool(), a.item(), a.any() or a.all()."
     ]
    }
   ],
   "source": [
    "dm = TEPDataModule(df_train=df_train, df_val=df_val, df_test=df_test, batch_size=100, input_cols=const.DATA_COLS, subsystems_map=const.SUBSYSTEM_MAP, scaler=scaler)"
   ]
  },
  {
   "cell_type": "code",
   "execution_count": null,
   "id": "847cd27e-2d94-46b1-b112-ee85abb72635",
   "metadata": {},
   "outputs": [],
   "source": []
  }
 ],
 "metadata": {
  "kernelspec": {
   "display_name": "stress-curves",
   "language": "python",
   "name": "stress-curves"
  },
  "language_info": {
   "codemirror_mode": {
    "name": "ipython",
    "version": 3
   },
   "file_extension": ".py",
   "mimetype": "text/x-python",
   "name": "python",
   "nbconvert_exporter": "python",
   "pygments_lexer": "ipython3",
   "version": "3.9.7"
  }
 },
 "nbformat": 4,
 "nbformat_minor": 5
}
