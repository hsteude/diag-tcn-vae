{
 "cells": [
  {
   "cell_type": "code",
   "execution_count": null,
   "id": "9e241eb4-b2c7-412a-80fe-6a37329171ca",
   "metadata": {},
   "outputs": [],
   "source": [
    "import os\n",
    "os.chdir('..')"
   ]
  },
  {
   "cell_type": "code",
   "execution_count": null,
   "id": "e705fedd-79f2-4876-a296-1d511cc387e0",
   "metadata": {},
   "outputs": [],
   "source": [
    "import numpy as np\n",
    "import pandas as pd\n",
    "import matplotlib.pyplot as plt\n",
    "from scipy import signal\n",
    "from sklearn.preprocessing import StandardScaler\n",
    "np.random.seed(3)"
   ]
  },
  {
   "cell_type": "code",
   "execution_count": null,
   "id": "2301adff-1530-443f-8ade-2a9f83c142a4",
   "metadata": {},
   "outputs": [],
   "source": [
    "N = 20000\n",
    "t_max = 100\n",
    "T_comp = 10\n",
    "T_sig = 1\n",
    "t = np.linspace(1, t_max, N)"
   ]
  },
  {
   "cell_type": "markdown",
   "id": "ab4c26d2-c398-4d7f-9118-bb6d36f52bbb",
   "metadata": {},
   "source": [
    "## Components"
   ]
  },
  {
   "cell_type": "code",
   "execution_count": null,
   "id": "6557c39f-f756-4ad4-8afe-516939d5b1a7",
   "metadata": {},
   "outputs": [],
   "source": [
    "def generate_rectangular_signal_with_random_rectangle_lenght(min_lengh:int, max_lenght:int, length: int):\n",
    "    zeros = np.random.randint(min_lengh, max_lenght, length)\n",
    "    ones = np.random.randint(min_lengh, max_lenght, length)\n",
    "    ls = []\n",
    "    for l in [[1]*lh+[0]*ll for lh, ll in zip(zeros, ones)]:\n",
    "        ls.extend(l)\n",
    "    if len(ls) > length:\n",
    "        return np.array(ls[:length])\n",
    "    else:\n",
    "        print('Not enouhg samples, run again')"
   ]
  },
  {
   "cell_type": "code",
   "execution_count": null,
   "id": "faa60b9a-0c1b-431a-9791-0deb04f8b082",
   "metadata": {},
   "outputs": [],
   "source": [
    "sequence_a = generate_rectangular_signal_with_random_rectangle_lenght(500, 1500, N)\n",
    "sequence_b = generate_rectangular_signal_with_random_rectangle_lenght(500, 1500, N)\n",
    "sequence_c = generate_rectangular_signal_with_random_rectangle_lenght(500, 1500, N)\n",
    "\n",
    "plt.plot(sequence_a[0:1000])\n",
    "plt.plot(sequence_b[0:1000])\n",
    "plt.plot(sequence_c[0:1000])"
   ]
  },
  {
   "cell_type": "markdown",
   "id": "8813f1c3-a83e-4bf7-a720-8eaedcfff7be",
   "metadata": {},
   "source": [
    "# Signals comp a"
   ]
  },
  {
   "cell_type": "code",
   "execution_count": null,
   "id": "dce7a3b3-a46c-4af5-b368-9a7202352d71",
   "metadata": {},
   "outputs": [],
   "source": [
    "LAG = 100"
   ]
  },
  {
   "cell_type": "code",
   "execution_count": null,
   "id": "d92bdfe9-83de-41c5-80b0-278770b082dd",
   "metadata": {},
   "outputs": [],
   "source": [
    "sig_1_init = 1\n",
    "sign_1_m = 1/100\n",
    "sig_1 = [sig_1_init]\n",
    "# [sig_1[ind-1]+sign_1_m if sequence_a[ind]==1 else sig_1[ind-1]+sign_1_m for ind in range(1,N-100)] "
   ]
  },
  {
   "cell_type": "code",
   "execution_count": null,
   "id": "aaff41ae-ff7d-41d1-b084-287c3e1701fd",
   "metadata": {},
   "outputs": [],
   "source": [
    "[sig_1[ind-1] for ind in range(1,2)]"
   ]
  },
  {
   "cell_type": "code",
   "execution_count": null,
   "id": "bd7c263d-01ee-4ff2-8276-78a7e72316d0",
   "metadata": {
    "jupyter": {
     "outputs_hidden": true
    },
    "tags": []
   },
   "outputs": [],
   "source": [
    "list(range(1,N))"
   ]
  },
  {
   "cell_type": "code",
   "execution_count": null,
   "id": "0a3a4691-e1ae-4a32-a185-92ae23c308f6",
   "metadata": {},
   "outputs": [],
   "source": []
  },
  {
   "cell_type": "code",
   "execution_count": null,
   "id": "d3ced6ae-4ddf-402d-b807-e547fa626a7b",
   "metadata": {},
   "outputs": [],
   "source": [
    "sig_1 =  \\\n",
    "    + sequence_a *np.sin(2* np.pi * 1/(T_sig) * t) \\\n",
    "    + .2 *np.random.rand(N) \\\n",
    "    # + sig_b[:-LAG]\n",
    "# sig_2 =  \\\n",
    "#     + sequence_a * signal.square(2*np.pi * 1/(T_sig) * t) \\\n",
    "#     +  .2 *np.random.rand(N) \\\n",
    "# #     - sig_b[:-LAG]\n",
    "\n",
    "# sig_3 =  \\\n",
    "#     + sequence_a *signal.sawtooth(2* np.pi * 1/(T_sig) * t) \\\n",
    "#     + .2 *np.random.rand(N) \\\n",
    "#     # - sig_b[:-LAG]\n",
    "\n",
    "\n",
    "\n",
    "plt.plot(sequence_a[0:10000])\n",
    "plt.plot(sig_1[0:10000])\n"
   ]
  },
  {
   "cell_type": "code",
   "execution_count": null,
   "id": "1e4349d4-e9f7-4d01-9e86-251e96bd95ba",
   "metadata": {},
   "outputs": [],
   "source": [
    "plt.plot(sequence_a[0:10000])\n",
    "plt.plot(sig_2[0:10000])"
   ]
  },
  {
   "cell_type": "code",
   "execution_count": null,
   "id": "5a376954-cf2d-4fce-81bd-925ebf14a5af",
   "metadata": {},
   "outputs": [],
   "source": [
    "plt.plot(sequence_a[0:10000])\n",
    "plt.plot(sig_3[0:10000])"
   ]
  },
  {
   "cell_type": "code",
   "execution_count": null,
   "id": "c1b9183e-75b4-4bb9-971f-15a7ca194bc9",
   "metadata": {},
   "outputs": [],
   "source": [
    "df = pd.DataFrame(dict(sig_1=sequence_a,\n",
    "                       sig_2=sequence_b,\n",
    "                       sig_3=sequence_c,\n",
    "                       # sig_4=sig_4,\n",
    "                       # sig_5=sig_5,\n",
    "                       # sig_6=sig_6,\n",
    "                       # sig_7=sig_7,\n",
    "                      ))\n",
    "TRAIN_DATA_PATH = 'data/trainin_data.csv'\n",
    "df.to_csv(TRAIN_DATA_PATH, index=False)"
   ]
  },
  {
   "cell_type": "code",
   "execution_count": null,
   "id": "7db6ccdc-46a3-47d3-bb17-5e4d10a76ac5",
   "metadata": {},
   "outputs": [],
   "source": [
    "df.head()"
   ]
  },
  {
   "cell_type": "markdown",
   "id": "eb8c76bd-8de9-4d9f-b579-44dd5a4ef755",
   "metadata": {},
   "source": [
    "## test dataset"
   ]
  },
  {
   "cell_type": "code",
   "execution_count": null,
   "id": "c1c0fc46-c2b5-48cc-906f-9cc19ca54c6d",
   "metadata": {},
   "outputs": [],
   "source": []
  },
  {
   "cell_type": "code",
   "execution_count": null,
   "id": "0ac04f2f-4b49-45e4-8cfe-cdf824503570",
   "metadata": {},
   "outputs": [],
   "source": [
    "from diag_vae.datamodule import DiagTsDataset"
   ]
  },
  {
   "cell_type": "code",
   "execution_count": null,
   "id": "91e57a88-9aae-472c-8d54-5a5ed8a7b8b6",
   "metadata": {},
   "outputs": [],
   "source": [
    "ds = DiagTsDataset(data_path='data/trainin_data.csv', seq_len=1000, cols=[f'sig_{i+1}' for i in range(3)])"
   ]
  },
  {
   "cell_type": "code",
   "execution_count": null,
   "id": "efc02eec-2138-4b59-a4d2-6c2a932a8a37",
   "metadata": {},
   "outputs": [],
   "source": [
    "ds.__getitem__(2)[0].shape"
   ]
  },
  {
   "cell_type": "code",
   "execution_count": null,
   "id": "fc87a9ea-fce5-425a-a5fd-0eabfc73113b",
   "metadata": {},
   "outputs": [],
   "source": [
    "plt.plot(ds.__getitem__(2)[0].numpy().T)"
   ]
  },
  {
   "cell_type": "code",
   "execution_count": null,
   "id": "c8a1fd4c-af1b-405d-84ed-c177f902f2e9",
   "metadata": {},
   "outputs": [],
   "source": [
    "plt.plot(ds.__getitem__(2)[1].numpy().T)"
   ]
  },
  {
   "cell_type": "markdown",
   "id": "0ac2cdcc-854a-4ddb-b2c3-40dc57fdb3ce",
   "metadata": {},
   "source": [
    "## test data module"
   ]
  },
  {
   "cell_type": "code",
   "execution_count": null,
   "id": "642f3f7e-b522-46f9-a922-891449a0baa9",
   "metadata": {},
   "outputs": [],
   "source": [
    "from diag_vae.datamodule import DiagTsDataModule"
   ]
  },
  {
   "cell_type": "code",
   "execution_count": null,
   "id": "39f5bf88-5618-441a-8600-5273918765d3",
   "metadata": {},
   "outputs": [],
   "source": [
    "dm = DiagTsDataModule(data_path='data/trainin_data.csv', seq_len=1000, cols=[f'sig_{i+1}' for i in range(3)])\n",
    "sample_x, sample_y = next(iter(dm.train_dataloader()))"
   ]
  },
  {
   "cell_type": "code",
   "execution_count": null,
   "id": "91c0aea2-06ac-4a06-b889-68783034f77e",
   "metadata": {},
   "outputs": [],
   "source": [
    "index = 5\n",
    "plt.plot(sample_x[index, :, :].numpy().T)"
   ]
  },
  {
   "cell_type": "code",
   "execution_count": null,
   "id": "b580d22b-a99b-4472-8347-7ceb97d44a0d",
   "metadata": {},
   "outputs": [],
   "source": [
    "index = 5\n",
    "plt.plot(sample_y[index, :, :].numpy().T)"
   ]
  },
  {
   "cell_type": "markdown",
   "id": "d40b6cff-dc2c-421a-bdbb-0373e931bec4",
   "metadata": {},
   "source": [
    "## check model output"
   ]
  },
  {
   "cell_type": "code",
   "execution_count": null,
   "id": "52003e97-a681-4610-bde1-1e9fe6abcfdf",
   "metadata": {},
   "outputs": [],
   "source": [
    "from diag_vae.ae import Conv1dAE\n"
   ]
  },
  {
   "cell_type": "code",
   "execution_count": null,
   "id": "1defb888-1699-4f6a-b49c-1fbab64f0e2e",
   "metadata": {},
   "outputs": [],
   "source": [
    "loggs_dir = 'loggs/tcn_ae/version_21/checkpoints'\n",
    "checkpoint = os.path.join(loggs_dir, f'{os.listdir(loggs_dir)[0]}')\n",
    "checkpoint\n",
    "model = Conv1dAE.load_from_checkpoint(checkpoint)"
   ]
  },
  {
   "cell_type": "code",
   "execution_count": null,
   "id": "86b86951-0c33-4913-a00e-44a1d510b199",
   "metadata": {},
   "outputs": [],
   "source": [
    "sample_z = model.encode(sample_x)\n",
    "sample_x_hat, sample_y_hat = model.decode(sample_z)"
   ]
  },
  {
   "cell_type": "code",
   "execution_count": null,
   "id": "becb79ee-a2e4-452f-a51a-6378e5544318",
   "metadata": {},
   "outputs": [],
   "source": [
    "plt.plot(sample_x[index, :, :].detach().numpy().T)"
   ]
  },
  {
   "cell_type": "code",
   "execution_count": null,
   "id": "5fe32c0b-70d3-47fe-a28a-72626b344960",
   "metadata": {},
   "outputs": [],
   "source": [
    "plt.plot(sample_x_hat[index, :, :].detach().numpy().T)"
   ]
  },
  {
   "cell_type": "code",
   "execution_count": null,
   "id": "b33bb572-daee-4588-b0e2-1882033256ec",
   "metadata": {},
   "outputs": [],
   "source": [
    "plt.plot(sample_y_hat[index, :, :].detach().numpy().T)"
   ]
  },
  {
   "cell_type": "code",
   "execution_count": null,
   "id": "a3287809-91ba-43cc-ba77-b4d0b017c68d",
   "metadata": {},
   "outputs": [],
   "source": []
  }
 ],
 "metadata": {
  "kernelspec": {
   "display_name": "diag-vae",
   "language": "python",
   "name": "diag-vae"
  },
  "language_info": {
   "codemirror_mode": {
    "name": "ipython",
    "version": 3
   },
   "file_extension": ".py",
   "mimetype": "text/x-python",
   "name": "python",
   "nbconvert_exporter": "python",
   "pygments_lexer": "ipython3",
   "version": "3.9.6"
  }
 },
 "nbformat": 4,
 "nbformat_minor": 5
}
