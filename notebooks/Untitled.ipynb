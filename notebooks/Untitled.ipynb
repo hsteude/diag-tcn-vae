{
 "cells": [
  {
   "cell_type": "code",
   "execution_count": 1,
   "id": "4a4c5c6a-72c7-44c2-94ab-e1c3f34fce30",
   "metadata": {
    "tags": []
   },
   "outputs": [],
   "source": [
    "import kfp"
   ]
  },
  {
   "cell_type": "code",
   "execution_count": 3,
   "id": "6fdf3e36-9eb0-487b-9b13-d2b778cb8c73",
   "metadata": {
    "tags": []
   },
   "outputs": [
    {
     "data": {
      "text/plain": [
       "<kfp._client.Client at 0x7f91b10be160>"
      ]
     },
     "execution_count": 3,
     "metadata": {},
     "output_type": "execute_result"
    }
   ],
   "source": [
    "kfp.Client()"
   ]
  },
  {
   "cell_type": "code",
   "execution_count": 4,
   "id": "f198a5f8-0e77-4487-aadd-bcbe22e6fb20",
   "metadata": {
    "tags": []
   },
   "outputs": [],
   "source": [
    "client = kfp.Client()"
   ]
  },
  {
   "cell_type": "code",
   "execution_count": 10,
   "id": "e067cf3b-8139-4582-9edb-a6dd6a743ace",
   "metadata": {
    "tags": []
   },
   "outputs": [
    {
     "data": {
      "text/plain": [
       "{'multi_user': True}"
      ]
     },
     "execution_count": 10,
     "metadata": {},
     "output_type": "execute_result"
    }
   ],
   "source": [
    "client.healthzs.get_healthz()"
   ]
  },
  {
   "cell_type": "code",
   "execution_count": 11,
   "id": "3e0142d9-6a30-4086-b33b-7af120bfac3c",
   "metadata": {
    "tags": []
   },
   "outputs": [
    {
     "data": {
      "text/plain": [
       "'api/v1/namespaces/{}/services/ml-pipeline:http/proxy/'"
      ]
     },
     "execution_count": 11,
     "metadata": {},
     "output_type": "execute_result"
    }
   ],
   "source": [
    "client.KUBE_PROXY_PATH"
   ]
  },
  {
   "cell_type": "code",
   "execution_count": 13,
   "id": "533659a1-693a-4d18-89d2-66c05f145bf1",
   "metadata": {
    "tags": []
   },
   "outputs": [
    {
     "data": {
      "text/plain": [
       "'ml-pipeline.{}.svc.cluster.local:8888'"
      ]
     },
     "execution_count": 13,
     "metadata": {},
     "output_type": "execute_result"
    }
   ],
   "source": [
    "client.IN_CLUSTER_DNS_NAME"
   ]
  },
  {
   "cell_type": "code",
   "execution_count": 16,
   "id": "50bf3c8a-1146-429f-968c-510a8eb330a9",
   "metadata": {
    "tags": []
   },
   "outputs": [
    {
     "data": {
      "text/plain": [
       "'/home/jovyan/.config/kfp/context.json'"
      ]
     },
     "execution_count": 16,
     "metadata": {},
     "output_type": "execute_result"
    }
   ],
   "source": [
    "client.LOCAL_KFP_CONTEXT"
   ]
  },
  {
   "cell_type": "code",
   "execution_count": 17,
   "id": "68a276bf-67ff-42a3-b034-5a8939bf152b",
   "metadata": {
    "tags": []
   },
   "outputs": [
    {
     "name": "stdout",
     "output_type": "stream",
     "text": [
      "{\"namespace\": \"henrik-steude\"}"
     ]
    }
   ],
   "source": [
    "!cat '/home/jovyan/.config/kfp/context.json'"
   ]
  },
  {
   "cell_type": "code",
   "execution_count": 5,
   "id": "2fedde66-3a8f-4164-8fec-5a87592104ba",
   "metadata": {
    "tags": []
   },
   "outputs": [
    {
     "data": {
      "text/plain": [
       "{'experiments': [{'created_at': datetime.datetime(2023, 2, 15, 15, 12, 54, tzinfo=tzlocal()),\n",
       "                  'description': None,\n",
       "                  'id': '84957259-3942-4441-9af2-7ac06b98e888',\n",
       "                  'name': 'parallel-for-experiments',\n",
       "                  'resource_references': [{'key': {'id': 'henrik-steude',\n",
       "                                                   'type': 'NAMESPACE'},\n",
       "                                           'name': None,\n",
       "                                           'relationship': 'OWNER'}],\n",
       "                  'storage_state': 'STORAGESTATE_AVAILABLE'},\n",
       "                 {'created_at': datetime.datetime(2023, 2, 21, 7, 25, 6, tzinfo=tzlocal()),\n",
       "                  'description': None,\n",
       "                  'id': '45c2654b-cee3-4854-a51b-f6f71ff2df6f',\n",
       "                  'name': 'kubeflow-hands-on',\n",
       "                  'resource_references': [{'key': {'id': 'henrik-steude',\n",
       "                                                   'type': 'NAMESPACE'},\n",
       "                                           'name': None,\n",
       "                                           'relationship': 'OWNER'}],\n",
       "                  'storage_state': 'STORAGESTATE_AVAILABLE'},\n",
       "                 {'created_at': datetime.datetime(2023, 2, 28, 8, 18, 18, tzinfo=tzlocal()),\n",
       "                  'description': None,\n",
       "                  'id': '5017d2f8-d2f4-4cbc-86ca-4071ab132cb3',\n",
       "                  'name': 'eclss-anomaly-detection',\n",
       "                  'resource_references': [{'key': {'id': 'henrik-steude',\n",
       "                                                   'type': 'NAMESPACE'},\n",
       "                                           'name': None,\n",
       "                                           'relationship': 'OWNER'}],\n",
       "                  'storage_state': 'STORAGESTATE_AVAILABLE'},\n",
       "                 {'created_at': datetime.datetime(2023, 3, 13, 12, 25, 6, tzinfo=tzlocal()),\n",
       "                  'description': None,\n",
       "                  'id': 'd53f7b43-397c-435b-83bc-7694d8fcafaa',\n",
       "                  'name': 'Default',\n",
       "                  'resource_references': [{'key': {'id': 'henrik-steude',\n",
       "                                                   'type': 'NAMESPACE'},\n",
       "                                           'name': None,\n",
       "                                           'relationship': 'OWNER'}],\n",
       "                  'storage_state': 'STORAGESTATE_AVAILABLE'},\n",
       "                 {'created_at': datetime.datetime(2023, 3, 13, 12, 58, 50, tzinfo=tzlocal()),\n",
       "                  'description': None,\n",
       "                  'id': '2b5a25ce-4c03-490e-af59-a7978c6fc23c',\n",
       "                  'name': 'parallel-for-experiments-again',\n",
       "                  'resource_references': [{'key': {'id': 'henrik-steude',\n",
       "                                                   'type': 'NAMESPACE'},\n",
       "                                           'name': None,\n",
       "                                           'relationship': 'OWNER'}],\n",
       "                  'storage_state': 'STORAGESTATE_AVAILABLE'},\n",
       "                 {'created_at': datetime.datetime(2023, 3, 24, 5, 46, 45, tzinfo=tzlocal()),\n",
       "                  'description': None,\n",
       "                  'id': 'cd2163b6-2004-4de6-b7ff-dfc26b23a0db',\n",
       "                  'name': 'Pytorch-examples',\n",
       "                  'resource_references': [{'key': {'id': 'henrik-steude',\n",
       "                                                   'type': 'NAMESPACE'},\n",
       "                                           'name': None,\n",
       "                                           'relationship': 'OWNER'}],\n",
       "                  'storage_state': 'STORAGESTATE_AVAILABLE'}],\n",
       " 'next_page_token': None,\n",
       " 'total_size': 6}"
      ]
     },
     "execution_count": 5,
     "metadata": {},
     "output_type": "execute_result"
    }
   ],
   "source": [
    "client.list_experiments()"
   ]
  },
  {
   "cell_type": "code",
   "execution_count": null,
   "id": "9bfc7020-d53d-418d-9bbf-6839c38aee21",
   "metadata": {},
   "outputs": [],
   "source": []
  }
 ],
 "metadata": {
  "kernelspec": {
   "display_name": "Python 3 (ipykernel)",
   "language": "python",
   "name": "python3"
  },
  "language_info": {
   "codemirror_mode": {
    "name": "ipython",
    "version": 3
   },
   "file_extension": ".py",
   "mimetype": "text/x-python",
   "name": "python",
   "nbconvert_exporter": "python",
   "pygments_lexer": "ipython3",
   "version": "3.9.7"
  }
 },
 "nbformat": 4,
 "nbformat_minor": 5
}
