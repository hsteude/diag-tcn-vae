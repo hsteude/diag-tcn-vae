{
 "cells": [
  {
   "cell_type": "code",
   "execution_count": null,
   "id": "9e241eb4-b2c7-412a-80fe-6a37329171ca",
   "metadata": {
    "tags": []
   },
   "outputs": [],
   "source": [
    "import os\n",
    "os.chdir('..')"
   ]
  },
  {
   "cell_type": "code",
   "execution_count": null,
   "id": "e705fedd-79f2-4876-a296-1d511cc387e0",
   "metadata": {
    "tags": []
   },
   "outputs": [],
   "source": [
    "import numpy as np\n",
    "import pandas as pd\n",
    "import matplotlib.pyplot as plt\n",
    "from scipy import signal\n",
    "from sklearn.preprocessing import StandardScaler\n",
    "import matplotlib.pyplot as plt\n",
    "np.random.seed(3)"
   ]
  },
  {
   "cell_type": "markdown",
   "id": "ab4c26d2-c398-4d7f-9118-bb6d36f52bbb",
   "metadata": {},
   "source": [
    "## Components"
   ]
  },
  {
   "cell_type": "markdown",
   "id": "eef59e6c-6716-4e5e-99ad-86dafe560575",
   "metadata": {},
   "source": [
    "# What do i want to show?\n",
    "1. The model fit of a holistic autoencoder-predictor is better than the one which is fittet on a single components data. This is due to the fact, that one component has an influence on the other.\n",
    "    - simulate three signals representing whether the component is active or not (causal factor of variation in the data)\n",
    "    - simulate one or two signals for each components, relying on all the component signals with time lag.\n",
    "    - Train two models:\n",
    "        - For the somponents signals only\n",
    "        - For all the components\n",
    "2. The symptom can be localized better if we train individual decoder-predictors, than if we use the holistic decoder.\n",
    "   - simulate a failure (e.g. one of the signals does not turn on even though the component is switched on.\n",
    "   - Show, that the model fit of the individual models is capable of localizing the fault, wheras the holistic model is not.\n"
   ]
  },
  {
   "cell_type": "markdown",
   "id": "eb8c76bd-8de9-4d9f-b579-44dd5a4ef755",
   "metadata": {},
   "source": [
    "## test dataset"
   ]
  },
  {
   "cell_type": "code",
   "execution_count": null,
   "id": "0ac04f2f-4b49-45e4-8cfe-cdf824503570",
   "metadata": {
    "tags": []
   },
   "outputs": [],
   "source": [
    "from diag_vae.datamodule import DiagTsDataset"
   ]
  },
  {
   "cell_type": "code",
   "execution_count": null,
   "id": "91e57a88-9aae-472c-8d54-5a5ed8a7b8b6",
   "metadata": {
    "tags": []
   },
   "outputs": [],
   "source": [
    "SEQ_LEN = 1000\n",
    "COLS = [f\"sig_{i+1}\" for i in range(6)]\n",
    "COLS_COMP_A = COLS[0:3] \n",
    "COLS_COMP_B = COLS[3:6] \n",
    "\n",
    "ds = DiagTsDataset(data_path='data/trainin_data.csv',\n",
    "                   seq_len=SEQ_LEN,\n",
    "                   cols=COLS,\n",
    "                   comp_a_cols=COLS_COMP_A,\n",
    "                   comp_b_cols=COLS_COMP_B)"
   ]
  },
  {
   "cell_type": "code",
   "execution_count": null,
   "id": "efc02eec-2138-4b59-a4d2-6c2a932a8a37",
   "metadata": {
    "tags": []
   },
   "outputs": [],
   "source": [
    "ds.__getitem__(3)[1].shape"
   ]
  },
  {
   "cell_type": "code",
   "execution_count": null,
   "id": "fc87a9ea-fce5-425a-a5fd-0eabfc73113b",
   "metadata": {
    "tags": []
   },
   "outputs": [],
   "source": [
    "plt.plot(ds.__getitem__(500)[0].numpy().T)"
   ]
  },
  {
   "cell_type": "code",
   "execution_count": null,
   "id": "c8a1fd4c-af1b-405d-84ed-c177f902f2e9",
   "metadata": {
    "tags": []
   },
   "outputs": [],
   "source": [
    "plt.plot(ds.__getitem__(500)[1].numpy().T)"
   ]
  },
  {
   "cell_type": "markdown",
   "id": "0ac2cdcc-854a-4ddb-b2c3-40dc57fdb3ce",
   "metadata": {},
   "source": [
    "## test data module"
   ]
  },
  {
   "cell_type": "code",
   "execution_count": null,
   "id": "642f3f7e-b522-46f9-a922-891449a0baa9",
   "metadata": {
    "tags": []
   },
   "outputs": [],
   "source": [
    "from diag_vae.datamodule import DiagTsDataModule"
   ]
  },
  {
   "cell_type": "code",
   "execution_count": null,
   "id": "39f5bf88-5618-441a-8600-5273918765d3",
   "metadata": {
    "tags": []
   },
   "outputs": [],
   "source": [
    "dm = DiagTsDataModule(    \n",
    "        data_path=\"data/trainin_data.csv\",\n",
    "        seq_len=SEQ_LEN,\n",
    "        cols=COLS,\n",
    "    )\n",
    "x , x_a, x_b= next(iter(dm.train_dataloader()))"
   ]
  },
  {
   "cell_type": "code",
   "execution_count": null,
   "id": "91c0aea2-06ac-4a06-b889-68783034f77e",
   "metadata": {
    "tags": []
   },
   "outputs": [],
   "source": [
    "index = 6\n",
    "plt.plot(x[index, :, :].numpy().T)"
   ]
  },
  {
   "cell_type": "markdown",
   "id": "d40b6cff-dc2c-421a-bdbb-0373e931bec4",
   "metadata": {},
   "source": [
    "## check model output"
   ]
  },
  {
   "cell_type": "code",
   "execution_count": null,
   "id": "52003e97-a681-4610-bde1-1e9fe6abcfdf",
   "metadata": {
    "tags": []
   },
   "outputs": [],
   "source": [
    "from diag_vae.vanilla_tcn_ae import VanillaTcnAE\n"
   ]
  },
  {
   "cell_type": "code",
   "execution_count": null,
   "id": "86b86951-0c33-4913-a00e-44a1d510b199",
   "metadata": {
    "tags": []
   },
   "outputs": [],
   "source": [
    "loggs_dir = 'logs/vanilla_tcn_ae/version_0//checkpoints'\n",
    "checkpoint = os.path.join(loggs_dir, f'{os.listdir(loggs_dir)[0]}')\n",
    "checkpoint\n",
    "model = VanillaTcnAE.load_from_checkpoint(checkpoint)\n",
    "\n",
    "z = model.encode(x)\n",
    "x_hat = model.decode(z)\n"
   ]
  },
  {
   "cell_type": "code",
   "execution_count": null,
   "id": "58406dfe-cbd6-44f4-93e7-78d86bbfffc1",
   "metadata": {
    "tags": []
   },
   "outputs": [],
   "source": [
    "for index in range(10, 18):\n",
    "    fig, axs = plt.subplots(2, 2, sharey='all')\n",
    "    axs[0, 0].plot(sample_x[index, :, :].detach().numpy().T)\n",
    "    axs[1, 0].plot(sample_x_hat[index, :, :].detach().numpy().T)\n",
    "    axs[0, 1].plot(sample_y[index, :, :].detach().numpy().T)\n",
    "    axs[1, 1].plot(sample_y_hat[index, :, :].detach().numpy().T)\n",
    "    print(index)\n",
    "    fig.show()"
   ]
  },
  {
   "cell_type": "code",
   "execution_count": null,
   "id": "5d92fde6-4007-4b50-8ff3-33bf4001ccb3",
   "metadata": {},
   "outputs": [],
   "source": []
  },
  {
   "cell_type": "code",
   "execution_count": null,
   "id": "fa3385d6-8d0a-45ac-a232-8c426a3d3fa6",
   "metadata": {},
   "outputs": [],
   "source": []
  }
 ],
 "metadata": {
  "kernelspec": {
   "display_name": "diag-tcn",
   "language": "python",
   "name": "diag-tcn"
  },
  "language_info": {
   "codemirror_mode": {
    "name": "ipython",
    "version": 3
   },
   "file_extension": ".py",
   "mimetype": "text/x-python",
   "name": "python",
   "nbconvert_exporter": "python",
   "pygments_lexer": "ipython3",
   "version": "3.10.8"
  }
 },
 "nbformat": 4,
 "nbformat_minor": 5
}
